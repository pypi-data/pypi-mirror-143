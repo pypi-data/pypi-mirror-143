{
 "cells": [
  {
   "cell_type": "markdown",
   "id": "d4d479ca",
   "metadata": {},
   "source": [
    "# Introduction"
   ]
  },
  {
   "cell_type": "markdown",
   "id": "f17a846a",
   "metadata": {},
   "source": [
    "Lorem ipsum dolor sit amet, consectetur adipiscing elit, sed do eiusmod tempor incididunt ut labore et dolore magna aliqua. Ut enim ad minim veniam, quis nostrud exercitation ullamco laboris nisi ut aliquip ex ea commodo consequat. Duis aute irure dolor in reprehenderit in voluptate velit esse cillum dolore eu fugiat nulla pariatur. Excepteur sint occaecat cupidatat non proident, sunt in culpa qui officia deserunt mollit anim id est laborum.\n",
    "\n",
    "\n",
    "<img src='./image.png' style='width:400px'>"
   ]
  },
  {
   "cell_type": "code",
   "execution_count": 2,
   "id": "bbf0d68b",
   "metadata": {
    "ExecuteTime": {
     "end_time": "2021-09-28T02:04:10.767414Z",
     "start_time": "2021-09-28T02:04:10.763843Z"
    }
   },
   "outputs": [],
   "source": [
    "from traitlets.config import Config\n",
    "\n",
    "class Example:\n",
    "    pass\n",
    "\n",
    "class Other:\n",
    "    pass\n",
    "\n",
    "c = Config()"
   ]
  },
  {
   "cell_type": "code",
   "execution_count": 4,
   "id": "811a6ae5",
   "metadata": {
    "ExecuteTime": {
     "end_time": "2021-09-28T02:04:29.784364Z",
     "start_time": "2021-09-28T02:04:29.781149Z"
    }
   },
   "outputs": [],
   "source": [
    "c.Example.something = 3\n",
    "c.Other.something = {3:2}"
   ]
  },
  {
   "cell_type": "code",
   "execution_count": 6,
   "id": "313fbb4d",
   "metadata": {
    "ExecuteTime": {
     "end_time": "2021-09-28T02:04:51.177156Z",
     "start_time": "2021-09-28T02:04:51.166131Z"
    }
   },
   "outputs": [
    {
     "data": {
      "text/plain": [
       "{}"
      ]
     },
     "execution_count": 6,
     "metadata": {},
     "output_type": "execute_result"
    }
   ],
   "source": [
    "c.get('not_there', {})"
   ]
  },
  {
   "cell_type": "code",
   "execution_count": 5,
   "id": "8f70840f",
   "metadata": {
    "ExecuteTime": {
     "end_time": "2021-09-28T01:50:50.841669Z",
     "start_time": "2021-09-28T01:50:50.838515Z"
    }
   },
   "outputs": [
    {
     "name": "stdout",
     "output_type": "stream",
     "text": [
      "2\n"
     ]
    }
   ],
   "source": [
    "if x.traits:\n",
    "    print(2)"
   ]
  },
  {
   "cell_type": "code",
   "execution_count": 4,
   "id": "699e5db1",
   "metadata": {},
   "outputs": [
    {
     "data": {
      "image/png": "[encoded data removed]",
      "text/plain": [
       "<Figure size 432x288 with 1 Axes>"
      ]
     },
     "metadata": {
      "needs_background": "light"
     },
     "output_type": "display_data"
    }
   ],
   "source": [
    "import matplotlib.pyplot as plt\n",
    "\n",
    "plt.plot([1,2,3], [1,2,3]);"
   ]
  },
  {
   "cell_type": "code",
   "execution_count": null,
   "id": "4a0d6f5e",
   "metadata": {},
   "outputs": [],
   "source": [
    "#__SOLUTION__\n",
    "import matplotlib.pyplot as plt\n",
    "\n",
    "plt.plot([1,2,3], [1,2,3]);"
   ]
  },
  {
   "cell_type": "markdown",
   "id": "c0ced1d2",
   "metadata": {},
   "source": [
    "### Subheader"
   ]
  },
  {
   "cell_type": "code",
   "execution_count": 7,
   "id": "474d1dad",
   "metadata": {},
   "outputs": [],
   "source": [
    "# Your code here"
   ]
  },
  {
   "cell_type": "code",
   "execution_count": 6,
   "id": "190db956",
   "metadata": {},
   "outputs": [
    {
     "data": {
      "image/png": "[encoded data removed]",
      "text/plain": [
       "<Figure size 432x288 with 1 Axes>"
      ]
     },
     "metadata": {
      "needs_background": "light"
     },
     "output_type": "display_data"
    }
   ],
   "source": [
    "#__SOLUTION__\n",
    "plt.bar(['1', '2', '3'], [1,2,3]);"
   ]
  }
 ],
 "metadata": {
  "kernelspec": {
   "display_name": "Python 3 (ipykernel)",
   "language": "python",
   "name": "python3"
  },
  "language_info": {
   "codemirror_mode": {
    "name": "ipython",
    "version": 3
   },
   "file_extension": ".py",
   "mimetype": "text/x-python",
   "name": "python",
   "nbconvert_exporter": "python",
   "pygments_lexer": "ipython3",
   "version": "3.9.7"
  },
  "toc": {
   "base_numbering": 1,
   "nav_menu": {},
   "number_sections": false,
   "sideBar": true,
   "skip_h1_title": true,
   "title_cell": "Table of Contents",
   "title_sidebar": "Contents",
   "toc_cell": false,
   "toc_position": {},
   "toc_section_display": true,
   "toc_window_display": false
  },
  "varInspector": {
   "cols": {
    "lenName": 16,
    "lenType": 16,
    "lenVar": 40
   },
   "kernels_config": {
    "python": {
     "delete_cmd_postfix": "",
     "delete_cmd_prefix": "del ",
     "library": "var_list.py",
     "varRefreshCmd": "print(var_dic_list())"
    },
    "r": {
     "delete_cmd_postfix": ") ",
     "delete_cmd_prefix": "rm(",
     "library": "var_list.r",
     "varRefreshCmd": "cat(var_dic_list()) "
    }
   },
   "types_to_exclude": [
    "module",
    "function",
    "builtin_function_or_method",
    "instance",
    "_Feature"
   ],
   "window_display": false
  }
 },
 "nbformat": 4,
 "nbformat_minor": 5
}
