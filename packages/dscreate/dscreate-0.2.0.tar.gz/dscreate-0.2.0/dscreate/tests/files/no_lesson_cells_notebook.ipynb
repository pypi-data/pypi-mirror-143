{
 "cells": [
  {
   "cell_type": "code",
   "execution_count": 2,
   "id": "eff4f762",
   "metadata": {
    "ExecuteTime": {
     "end_time": "2021-09-27T20:13:53.055401Z",
     "start_time": "2021-09-27T20:13:53.050982Z"
    }
   },
   "outputs": [
    {
     "data": {
      "text/plain": [
       "'\\nThis is a solution cell\\n'"
      ]
     },
     "execution_count": 2,
     "metadata": {},
     "output_type": "execute_result"
    }
   ],
   "source": [
    "#__SOLUTION__\n",
    "\n",
    "'''\n",
    "This is a solution cell\n",
    "'''"
   ]
  },
  {
   "cell_type": "code",
   "execution_count": 1,
   "id": "5f031dca",
   "metadata": {
    "ExecuteTime": {
     "end_time": "2021-09-27T20:13:51.250180Z",
     "start_time": "2021-09-27T20:13:51.225249Z"
    }
   },
   "outputs": [
    {
     "data": {
      "text/plain": [
       "'\\nAnother solution cell\\n'"
      ]
     },
     "execution_count": 1,
     "metadata": {},
     "output_type": "execute_result"
    }
   ],
   "source": [
    "#==SOLUTION==\n",
    "\n",
    "'''\n",
    "Another solution cell\n",
    "'''"
   ]
  },
  {
   "cell_type": "markdown",
   "id": "9f02b396",
   "metadata": {},
   "source": [
    "==SOLUTION==\n",
    "\n",
    "This is also a solution cell!"
   ]
  }
 ],
 "metadata": {
  "kernelspec": {
   "display_name": "threesix",
   "language": "python",
   "name": "threesix"
  },
  "language_info": {
   "codemirror_mode": {
    "name": "ipython",
    "version": 3
   },
   "file_extension": ".py",
   "mimetype": "text/x-python",
   "name": "python",
   "nbconvert_exporter": "python",
   "pygments_lexer": "ipython3",
   "version": "3.6.12"
  },
  "toc": {
   "base_numbering": 1,
   "nav_menu": {},
   "number_sections": false,
   "sideBar": true,
   "skip_h1_title": true,
   "title_cell": "Table of Contents",
   "title_sidebar": "Contents",
   "toc_cell": false,
   "toc_position": {},
   "toc_section_display": true,
   "toc_window_display": false
  },
  "varInspector": {
   "cols": {
    "lenName": 16,
    "lenType": 16,
    "lenVar": 40
   },
   "kernels_config": {
    "python": {
     "delete_cmd_postfix": "",
     "delete_cmd_prefix": "del ",
     "library": "var_list.py",
     "varRefreshCmd": "print(var_dic_list())"
    },
    "r": {
     "delete_cmd_postfix": ") ",
     "delete_cmd_prefix": "rm(",
     "library": "var_list.r",
     "varRefreshCmd": "cat(var_dic_list()) "
    }
   },
   "types_to_exclude": [
    "module",
    "function",
    "builtin_function_or_method",
    "instance",
    "_Feature"
   ],
   "window_display": false
  }
 },
 "nbformat": 4,
 "nbformat_minor": 5
}
