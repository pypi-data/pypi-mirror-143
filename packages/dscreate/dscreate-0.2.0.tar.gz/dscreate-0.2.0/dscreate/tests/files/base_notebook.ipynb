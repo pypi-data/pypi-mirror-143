{
 "cells": [
  {
   "cell_type": "markdown",
   "id": "23afcf60",
   "metadata": {},
   "source": [
    "# Markdown cell\n",
    "\n",
    "This is a non solution markdown cell."
   ]
  },
  {
   "cell_type": "code",
   "execution_count": 1,
   "id": "ca96e3b7",
   "metadata": {},
   "outputs": [
    {
     "data": {
      "text/plain": [
       "'This is a non solution code cell'"
      ]
     },
     "execution_count": 1,
     "metadata": {},
     "output_type": "execute_result"
    }
   ],
   "source": [
    "'This is a non solution code cell'"
   ]
  },
  {
   "cell_type": "code",
   "execution_count": 2,
   "id": "597b0102",
   "metadata": {},
   "outputs": [
    {
     "data": {
      "text/plain": [
       "'This is a solution code cell'"
      ]
     },
     "execution_count": 2,
     "metadata": {},
     "output_type": "execute_result"
    }
   ],
   "source": [
    "#==SOLUTION==\n",
    "\n",
    "'This is a solution code cell'"
   ]
  },
  {
   "cell_type": "markdown",
   "id": "4e2bc8d9",
   "metadata": {},
   "source": [
    "==SOLUTION==\n",
    "\n",
    "This is a markdown solution cell"
   ]
  },
  {
   "cell_type": "code",
   "execution_count": 3,
   "id": "9a1d3502",
   "metadata": {},
   "outputs": [
    {
     "data": {
      "text/plain": [
       "'This is a solution code cell with a solution tag placed below the first line'"
      ]
     },
     "execution_count": 3,
     "metadata": {},
     "output_type": "execute_result"
    }
   ],
   "source": [
    "'This is a solution code cell with a solution tag placed below the first line'\n",
    "\n",
    "#==SOLUTION=="
   ]
  },
  {
   "cell_type": "markdown",
   "id": "dcd273fb",
   "metadata": {},
   "source": [
    "### This is a markdown cell with with a solution tag placed below the first line\n",
    "\n",
    "==SOLUTION=="
   ]
  },
  {
   "cell_type": "markdown",
   "id": "5efd2525",
   "metadata": {},
   "source": [
    "An empty cell is below!"
   ]
  },
  {
   "cell_type": "code",
   "execution_count": null,
   "id": "99868ae0",
   "metadata": {},
   "outputs": [],
   "source": []
  }
 ],
 "metadata": {
  "kernelspec": {
   "display_name": "threesix",
   "language": "python",
   "name": "threesix"
  },
  "language_info": {
   "codemirror_mode": {
    "name": "ipython",
    "version": 3
   },
   "file_extension": ".py",
   "mimetype": "text/x-python",
   "name": "python",
   "nbconvert_exporter": "python",
   "pygments_lexer": "ipython3",
   "version": "3.6.12"
  },
  "toc": {
   "base_numbering": 1,
   "nav_menu": {},
   "number_sections": false,
   "sideBar": true,
   "skip_h1_title": true,
   "title_cell": "Table of Contents",
   "title_sidebar": "Contents",
   "toc_cell": false,
   "toc_position": {},
   "toc_section_display": true,
   "toc_window_display": false
  },
  "varInspector": {
   "cols": {
    "lenName": 16,
    "lenType": 16,
    "lenVar": 40
   },
   "kernels_config": {
    "python": {
     "delete_cmd_postfix": "",
     "delete_cmd_prefix": "del ",
     "library": "var_list.py",
     "varRefreshCmd": "print(var_dic_list())"
    },
    "r": {
     "delete_cmd_postfix": ") ",
     "delete_cmd_prefix": "rm(",
     "library": "var_list.r",
     "varRefreshCmd": "cat(var_dic_list()) "
    }
   },
   "types_to_exclude": [
    "module",
    "function",
    "builtin_function_or_method",
    "instance",
    "_Feature"
   ],
   "window_display": false
  }
 },
 "nbformat": 4,
 "nbformat_minor": 5
}
