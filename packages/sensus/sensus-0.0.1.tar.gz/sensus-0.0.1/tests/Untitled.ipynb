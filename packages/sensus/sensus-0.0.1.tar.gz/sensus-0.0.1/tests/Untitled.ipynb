{
 "cells": [
  {
   "cell_type": "code",
   "execution_count": 1,
   "id": "4d886c82",
   "metadata": {},
   "outputs": [
    {
     "ename": "ModuleNotFoundError",
     "evalue": "No module named 'template'",
     "output_type": "error",
     "traceback": [
      "\u001b[1;31m---------------------------------------------------------------------------\u001b[0m",
      "\u001b[1;31mModuleNotFoundError\u001b[0m                       Traceback (most recent call last)",
      "\u001b[1;32m~\\AppData\\Local\\Temp/ipykernel_5772/1189124935.py\u001b[0m in \u001b[0;36m<module>\u001b[1;34m\u001b[0m\n\u001b[1;32m----> 1\u001b[1;33m \u001b[1;32mimport\u001b[0m \u001b[0mtemplate\u001b[0m\u001b[1;33m\u001b[0m\u001b[1;33m\u001b[0m\u001b[0m\n\u001b[0m",
      "\u001b[1;31mModuleNotFoundError\u001b[0m: No module named 'template'"
     ]
    }
   ],
   "source": [
    "import template"
   ]
  },
  {
   "cell_type": "code",
   "execution_count": 6,
   "id": "17750df9",
   "metadata": {},
   "outputs": [
    {
     "name": "stdout",
     "output_type": "stream",
     "text": [
      " Volume in drive C has no label.\n",
      " Volume Serial Number is 66E3-E82A\n",
      "\n",
      " Directory of C:\\Users\\frzd\\Desktop\\drive\\gitlab\\zlion\\Adler\\template\\tests\n",
      "\n",
      "23-Mar-22  05:37 AM    <DIR>          .\n",
      "23-Mar-22  05:37 AM    <DIR>          ..\n",
      "23-Mar-22  03:57 AM    <DIR>          .ipynb_checkpoints\n",
      "23-Mar-22  01:55 AM    <DIR>          ApiTest\n",
      "23-Mar-22  03:29 AM    <DIR>          UnitTest\n",
      "23-Mar-22  05:37 AM             1,674 Untitled.ipynb\n",
      "               1 File(s)          1,674 bytes\n",
      "               5 Dir(s)  71,997,202,432 bytes free\n"
     ]
    }
   ],
   "source": []
  }
 ],
 "metadata": {
  "kernelspec": {
   "display_name": "Python 3 (ipykernel)",
   "language": "python",
   "name": "python3"
  },
  "language_info": {
   "codemirror_mode": {
    "name": "ipython",
    "version": 3
   },
   "file_extension": ".py",
   "mimetype": "text/x-python",
   "name": "python",
   "nbconvert_exporter": "python",
   "pygments_lexer": "ipython3",
   "version": "3.9.7"
  }
 },
 "nbformat": 4,
 "nbformat_minor": 5
}
