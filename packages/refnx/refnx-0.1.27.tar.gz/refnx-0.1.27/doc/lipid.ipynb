{
 "cells": [
  {
   "cell_type": "markdown",
   "metadata": {},
   "source": [
    "# Analysing lipid membrane data"
   ]
  },
  {
   "cell_type": "markdown",
   "metadata": {},
   "source": [
    "This Jupyter notebook demonstrates the utility of the *refnx* for:\n",
    "\n",
    " - the co-refinement of three contrast variation datasets of a DMPC (1,2-dimyristoyl-sn-glycero-3-phosphocholine) bilayer measured at the solid-liquid interface with a common model\n",
    " - the use of the `LipidLeaflet` component to parameterise the model in terms of physically relevant parameters\n",
    " - the use of Bayesian Markov Chain Monte Carlo (MCMC) to investigate the Posterior distribution of the curvefitting system.\n",
    " - the intrinsic usefulness of Jupyter notebooks to facilitate reproducible research in scientific data analysis"
   ]
  },
  {
   "cell_type": "markdown",
   "metadata": {},
   "source": [
    "The first step in most Python scripts is to import modules and functions that are going to be used"
   ]
  },
  {
   "cell_type": "code",
   "execution_count": 1,
   "metadata": {},
   "outputs": [],
   "source": [
    "# use matplotlib for plotting\n",
    "%matplotlib inline\n",
    "import matplotlib.pyplot as plt\n",
    "import numpy as np\n",
    "import os.path\n",
    "\n",
    "import refnx, scipy\n",
    "\n",
    "# the analysis module contains the curvefitting engine\n",
    "from refnx.analysis import CurveFitter, Objective, Parameter, GlobalObjective, process_chain\n",
    "\n",
    "# the reflect module contains functionality relevant to reflectometry\n",
    "from refnx.reflect import SLD, ReflectModel, Structure, LipidLeaflet\n",
    "\n",
    "# the ReflectDataset object will contain the data\n",
    "from refnx.dataset import ReflectDataset"
   ]
  },
  {
   "cell_type": "markdown",
   "metadata": {},
   "source": [
    "In order for the analysis to be exactly reproducible the same package versions must be used. The *conda* packaging manager, and *pip*, can be used to ensure this is the case."
   ]
  },
  {
   "cell_type": "code",
   "execution_count": 2,
   "metadata": {},
   "outputs": [
    {
     "data": {
      "text/plain": [
       "('0.1.23.dev0+1b59a5a', '1.7.1')"
      ]
     },
     "execution_count": 2,
     "metadata": {},
     "output_type": "execute_result"
    }
   ],
   "source": [
    "# version numbers used in this analysis\n",
    "refnx.version.version, scipy.version.version"
   ]
  },
  {
   "cell_type": "markdown",
   "metadata": {},
   "source": [
    "The `ReflectDataset` class is used to represent a dataset. They can be constructed by supplying a filename"
   ]
  },
  {
   "cell_type": "code",
   "execution_count": 3,
   "metadata": {},
   "outputs": [],
   "source": [
    "pth = os.path.join(os.path.dirname(refnx.__file__), 'analysis', 'test')\n",
    "\n",
    "data_d2o = ReflectDataset(os.path.join(pth, 'c_PLP0016596.dat'))\n",
    "data_d2o.name = \"d2o\"\n",
    "\n",
    "data_hdmix = ReflectDataset(os.path.join(pth, 'c_PLP0016601.dat'))\n",
    "data_hdmix.name = \"hdmix\"\n",
    "\n",
    "data_h2o = ReflectDataset(os.path.join(pth, 'c_PLP0016607.dat'))\n",
    "data_h2o.name = \"h2o\""
   ]
  },
  {
   "cell_type": "markdown",
   "metadata": {},
   "source": [
    "A `SLD` object is used to represent the Scattering Length Density of a material. It has `real` and `imag` attributes because the SLD is a complex number, with the imaginary part accounting for absorption. The units of SLD are $10^{-6} \\mathring{A}^{-2}$\n",
    "\n",
    "The `real` and `imag` attributes are `Parameter` objects. These `Parameter` objects contain the: parameter value, whether it allowed to vary, any interparameter constraints, and bounds applied to the parameter. The bounds applied to a parameter are probability distributions which encode the log-prior probability of the parameter having a certain value."
   ]
  },
  {
   "cell_type": "code",
   "execution_count": 4,
   "metadata": {},
   "outputs": [],
   "source": [
    "si = SLD(2.07 + 0j)\n",
    "sio2 = SLD(3.47 + 0j)\n",
    "\n",
    "# the following represent the solvent contrasts used in the experiment\n",
    "d2o = SLD(6.36 + 0j)\n",
    "h2o = SLD(-0.56 + 0j)\n",
    "hdmix = SLD(2.07 + 0j)\n",
    "\n",
    "# We want the `real` attribute parameter to vary in the analysis, and we want to apply\n",
    "# uniform bounds. The `setp` method of a Parameter is a way of changing many aspects of\n",
    "# Parameter behaviour at once.\n",
    "d2o.real.setp(vary=True, bounds=(6.1, 6.36))\n",
    "d2o.real.name='d2o SLD'"
   ]
  },
  {
   "cell_type": "markdown",
   "metadata": {},
   "source": [
    "The `LipidLeaflet` class is used to describe a single lipid leaflet in our interfacial model. A leaflet consists of a head and tail group region. Since we are studying a bilayer then inner and outer `LipidLeaflet`'s are required."
   ]
  },
  {
   "cell_type": "code",
   "execution_count": 5,
   "metadata": {},
   "outputs": [],
   "source": [
    "# Parameter for the area per molecule each DMPC molecule occupies at the surface. We\n",
    "# use the same area per molecule for the inner and outer leaflets.\n",
    "apm = Parameter(56, 'area per molecule', vary=True, bounds=(52, 65))\n",
    "\n",
    "# the sum of scattering lengths for the lipid head and tail in Angstrom.\n",
    "b_heads = Parameter(6.01e-4, 'b_heads')\n",
    "b_tails = Parameter(-2.92e-4, 'b_tails')\n",
    "\n",
    "# the volume occupied by the head and tail groups in cubic Angstrom.\n",
    "v_heads = Parameter(319, 'v_heads')\n",
    "v_tails = Parameter(782, 'v_tails')\n",
    "\n",
    "# the head and tail group thicknesses.\n",
    "inner_head_thickness = Parameter(9, 'inner_head_thickness', vary=True, bounds=(4, 11))\n",
    "outer_head_thickness = Parameter(9, 'outer_head_thickness', vary=True, bounds=(4, 11))\n",
    "tail_thickness = Parameter(14, 'tail_thickness', vary=True, bounds=(10, 17))\n",
    "\n",
    "# finally construct a `LipidLeaflet` object for the inner and outer leaflets.\n",
    "# Note that here the inner and outer leaflets use the same area per molecule,\n",
    "# same tail thickness, etc, but this is not necessary if the inner and outer\n",
    "# leaflets are different.\n",
    "inner_leaflet = LipidLeaflet(apm,\n",
    "                             b_heads, v_heads, inner_head_thickness,\n",
    "                             b_tails, v_tails, tail_thickness,\n",
    "                             3, 3)\n",
    "\n",
    "# we reverse the monolayer for the outer leaflet because the tail groups face upwards\n",
    "outer_leaflet = LipidLeaflet(apm,\n",
    "                             b_heads, v_heads, outer_head_thickness,\n",
    "                             b_tails, v_tails, tail_thickness,\n",
    "                             3, 0, reverse_monolayer=True)"
   ]
  },
  {
   "cell_type": "markdown",
   "metadata": {},
   "source": [
    "The `Slab` Component represents a layer of uniform scattering length density of a given thickness in our interfacial model. Here we make `Slabs` from `SLD` objects, but other approaches are possible."
   ]
  },
  {
   "cell_type": "code",
   "execution_count": 6,
   "metadata": {},
   "outputs": [],
   "source": [
    "# Slab constructed from SLD object.\n",
    "sio2_slab = sio2(15, 3)\n",
    "sio2_slab.thick.setp(vary=True, bounds=(2, 30))\n",
    "sio2_slab.thick.name = 'sio2 thickness'\n",
    "sio2_slab.rough.setp(vary=True, bounds=(0, 7))\n",
    "sio2_slab.rough.name = name='sio2 roughness'\n",
    "sio2_slab.vfsolv.setp(0.1, vary=True, bounds=(0., 0.5))\n",
    "sio2_slab.vfsolv.name = 'sio2 solvation'\n",
    "\n",
    "solv_roughness = Parameter(3, 'bilayer/solvent roughness')\n",
    "solv_roughness.setp(vary=True, bounds=(0, 5))"
   ]
  },
  {
   "cell_type": "markdown",
   "metadata": {},
   "source": [
    "Once all the `Component`s have been constructed we can chain them together to compose a `Structure` object. The `Structure` object represents the interfacial structure of our system. We create different `Structure`s for each contrast. It is important to note that each of the `Structure`s share many components, such as the `LipidLeaflet` objects. This means that parameters used to construct those components are shared between all the `Structure`s, which enables co-refinement of multiple datasets. An alternate way to carry this out would be to apply constraints to underlying parameters, but this way is clearer. Note that the final component for each structure is a `Slab` created from the solvent `SLD`s, we give those slabs a zero thickness."
   ]
  },
  {
   "cell_type": "code",
   "execution_count": 7,
   "metadata": {},
   "outputs": [],
   "source": [
    "s_d2o = si | sio2_slab | inner_leaflet | outer_leaflet | d2o(0, solv_roughness)\n",
    "s_hdmix = si | sio2_slab | inner_leaflet | outer_leaflet | hdmix(0, solv_roughness)\n",
    "s_h2o = si | sio2_slab | inner_leaflet | outer_leaflet | h2o(0, solv_roughness)"
   ]
  },
  {
   "cell_type": "markdown",
   "metadata": {},
   "source": [
    "The `Structure`s created in the previous step describe the interfacial structure, these structures are used to create `ReflectModel` objects that know how to apply resolution smearing, scaling factors and background."
   ]
  },
  {
   "cell_type": "code",
   "execution_count": 8,
   "metadata": {},
   "outputs": [],
   "source": [
    "model_d2o = ReflectModel(s_d2o)\n",
    "model_hdmix = ReflectModel(s_hdmix)\n",
    "model_h2o = ReflectModel(s_h2o)\n",
    "\n",
    "model_d2o.scale.setp(vary=True, bounds=(0.9, 1.1))\n",
    "\n",
    "model_d2o.bkg.setp(vary=True, bounds=(-1e-6, 1e-6))\n",
    "model_hdmix.bkg.setp(vary=True, bounds=(-1e-6, 1e-6))\n",
    "model_h2o.bkg.setp(vary=True, bounds=(-1e-6, 1e-6))"
   ]
  },
  {
   "cell_type": "markdown",
   "metadata": {},
   "source": [
    "An `Objective` is constructed from a `ReflectDataset` and `ReflectModel`. Amongst other things `Objective`s can calculate chi-squared, log-likelihood probability, log-prior probability, etc. We then combine all the individual `Objective`s into a `GlobalObjective`."
   ]
  },
  {
   "cell_type": "code",
   "execution_count": 9,
   "metadata": {},
   "outputs": [],
   "source": [
    "objective_d2o = Objective(model_d2o, data_d2o)\n",
    "objective_hdmix = Objective(model_hdmix, data_hdmix)\n",
    "objective_h2o = Objective(model_h2o, data_h2o)\n",
    "\n",
    "global_objective = GlobalObjective([objective_d2o, objective_hdmix, objective_h2o])"
   ]
  },
  {
   "cell_type": "markdown",
   "metadata": {},
   "source": [
    "A `CurveFitter` object can perform least squares fitting, or MCMC sampling on the `Objective` used to construct it."
   ]
  },
  {
   "cell_type": "code",
   "execution_count": 10,
   "metadata": {},
   "outputs": [],
   "source": [
    "fitter = CurveFitter(global_objective)"
   ]
  },
  {
   "cell_type": "markdown",
   "metadata": {},
   "source": [
    "We'll just do a normal least squares fit here. MCMC sampling is left as an exercise for the reader."
   ]
  },
  {
   "cell_type": "code",
   "execution_count": 11,
   "metadata": {},
   "outputs": [
    {
     "name": "stderr",
     "output_type": "stream",
     "text": [
      "53it [00:26,  1.67it/s]/Users/andrew/miniconda3/envs/dev3/lib/python3.8/site-packages/scipy/optimize/_numdiff.py:557: RuntimeWarning: invalid value encountered in subtract\n",
      "  df = fun(x) - f0\n",
      "53it [00:26,  1.98it/s]\n"
     ]
    }
   ],
   "source": [
    "fitter.fit('differential_evolution');"
   ]
  },
  {
   "cell_type": "code",
   "execution_count": 12,
   "metadata": {},
   "outputs": [
    {
     "data": {
      "image/png": "[encoded data removed]",
      "text/plain": [
       "<Figure size 432x288 with 1 Axes>"
      ]
     },
     "metadata": {
      "needs_background": "light"
     },
     "output_type": "display_data"
    }
   ],
   "source": [
    "global_objective.plot()\n",
    "plt.yscale('log')\n",
    "plt.xlabel('Q / $\\AA^{-1}$')\n",
    "plt.ylabel('Reflectivity')\n",
    "plt.legend();"
   ]
  },
  {
   "cell_type": "markdown",
   "metadata": {},
   "source": [
    "We can display out what the fit parameters are by printing out an objective:"
   ]
  },
  {
   "cell_type": "code",
   "execution_count": 13,
   "metadata": {},
   "outputs": [
    {
     "name": "stdout",
     "output_type": "stream",
     "text": [
      "_______________________________________________________________________________\n",
      "\n",
      "--Global Objective--\n",
      "________________________________________________________________________________\n",
      "Objective - 140312336727488\n",
      "Dataset = d2o\n",
      "datapoints = 137\n",
      "chi2 = 417.78640890990016\n",
      "Weighted = True\n",
      "Transform = None\n",
      "________________________________________________________________________________\n",
      "Parameters:       ''       \n",
      "________________________________________________________________________________\n",
      "Parameters: 'instrument parameters'\n",
      "<Parameter:    'scale'    , value=1.03184 +/- 0.00368, bounds=[0.9, 1.1]>\n",
      "<Parameter:     'bkg'     , value=-6.60703e-08 +/- 1.05e-07, bounds=[-1e-06, 1e-06]>\n",
      "<Parameter:'dq - resolution', value=5 (fixed)  , bounds=[-inf, inf]>\n",
      "<Parameter:  'q_offset'   , value=0 (fixed)  , bounds=[-inf, inf]>\n",
      "________________________________________________________________________________\n",
      "Parameters: 'Structure - ' \n",
      "________________________________________________________________________________\n",
      "Parameters:       ''       \n",
      "<Parameter:  ' - thick'   , value=0 (fixed)  , bounds=[-inf, inf]>\n",
      "<Parameter:   ' - sld'    , value=2.07 (fixed)  , bounds=[-inf, inf]>\n",
      "<Parameter:   ' - isld'   , value=0 (fixed)  , bounds=[-inf, inf]>\n",
      "<Parameter:  ' - rough'   , value=0 (fixed)  , bounds=[-inf, inf]>\n",
      "<Parameter:' - volfrac solvent', value=0 (fixed)  , bounds=[0.0, 1.0]>\n",
      "________________________________________________________________________________\n",
      "Parameters:       ''       \n",
      "<Parameter:'sio2 thickness', value=11.9604 +/- 0.23 , bounds=[2.0, 30.0]>\n",
      "<Parameter:   ' - sld'    , value=3.47 (fixed)  , bounds=[-inf, inf]>\n",
      "<Parameter:   ' - isld'   , value=0 (fixed)  , bounds=[-inf, inf]>\n",
      "<Parameter:'sio2 roughness', value=4.64994 +/- 0.704, bounds=[0.0, 7.0]>\n",
      "<Parameter:'sio2 solvation', value=0.12718 +/- 0.00815, bounds=[0.0, 0.5]>\n",
      "________________________________________________________________________________\n",
      "Parameters:       ''       \n",
      "<Parameter:'area per molecule', value=57.2217 +/- 0.246, bounds=[52.0, 65.0]>\n",
      "<Parameter:   'b_heads'   , value=0.000601 (fixed)  , bounds=[-inf, inf]>\n",
      "<Parameter:' - b_heads_imag', value=0 (fixed)  , bounds=[-inf, inf]>\n",
      "<Parameter:   'v_heads'   , value=319 (fixed)  , bounds=[-inf, inf]>\n",
      "<Parameter:'inner_head_thickness', value=9.7611 +/- 0.161, bounds=[4.0, 11.0]>\n",
      "<Parameter:   'b_tails'   , value=-0.000292 (fixed)  , bounds=[-inf, inf]>\n",
      "<Parameter:' - b_tails_imag', value=0 (fixed)  , bounds=[-inf, inf]>\n",
      "<Parameter:   'v_tails'   , value=782 (fixed)  , bounds=[-inf, inf]>\n",
      "<Parameter:'tail_thickness', value=13.6668 +/- 0.156, bounds=[10.0, 17.0]>\n",
      "<Parameter:' - rough_head_tail', value=3 (fixed)  , bounds=[-inf, inf]>\n",
      "<Parameter:' - rough_fronting_mono', value=3 (fixed)  , bounds=[-inf, inf]>\n",
      "________________________________________________________________________________\n",
      "Parameters:       ''       \n",
      "<Parameter:'area per molecule', value=57.2217 +/- 0.246, bounds=[52.0, 65.0]>\n",
      "<Parameter:   'b_heads'   , value=0.000601 (fixed)  , bounds=[-inf, inf]>\n",
      "<Parameter:' - b_heads_imag', value=0 (fixed)  , bounds=[-inf, inf]>\n",
      "<Parameter:   'v_heads'   , value=319 (fixed)  , bounds=[-inf, inf]>\n",
      "<Parameter:'outer_head_thickness', value=6.06557 +/- 2.12 , bounds=[4.0, 11.0]>\n",
      "<Parameter:   'b_tails'   , value=-0.000292 (fixed)  , bounds=[-inf, inf]>\n",
      "<Parameter:' - b_tails_imag', value=0 (fixed)  , bounds=[-inf, inf]>\n",
      "<Parameter:   'v_tails'   , value=782 (fixed)  , bounds=[-inf, inf]>\n",
      "<Parameter:'tail_thickness', value=13.6668 +/- 0.156, bounds=[10.0, 17.0]>\n",
      "<Parameter:' - rough_head_tail', value=3 (fixed)  , bounds=[-inf, inf]>\n",
      "<Parameter:' - rough_fronting_mono', value=0 (fixed)  , bounds=[-inf, inf]>\n",
      "________________________________________________________________________________\n",
      "Parameters:       ''       \n",
      "<Parameter:  ' - thick'   , value=0 (fixed)  , bounds=[-inf, inf]>\n",
      "<Parameter:   'd2o SLD'   , value=6.17663 +/- 0.00475, bounds=[6.1, 6.36]>\n",
      "<Parameter:   ' - isld'   , value=0 (fixed)  , bounds=[-inf, inf]>\n",
      "<Parameter:'bilayer/solvent roughness', value=1.24812 +/- 5.02 , bounds=[0.0, 5.0]>\n",
      "<Parameter:' - volfrac solvent', value=0 (fixed)  , bounds=[0.0, 1.0]>\n",
      "\n",
      "\n",
      "________________________________________________________________________________\n",
      "Objective - 140312336636128\n",
      "Dataset = hdmix\n",
      "datapoints = 97\n",
      "chi2 = 116.09164939809303\n",
      "Weighted = True\n",
      "Transform = None\n",
      "________________________________________________________________________________\n",
      "Parameters:       ''       \n",
      "________________________________________________________________________________\n",
      "Parameters: 'instrument parameters'\n",
      "<Parameter:    'scale'    , value=1 (fixed)  , bounds=[-inf, inf]>\n",
      "<Parameter:     'bkg'     , value=5.5744e-08 +/- 1e-07, bounds=[-1e-06, 1e-06]>\n",
      "<Parameter:'dq - resolution', value=5 (fixed)  , bounds=[-inf, inf]>\n",
      "<Parameter:  'q_offset'   , value=0 (fixed)  , bounds=[-inf, inf]>\n",
      "________________________________________________________________________________\n",
      "Parameters: 'Structure - ' \n",
      "________________________________________________________________________________\n",
      "Parameters:       ''       \n",
      "<Parameter:  ' - thick'   , value=0 (fixed)  , bounds=[-inf, inf]>\n",
      "<Parameter:   ' - sld'    , value=2.07 (fixed)  , bounds=[-inf, inf]>\n",
      "<Parameter:   ' - isld'   , value=0 (fixed)  , bounds=[-inf, inf]>\n",
      "<Parameter:  ' - rough'   , value=0 (fixed)  , bounds=[-inf, inf]>\n",
      "<Parameter:' - volfrac solvent', value=0 (fixed)  , bounds=[0.0, 1.0]>\n",
      "________________________________________________________________________________\n",
      "Parameters:       ''       \n",
      "<Parameter:'sio2 thickness', value=11.9604 +/- 0.23 , bounds=[2.0, 30.0]>\n",
      "<Parameter:   ' - sld'    , value=3.47 (fixed)  , bounds=[-inf, inf]>\n",
      "<Parameter:   ' - isld'   , value=0 (fixed)  , bounds=[-inf, inf]>\n",
      "<Parameter:'sio2 roughness', value=4.64994 +/- 0.704, bounds=[0.0, 7.0]>\n",
      "<Parameter:'sio2 solvation', value=0.12718 +/- 0.00815, bounds=[0.0, 0.5]>\n",
      "________________________________________________________________________________\n",
      "Parameters:       ''       \n",
      "<Parameter:'area per molecule', value=57.2217 +/- 0.246, bounds=[52.0, 65.0]>\n",
      "<Parameter:   'b_heads'   , value=0.000601 (fixed)  , bounds=[-inf, inf]>\n",
      "<Parameter:' - b_heads_imag', value=0 (fixed)  , bounds=[-inf, inf]>\n",
      "<Parameter:   'v_heads'   , value=319 (fixed)  , bounds=[-inf, inf]>\n",
      "<Parameter:'inner_head_thickness', value=9.7611 +/- 0.161, bounds=[4.0, 11.0]>\n",
      "<Parameter:   'b_tails'   , value=-0.000292 (fixed)  , bounds=[-inf, inf]>\n",
      "<Parameter:' - b_tails_imag', value=0 (fixed)  , bounds=[-inf, inf]>\n",
      "<Parameter:   'v_tails'   , value=782 (fixed)  , bounds=[-inf, inf]>\n",
      "<Parameter:'tail_thickness', value=13.6668 +/- 0.156, bounds=[10.0, 17.0]>\n",
      "<Parameter:' - rough_head_tail', value=3 (fixed)  , bounds=[-inf, inf]>\n",
      "<Parameter:' - rough_fronting_mono', value=3 (fixed)  , bounds=[-inf, inf]>\n",
      "________________________________________________________________________________\n",
      "Parameters:       ''       \n",
      "<Parameter:'area per molecule', value=57.2217 +/- 0.246, bounds=[52.0, 65.0]>\n",
      "<Parameter:   'b_heads'   , value=0.000601 (fixed)  , bounds=[-inf, inf]>\n",
      "<Parameter:' - b_heads_imag', value=0 (fixed)  , bounds=[-inf, inf]>\n",
      "<Parameter:   'v_heads'   , value=319 (fixed)  , bounds=[-inf, inf]>\n",
      "<Parameter:'outer_head_thickness', value=6.06557 +/- 2.12 , bounds=[4.0, 11.0]>\n",
      "<Parameter:   'b_tails'   , value=-0.000292 (fixed)  , bounds=[-inf, inf]>\n",
      "<Parameter:' - b_tails_imag', value=0 (fixed)  , bounds=[-inf, inf]>\n",
      "<Parameter:   'v_tails'   , value=782 (fixed)  , bounds=[-inf, inf]>\n",
      "<Parameter:'tail_thickness', value=13.6668 +/- 0.156, bounds=[10.0, 17.0]>\n",
      "<Parameter:' - rough_head_tail', value=3 (fixed)  , bounds=[-inf, inf]>\n",
      "<Parameter:' - rough_fronting_mono', value=0 (fixed)  , bounds=[-inf, inf]>\n",
      "________________________________________________________________________________\n",
      "Parameters:       ''       \n",
      "<Parameter:  ' - thick'   , value=0 (fixed)  , bounds=[-inf, inf]>\n",
      "<Parameter:   ' - sld'    , value=2.07 (fixed)  , bounds=[-inf, inf]>\n",
      "<Parameter:   ' - isld'   , value=0 (fixed)  , bounds=[-inf, inf]>\n",
      "<Parameter:'bilayer/solvent roughness', value=1.24812 +/- 5.02 , bounds=[0.0, 5.0]>\n",
      "<Parameter:' - volfrac solvent', value=0 (fixed)  , bounds=[0.0, 1.0]>\n",
      "\n",
      "\n",
      "________________________________________________________________________________\n",
      "Objective - 140312336633968\n",
      "Dataset = h2o\n",
      "datapoints = 104\n",
      "chi2 = 251.58933827912017\n",
      "Weighted = True\n",
      "Transform = None\n",
      "________________________________________________________________________________\n",
      "Parameters:       ''       \n",
      "________________________________________________________________________________\n",
      "Parameters: 'instrument parameters'\n",
      "<Parameter:    'scale'    , value=1 (fixed)  , bounds=[-inf, inf]>\n",
      "<Parameter:     'bkg'     , value=7.71044e-08 +/- 1.13e-07, bounds=[-1e-06, 1e-06]>\n",
      "<Parameter:'dq - resolution', value=5 (fixed)  , bounds=[-inf, inf]>\n",
      "<Parameter:  'q_offset'   , value=0 (fixed)  , bounds=[-inf, inf]>\n",
      "________________________________________________________________________________\n",
      "Parameters: 'Structure - ' \n",
      "________________________________________________________________________________\n",
      "Parameters:       ''       \n",
      "<Parameter:  ' - thick'   , value=0 (fixed)  , bounds=[-inf, inf]>\n",
      "<Parameter:   ' - sld'    , value=2.07 (fixed)  , bounds=[-inf, inf]>\n",
      "<Parameter:   ' - isld'   , value=0 (fixed)  , bounds=[-inf, inf]>\n",
      "<Parameter:  ' - rough'   , value=0 (fixed)  , bounds=[-inf, inf]>\n",
      "<Parameter:' - volfrac solvent', value=0 (fixed)  , bounds=[0.0, 1.0]>\n",
      "________________________________________________________________________________\n",
      "Parameters:       ''       \n",
      "<Parameter:'sio2 thickness', value=11.9604 +/- 0.23 , bounds=[2.0, 30.0]>\n",
      "<Parameter:   ' - sld'    , value=3.47 (fixed)  , bounds=[-inf, inf]>\n",
      "<Parameter:   ' - isld'   , value=0 (fixed)  , bounds=[-inf, inf]>\n",
      "<Parameter:'sio2 roughness', value=4.64994 +/- 0.704, bounds=[0.0, 7.0]>\n",
      "<Parameter:'sio2 solvation', value=0.12718 +/- 0.00815, bounds=[0.0, 0.5]>\n",
      "________________________________________________________________________________\n",
      "Parameters:       ''       \n",
      "<Parameter:'area per molecule', value=57.2217 +/- 0.246, bounds=[52.0, 65.0]>\n",
      "<Parameter:   'b_heads'   , value=0.000601 (fixed)  , bounds=[-inf, inf]>\n",
      "<Parameter:' - b_heads_imag', value=0 (fixed)  , bounds=[-inf, inf]>\n",
      "<Parameter:   'v_heads'   , value=319 (fixed)  , bounds=[-inf, inf]>\n",
      "<Parameter:'inner_head_thickness', value=9.7611 +/- 0.161, bounds=[4.0, 11.0]>\n",
      "<Parameter:   'b_tails'   , value=-0.000292 (fixed)  , bounds=[-inf, inf]>\n",
      "<Parameter:' - b_tails_imag', value=0 (fixed)  , bounds=[-inf, inf]>\n",
      "<Parameter:   'v_tails'   , value=782 (fixed)  , bounds=[-inf, inf]>\n",
      "<Parameter:'tail_thickness', value=13.6668 +/- 0.156, bounds=[10.0, 17.0]>\n",
      "<Parameter:' - rough_head_tail', value=3 (fixed)  , bounds=[-inf, inf]>\n",
      "<Parameter:' - rough_fronting_mono', value=3 (fixed)  , bounds=[-inf, inf]>\n",
      "________________________________________________________________________________\n",
      "Parameters:       ''       \n",
      "<Parameter:'area per molecule', value=57.2217 +/- 0.246, bounds=[52.0, 65.0]>\n",
      "<Parameter:   'b_heads'   , value=0.000601 (fixed)  , bounds=[-inf, inf]>\n",
      "<Parameter:' - b_heads_imag', value=0 (fixed)  , bounds=[-inf, inf]>\n",
      "<Parameter:   'v_heads'   , value=319 (fixed)  , bounds=[-inf, inf]>\n",
      "<Parameter:'outer_head_thickness', value=6.06557 +/- 2.12 , bounds=[4.0, 11.0]>\n",
      "<Parameter:   'b_tails'   , value=-0.000292 (fixed)  , bounds=[-inf, inf]>\n",
      "<Parameter:' - b_tails_imag', value=0 (fixed)  , bounds=[-inf, inf]>\n",
      "<Parameter:   'v_tails'   , value=782 (fixed)  , bounds=[-inf, inf]>\n",
      "<Parameter:'tail_thickness', value=13.6668 +/- 0.156, bounds=[10.0, 17.0]>\n",
      "<Parameter:' - rough_head_tail', value=3 (fixed)  , bounds=[-inf, inf]>\n",
      "<Parameter:' - rough_fronting_mono', value=0 (fixed)  , bounds=[-inf, inf]>\n",
      "________________________________________________________________________________\n",
      "Parameters:       ''       \n",
      "<Parameter:  ' - thick'   , value=0 (fixed)  , bounds=[-inf, inf]>\n",
      "<Parameter:   ' - sld'    , value=-0.56 (fixed)  , bounds=[-inf, inf]>\n",
      "<Parameter:   ' - isld'   , value=0 (fixed)  , bounds=[-inf, inf]>\n",
      "<Parameter:'bilayer/solvent roughness', value=1.24812 +/- 5.02 , bounds=[0.0, 5.0]>\n",
      "<Parameter:' - volfrac solvent', value=0 (fixed)  , bounds=[0.0, 1.0]>\n",
      "\n",
      "\n"
     ]
    }
   ],
   "source": [
    "print(global_objective)"
   ]
  },
  {
   "cell_type": "markdown",
   "metadata": {},
   "source": [
    "Let's example the scattering length density profile for each of the systems:"
   ]
  },
  {
   "cell_type": "code",
   "execution_count": 14,
   "metadata": {},
   "outputs": [
    {
     "data": {
      "image/png": "[encoded data removed]",
      "text/plain": [
       "<Figure size 432x288 with 1 Axes>"
      ]
     },
     "metadata": {
      "needs_background": "light"
     },
     "output_type": "display_data"
    }
   ],
   "source": [
    "fig, ax = plt.subplots()\n",
    "ax.plot(*s_d2o.sld_profile(), label='d2o')\n",
    "ax.plot(*s_hdmix.sld_profile(), label='hdmix')\n",
    "ax.plot(*s_h2o.sld_profile(), label='h2o')\n",
    "\n",
    "ax.set_ylabel(\"$\\\\rho$ / $10^{-6} \\AA^{-2}$\")\n",
    "ax.set_xlabel(\"z / $\\AA$\")\n",
    "ax.legend();"
   ]
  }
 ],
 "metadata": {
  "kernelspec": {
   "display_name": "Python 3 (ipykernel)",
   "language": "python",
   "name": "python3"
  },
  "language_info": {
   "codemirror_mode": {
    "name": "ipython",
    "version": 3
   },
   "file_extension": ".py",
   "mimetype": "text/x-python",
   "name": "python",
   "nbconvert_exporter": "python",
   "pygments_lexer": "ipython3",
   "version": "3.8.10"
  }
 },
 "nbformat": 4,
 "nbformat_minor": 2
}
