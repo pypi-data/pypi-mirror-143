{
 "cells": [
  {
   "cell_type": "markdown",
   "metadata": {},
   "source": [
    "pour faire un test"
   ]
  },
  {
   "cell_type": "code",
   "execution_count": null,
   "metadata": {
    "ExecuteTime": {
     "end_time": "2020-07-12T21:15:44.180949Z",
     "start_time": "2020-07-12T21:15:44.168811Z"
    }
   },
   "outputs": [],
   "source": [
    "if 2*4+12%2 == 0:\n",
    "    print ('coucou')"
   ]
  },
  {
   "cell_type": "code",
   "execution_count": null,
   "metadata": {
    "ExecuteTime": {
     "end_time": "2020-07-12T21:16:16.284927Z",
     "start_time": "2020-07-12T21:16:16.270990Z"
    }
   },
   "outputs": [],
   "source": [
    "def f(x):\n",
    "    print(2*x)"
   ]
  },
  {
   "cell_type": "code",
   "execution_count": null,
   "metadata": {
    "ExecuteTime": {
     "end_time": "2020-07-12T21:16:23.158032Z",
     "start_time": "2020-07-12T21:16:23.141577Z"
    }
   },
   "outputs": [],
   "source": [
    "f(12)"
   ]
  },
  {
   "cell_type": "code",
   "execution_count": null,
   "metadata": {
    "ExecuteTime": {
     "end_time": "2021-06-10T20:09:50.111357Z",
     "start_time": "2021-06-10T20:09:49.974026Z"
    }
   },
   "outputs": [],
   "source": [
    "import setuptools\n",
    "setuptools.find_packages()\n"
   ]
  },
  {
   "cell_type": "code",
   "execution_count": null,
   "metadata": {
    "ExecuteTime": {
     "end_time": "2021-06-07T09:35:53.385103Z",
     "start_time": "2021-06-07T09:35:53.265211Z"
    }
   },
   "outputs": [],
   "source": [
    "!touch spike.plugins.NMR.__init__.py"
   ]
  },
  {
   "cell_type": "code",
   "execution_count": null,
   "metadata": {
    "ExecuteTime": {
     "end_time": "2021-06-10T20:10:24.392498Z",
     "start_time": "2021-06-10T20:10:23.009239Z"
    }
   },
   "outputs": [],
   "source": [
    "import spike\n",
    "from spike.File import BrukerMS as bk"
   ]
  },
  {
   "cell_type": "code",
   "execution_count": null,
   "metadata": {
    "ExecuteTime": {
     "end_time": "2021-06-10T20:11:08.738474Z",
     "start_time": "2021-06-10T20:11:08.626650Z"
    }
   },
   "outputs": [],
   "source": [
    "ls /DATA/DATA_res"
   ]
  },
  {
   "cell_type": "code",
   "execution_count": null,
   "metadata": {
    "ExecuteTime": {
     "end_time": "2021-08-31T18:34:50.152430Z",
     "start_time": "2021-08-31T18:34:50.104518Z"
    }
   },
   "outputs": [],
   "source": [
    "import ipywidgets as widgets \n",
    "t = widgets.Select(\n",
    "    options=['Linux', 'Windows', 'macOS'],\n",
    "    value='macOS',\n",
    "    rows=5,\n",
    "    description='OS:',\n",
    "    disabled=False\n",
    ")\n",
    "t"
   ]
  },
  {
   "cell_type": "code",
   "execution_count": null,
   "metadata": {
    "ExecuteTime": {
     "end_time": "2021-08-31T18:34:51.739511Z",
     "start_time": "2021-08-31T18:34:51.736779Z"
    }
   },
   "outputs": [],
   "source": [
    "t.close()"
   ]
  },
  {
   "cell_type": "code",
   "execution_count": null,
   "metadata": {
    "ExecuteTime": {
     "end_time": "2021-08-31T18:40:41.238758Z",
     "start_time": "2021-08-31T18:40:33.579575Z"
    }
   },
   "outputs": [],
   "source": [
    "out = widgets.Output()\n",
    "with out:\n",
    "    print('cuicui')\n",
    "    t = input(\"Coucou: \")\n",
    "out"
   ]
  },
  {
   "cell_type": "code",
   "execution_count": null,
   "metadata": {
    "ExecuteTime": {
     "end_time": "2021-08-31T18:38:42.462951Z",
     "start_time": "2021-08-31T18:38:42.459773Z"
    }
   },
   "outputs": [],
   "source": [
    "t"
   ]
  },
  {
   "cell_type": "code",
   "execution_count": null,
   "metadata": {
    "ExecuteTime": {
     "end_time": "2021-08-31T18:38:44.986109Z",
     "start_time": "2021-08-31T18:38:44.983264Z"
    }
   },
   "outputs": [],
   "source": [
    "out.close()"
   ]
  },
  {
   "cell_type": "code",
   "execution_count": null,
   "metadata": {
    "ExecuteTime": {
     "end_time": "2021-08-31T18:40:56.916501Z",
     "start_time": "2021-08-31T18:40:56.912897Z"
    }
   },
   "outputs": [],
   "source": [
    "out.layout.visibility = 'hidden'"
   ]
  },
  {
   "cell_type": "code",
   "execution_count": null,
   "metadata": {
    "ExecuteTime": {
     "end_time": "2021-08-31T18:40:18.786295Z",
     "start_time": "2021-08-31T18:40:18.775931Z"
    }
   },
   "outputs": [],
   "source": [
    "out.outputs"
   ]
  },
  {
   "cell_type": "code",
   "execution_count": null,
   "metadata": {
    "ExecuteTime": {
     "end_time": "2021-08-31T18:40:41.258180Z",
     "start_time": "2021-08-31T18:40:41.253941Z"
    }
   },
   "outputs": [],
   "source": [
    "out"
   ]
  },
  {
   "cell_type": "code",
   "execution_count": null,
   "metadata": {
    "ExecuteTime": {
     "end_time": "2021-08-31T20:08:15.106539Z",
     "start_time": "2021-08-31T20:08:15.061952Z"
    }
   },
   "outputs": [],
   "source": [
    "import ipywidgets as widgets \n",
    "from ipywidgets import Layout, Box"
   ]
  },
  {
   "cell_type": "code",
   "execution_count": 6,
   "metadata": {
    "ExecuteTime": {
     "end_time": "2021-08-31T20:14:28.022382Z",
     "start_time": "2021-08-31T20:14:28.018753Z"
    }
   },
   "outputs": [
    {
     "data": {
      "text/html": [
       "<style>\n",
       ".button_style{\n",
       "    font-size:155px;\n",
       "    color: black;\n",
       "    position: fixed;\n",
       "    top: 40px; left: 40px;\n",
       "}\n",
       "</style>\n"
      ],
      "text/plain": [
       "<IPython.core.display.HTML object>"
      ]
     },
     "metadata": {},
     "output_type": "display_data"
    }
   ],
   "source": [
    "%%html\n",
    "<style>\n",
    ".button_style{\n",
    "    font-size:155px;\n",
    "    color: black;\n",
    "    position: fixed;\n",
    "    top: 40px; left: 40px;\n",
    "}\n",
    "</style>"
   ]
  },
  {
   "cell_type": "code",
   "execution_count": 9,
   "metadata": {
    "ExecuteTime": {
     "end_time": "2021-08-31T20:15:15.846669Z",
     "start_time": "2021-08-31T20:15:15.833872Z"
    },
    "scrolled": false
   },
   "outputs": [
    {
     "data": {
      "application/vnd.jupyter.widget-view+json": {
       "model_id": "a982698dddf24c37847b5a0ff3f95df4",
       "version_major": 2,
       "version_minor": 0
      },
      "text/plain": [
       "Text(value='Hello World', description='String:', placeholder='Type something')"
      ]
     },
     "metadata": {},
     "output_type": "display_data"
    }
   ],
   "source": [
    "import ipywidgets as widgets\n",
    "t = widgets.Text(\n",
    "    value='Hello World',\n",
    "    placeholder='Type something',\n",
    "    description='String:',\n",
    "    disabled=False\n",
    ")\n",
    "t"
   ]
  },
  {
   "cell_type": "code",
   "execution_count": 10,
   "metadata": {
    "ExecuteTime": {
     "end_time": "2021-08-31T20:15:21.756187Z",
     "start_time": "2021-08-31T20:15:21.744956Z"
    }
   },
   "outputs": [
    {
     "data": {
      "text/plain": [
       "'Hello World'"
      ]
     },
     "execution_count": 10,
     "metadata": {},
     "output_type": "execute_result"
    }
   ],
   "source": [
    "t.value"
   ]
  },
  {
   "cell_type": "code",
   "execution_count": 15,
   "metadata": {
    "ExecuteTime": {
     "end_time": "2021-08-31T20:16:37.761874Z",
     "start_time": "2021-08-31T20:16:37.758749Z"
    }
   },
   "outputs": [],
   "source": [
    "t.description = 'change'"
   ]
  },
  {
   "cell_type": "code",
   "execution_count": 14,
   "metadata": {
    "ExecuteTime": {
     "end_time": "2021-08-31T20:16:01.177164Z",
     "start_time": "2021-08-31T20:16:01.173563Z"
    }
   },
   "outputs": [],
   "source": [
    "t.layout.visibility = 'visible'"
   ]
  },
  {
   "cell_type": "code",
   "execution_count": null,
   "metadata": {},
   "outputs": [],
   "source": []
  }
 ],
 "metadata": {
  "kernelspec": {
   "display_name": "Python 3",
   "language": "python",
   "name": "python3"
  },
  "language_info": {
   "codemirror_mode": {
    "name": "ipython",
    "version": 3
   },
   "file_extension": ".py",
   "mimetype": "text/x-python",
   "name": "python",
   "nbconvert_exporter": "python",
   "pygments_lexer": "ipython3",
   "version": "3.8.5"
  },
  "varInspector": {
   "cols": {
    "lenName": 16,
    "lenType": 16,
    "lenVar": 40
   },
   "kernels_config": {
    "python": {
     "delete_cmd_postfix": "",
     "delete_cmd_prefix": "del ",
     "library": "var_list.py",
     "varRefreshCmd": "print(var_dic_list())"
    },
    "r": {
     "delete_cmd_postfix": ") ",
     "delete_cmd_prefix": "rm(",
     "library": "var_list.r",
     "varRefreshCmd": "cat(var_dic_list()) "
    }
   },
   "types_to_exclude": [
    "module",
    "function",
    "builtin_function_or_method",
    "instance",
    "_Feature"
   ],
   "window_display": false
  }
 },
 "nbformat": 4,
 "nbformat_minor": 2
}
