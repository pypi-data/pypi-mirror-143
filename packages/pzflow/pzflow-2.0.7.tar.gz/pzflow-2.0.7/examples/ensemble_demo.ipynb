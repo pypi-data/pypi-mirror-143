{
 "cells": [
  {
   "cell_type": "markdown",
   "metadata": {},
   "source": [
    "[![Open In Colab](https://colab.research.google.com/assets/colab-badge.svg)](https://colab.research.google.com/github/jfcrenshaw/pzflow/blob/main/examples/ensemble_demo.ipynb)\n",
    "\n",
    "If running in Colab, to switch to GPU, go to the menu and select Runtime -> Change runtime type -> Hardware accelerator -> GPU.\n",
    "\n",
    "In addition, uncomment and run the following code:"
   ]
  },
  {
   "cell_type": "code",
   "execution_count": 1,
   "metadata": {},
   "outputs": [],
   "source": [
    "# !pip install pzflow"
   ]
  },
  {
   "cell_type": "markdown",
   "metadata": {},
   "source": [
    "------------------\n",
    "## Flow ensemble demo\n",
    "\n",
    "This notebook demonstrates building a deep ensemble of normalizing flows with `pzflow`.\n",
    "A deep ensemble instantiates multiple Flows with different randomized initial parameters, and trains them on the same data.\n",
    "This ensemble of trained flows accounts for epistemic uncertainty, and is a form of approximate Bayesian machine learning."
   ]
  },
  {
   "cell_type": "code",
   "execution_count": 1,
   "metadata": {},
   "outputs": [],
   "source": [
    "from pzflow import FlowEnsemble\n",
    "from pzflow.bijectors import RollingSplineCoupling\n",
    "from pzflow.examples import get_twomoons_data\n",
    "\n",
    "import jax.numpy as np\n",
    "import matplotlib.pyplot as plt"
   ]
  },
  {
   "cell_type": "markdown",
   "metadata": {},
   "source": [
    "First let's load some example data. It's the familiar two moons data set from scikit-learn that we used in the [pzflow intro notebook](https://github.com/jfcrenshaw/pzflow/blob/main/examples/intro.ipynb)"
   ]
  },
  {
   "cell_type": "code",
   "execution_count": 3,
   "metadata": {},
   "outputs": [
    {
     "data": {
      "text/html": [
       "<div>\n",
       "<style scoped>\n",
       "    .dataframe tbody tr th:only-of-type {\n",
       "        vertical-align: middle;\n",
       "    }\n",
       "\n",
       "    .dataframe tbody tr th {\n",
       "        vertical-align: top;\n",
       "    }\n",
       "\n",
       "    .dataframe thead th {\n",
       "        text-align: right;\n",
       "    }\n",
       "</style>\n",
       "<table border=\"1\" class=\"dataframe\">\n",
       "  <thead>\n",
       "    <tr style=\"text-align: right;\">\n",
       "      <th></th>\n",
       "      <th>x</th>\n",
       "      <th>y</th>\n",
       "    </tr>\n",
       "  </thead>\n",
       "  <tbody>\n",
       "    <tr>\n",
       "      <th>0</th>\n",
       "      <td>-1.026942</td>\n",
       "      <td>1.410649</td>\n",
       "    </tr>\n",
       "    <tr>\n",
       "      <th>1</th>\n",
       "      <td>0.814149</td>\n",
       "      <td>-1.365693</td>\n",
       "    </tr>\n",
       "    <tr>\n",
       "      <th>2</th>\n",
       "      <td>1.718791</td>\n",
       "      <td>0.362482</td>\n",
       "    </tr>\n",
       "    <tr>\n",
       "      <th>3</th>\n",
       "      <td>0.677510</td>\n",
       "      <td>-1.685869</td>\n",
       "    </tr>\n",
       "    <tr>\n",
       "      <th>4</th>\n",
       "      <td>1.060328</td>\n",
       "      <td>-1.363168</td>\n",
       "    </tr>\n",
       "    <tr>\n",
       "      <th>...</th>\n",
       "      <td>...</td>\n",
       "      <td>...</td>\n",
       "    </tr>\n",
       "    <tr>\n",
       "      <th>9995</th>\n",
       "      <td>-1.121514</td>\n",
       "      <td>1.657424</td>\n",
       "    </tr>\n",
       "    <tr>\n",
       "      <th>9996</th>\n",
       "      <td>-0.994531</td>\n",
       "      <td>1.445759</td>\n",
       "    </tr>\n",
       "    <tr>\n",
       "      <th>9997</th>\n",
       "      <td>1.170882</td>\n",
       "      <td>-1.276065</td>\n",
       "    </tr>\n",
       "    <tr>\n",
       "      <th>9998</th>\n",
       "      <td>1.061871</td>\n",
       "      <td>-1.318802</td>\n",
       "    </tr>\n",
       "    <tr>\n",
       "      <th>9999</th>\n",
       "      <td>-0.316731</td>\n",
       "      <td>1.340146</td>\n",
       "    </tr>\n",
       "  </tbody>\n",
       "</table>\n",
       "<p>10000 rows × 2 columns</p>\n",
       "</div>"
      ],
      "text/plain": [
       "             x         y\n",
       "0    -1.026942  1.410649\n",
       "1     0.814149 -1.365693\n",
       "2     1.718791  0.362482\n",
       "3     0.677510 -1.685869\n",
       "4     1.060328 -1.363168\n",
       "...        ...       ...\n",
       "9995 -1.121514  1.657424\n",
       "9996 -0.994531  1.445759\n",
       "9997  1.170882 -1.276065\n",
       "9998  1.061871 -1.318802\n",
       "9999 -0.316731  1.340146\n",
       "\n",
       "[10000 rows x 2 columns]"
      ]
     },
     "execution_count": 3,
     "metadata": {},
     "output_type": "execute_result"
    }
   ],
   "source": [
    "data = get_twomoons_data()\n",
    "data"
   ]
  },
  {
   "cell_type": "markdown",
   "metadata": {},
   "source": [
    "Let's plot it to see what it looks like."
   ]
  },
  {
   "cell_type": "code",
   "execution_count": 4,
   "metadata": {},
   "outputs": [
    {
     "data": {
      "image/png": "[encoded data removed]",
      "text/plain": [
       "<Figure size 432x288 with 1 Axes>"
      ]
     },
     "metadata": {
      "needs_background": "light"
     },
     "output_type": "display_data"
    }
   ],
   "source": [
    "plt.hist2d(data['x'], data['y'], bins=200)\n",
    "plt.xlabel('x')\n",
    "plt.ylabel('y')\n",
    "plt.show()"
   ]
  },
  {
   "cell_type": "markdown",
   "metadata": {},
   "source": [
    "Now we will build an ensemble of normalizing flows using the `FlowEnsemble` class.\n",
    "It is constructed almost identically to `Flow`, except now we also have a parameter `N` which controls how many different copies of the Flow are created.\n",
    "Each of these Flows is identical, just with different random parameters instantiated.\n",
    "Let's make an ensemble of 4 Flows."
   ]
  },
  {
   "cell_type": "code",
   "execution_count": 5,
   "metadata": {},
   "outputs": [],
   "source": [
    "# set number of layers in the RollingSplineCoupling\n",
    "# equal to the input dimension\n",
    "nlayers = data.shape[1]\n",
    "\n",
    "# create the bijector\n",
    "bijector = RollingSplineCoupling(nlayers=nlayers)\n",
    "\n",
    "# create the normalizing flow\n",
    "flowEns = FlowEnsemble(data.columns, bijector, N=4)"
   ]
  },
  {
   "cell_type": "markdown",
   "metadata": {},
   "source": [
    "Now we can train the Ensemble.\n",
    "Just like a refular `Flow`, this is as simple as calling `flowEns.train(data)`."
   ]
  },
  {
   "cell_type": "code",
   "execution_count": 6,
   "metadata": {},
   "outputs": [
    {
     "name": "stdout",
     "output_type": "stream",
     "text": [
      "Flow 0\n",
      "Training 50 epochs \n",
      "Loss:\n",
      "(0) 2.7930\n",
      "(1) 2.4776\n",
      "(3) 2.0140\n",
      "(5) 1.6929\n",
      "(7) 1.5825\n",
      "(9) 1.5011\n",
      "(11) 1.4222\n",
      "(13) 1.3861\n",
      "(15) 1.3450\n",
      "(17) 1.3156\n",
      "(19) 1.3267\n",
      "(21) 1.2812\n",
      "(23) 1.2825\n",
      "(25) 1.3036\n",
      "(27) 1.2909\n",
      "(29) 1.2437\n",
      "(31) 1.2383\n",
      "(33) 1.2415\n",
      "(35) 1.2399\n",
      "(37) 1.2204\n",
      "(39) 1.2202\n",
      "(41) 1.2163\n",
      "(43) 1.2172\n",
      "(45) 1.2293\n",
      "(47) 1.2087\n",
      "(49) 1.2113\n",
      "(50) 1.2034\n",
      "Flow 1\n",
      "Training 50 epochs \n",
      "Loss:\n",
      "(0) 2.8623\n",
      "(1) 2.5115\n",
      "(3) 2.0422\n",
      "(5) 1.7778\n",
      "(7) 1.6135\n",
      "(9) 1.4934\n",
      "(11) 1.4107\n",
      "(13) 1.3544\n",
      "(15) 1.3492\n",
      "(17) 1.3767\n",
      "(19) 1.3042\n",
      "(21) 1.2645\n",
      "(23) 1.2658\n",
      "(25) 1.2737\n",
      "(27) 1.2696\n",
      "(29) 1.2501\n",
      "(31) 1.2382\n",
      "(33) 1.2449\n",
      "(35) 1.2178\n",
      "(37) 1.2171\n",
      "(39) 1.2187\n",
      "(41) 1.2276\n",
      "(43) 1.2153\n",
      "(45) 1.2095\n",
      "(47) 1.2078\n",
      "(49) 1.1997\n",
      "(50) 1.1974\n",
      "Flow 2\n",
      "Training 50 epochs \n",
      "Loss:\n",
      "(0) 2.8077\n",
      "(1) 2.5075\n",
      "(3) 2.0754\n",
      "(5) 1.7644\n",
      "(7) 1.6302\n",
      "(9) 1.5070\n",
      "(11) 1.4204\n",
      "(13) 1.3708\n",
      "(15) 1.3363\n",
      "(17) 1.3196\n",
      "(19) 1.3133\n",
      "(21) 1.2693\n",
      "(23) 1.2746\n",
      "(25) 1.2755\n",
      "(27) 1.2629\n",
      "(29) 1.2438\n",
      "(31) 1.2293\n",
      "(33) 1.2477\n",
      "(35) 1.2149\n",
      "(37) 1.2276\n",
      "(39) 1.2219\n",
      "(41) 1.2141\n",
      "(43) 1.2077\n",
      "(45) 1.2204\n",
      "(47) 1.2320\n",
      "(49) 1.2276\n",
      "(50) 1.2143\n",
      "Flow 3\n",
      "Training 50 epochs \n",
      "Loss:\n",
      "(0) 2.9199\n",
      "(1) 2.5283\n",
      "(3) 2.1106\n",
      "(5) 1.8133\n",
      "(7) 1.6336\n",
      "(9) 1.5730\n",
      "(11) 1.4606\n",
      "(13) 1.4042\n",
      "(15) 1.3678\n",
      "(17) 1.3468\n",
      "(19) 1.3277\n",
      "(21) 1.2984\n",
      "(23) 1.3005\n",
      "(25) 1.2711\n",
      "(27) 1.2857\n",
      "(29) 1.2818\n",
      "(31) 1.2544\n",
      "(33) 1.2406\n",
      "(35) 1.2446\n",
      "(37) 1.2362\n",
      "(39) 1.2308\n",
      "(41) 1.2313\n",
      "(43) 1.2366\n",
      "(45) 1.2484\n",
      "(47) 1.2407\n",
      "(49) 1.2156\n",
      "(50) 1.2186\n",
      "CPU times: user 1min 46s, sys: 1min 18s, total: 3min 5s\n",
      "Wall time: 38.1 s\n"
     ]
    }
   ],
   "source": [
    "%%time\n",
    "losses = flowEns.train(data, verbose=True)"
   ]
  },
  {
   "cell_type": "markdown",
   "metadata": {},
   "source": [
    "The losses returned by a `FlowEnsemble` are saved in a dictionary. Let's plot them."
   ]
  },
  {
   "cell_type": "code",
   "execution_count": 7,
   "metadata": {},
   "outputs": [
    {
     "data": {
      "image/png": "[encoded data removed]",
      "text/plain": [
       "<Figure size 432x288 with 1 Axes>"
      ]
     },
     "metadata": {
      "needs_background": "light"
     },
     "output_type": "display_data"
    }
   ],
   "source": [
    "for n, l in losses.items():\n",
    "    plt.plot(l, label=n)\n",
    "plt.legend()\n",
    "plt.xlabel(\"Epoch\")\n",
    "plt.ylabel(\"Training loss\")\n",
    "plt.show()"
   ]
  },
  {
   "cell_type": "markdown",
   "metadata": {},
   "source": [
    "Perfect!\n",
    "\n",
    "Now we can draw samples from the ensemble, using the `sample` method.\n",
    "Let's draw 10000 samples and make another histogram to see if it matches the data."
   ]
  },
  {
   "cell_type": "code",
   "execution_count": 8,
   "metadata": {},
   "outputs": [],
   "source": [
    "samples = flowEns.sample(10000, seed=0)"
   ]
  },
  {
   "cell_type": "code",
   "execution_count": 9,
   "metadata": {},
   "outputs": [
    {
     "data": {
      "image/png": "[encoded data removed]",
      "text/plain": [
       "<Figure size 432x288 with 1 Axes>"
      ]
     },
     "metadata": {
      "needs_background": "light"
     },
     "output_type": "display_data"
    }
   ],
   "source": [
    "plt.hist2d(samples['x'], samples['y'], bins=200, range=((-2,2),(-2,2)))\n",
    "plt.xlabel('x')\n",
    "plt.ylabel('y')\n",
    "plt.show()"
   ]
  },
  {
   "cell_type": "markdown",
   "metadata": {},
   "source": [
    "Looks great!\n",
    "\n",
    "Note that when sampling from the ensemble, it will draw uniformly from the constituent flows in the ensemble.\n",
    "So, e.g., if your ensemble has 4 flows and you ask for 16 samples, it will draw 4 sample from each of the 4 flows in the sample.\n",
    "The process is slightly different if the number of flows doesn't evenly divide the number of samples.\n",
    "If you have 4 flows and ask for 17 samples, it will draw 5 samples from each flow, so that you now have 20 samples, and then it will randomly select 17 of those.\n",
    "\n",
    "There is also one more important feature to note.\n",
    "In the `sample` method, if you set `returnEnsemble=True`, then it will sample `nsamples` from each flow, and then will return all of those samples, sorted by the flow they came from.\n",
    "This allows you to e.g. compare samples from each of the constituent flows and see if they're consistent with one another.\n",
    "\n",
    "Let's draw 4 samples from each flow and print them so we can get an idea of how this works:"
   ]
  },
  {
   "cell_type": "code",
   "execution_count": 10,
   "metadata": {},
   "outputs": [
    {
     "data": {
      "text/html": [
       "<div>\n",
       "<style scoped>\n",
       "    .dataframe tbody tr th:only-of-type {\n",
       "        vertical-align: middle;\n",
       "    }\n",
       "\n",
       "    .dataframe tbody tr th {\n",
       "        vertical-align: top;\n",
       "    }\n",
       "\n",
       "    .dataframe thead th {\n",
       "        text-align: right;\n",
       "    }\n",
       "</style>\n",
       "<table border=\"1\" class=\"dataframe\">\n",
       "  <thead>\n",
       "    <tr style=\"text-align: right;\">\n",
       "      <th></th>\n",
       "      <th></th>\n",
       "      <th>x</th>\n",
       "      <th>y</th>\n",
       "    </tr>\n",
       "  </thead>\n",
       "  <tbody>\n",
       "    <tr>\n",
       "      <th rowspan=\"4\" valign=\"top\">Flow 0</th>\n",
       "      <th>0</th>\n",
       "      <td>-0.516505</td>\n",
       "      <td>-0.083726</td>\n",
       "    </tr>\n",
       "    <tr>\n",
       "      <th>1</th>\n",
       "      <td>-0.747945</td>\n",
       "      <td>1.506830</td>\n",
       "    </tr>\n",
       "    <tr>\n",
       "      <th>2</th>\n",
       "      <td>-1.163511</td>\n",
       "      <td>1.359193</td>\n",
       "    </tr>\n",
       "    <tr>\n",
       "      <th>3</th>\n",
       "      <td>-0.822494</td>\n",
       "      <td>1.389423</td>\n",
       "    </tr>\n",
       "    <tr>\n",
       "      <th rowspan=\"4\" valign=\"top\">Flow 1</th>\n",
       "      <th>0</th>\n",
       "      <td>-0.063028</td>\n",
       "      <td>-0.931659</td>\n",
       "    </tr>\n",
       "    <tr>\n",
       "      <th>1</th>\n",
       "      <td>-0.673589</td>\n",
       "      <td>1.541637</td>\n",
       "    </tr>\n",
       "    <tr>\n",
       "      <th>2</th>\n",
       "      <td>-1.046642</td>\n",
       "      <td>1.441319</td>\n",
       "    </tr>\n",
       "    <tr>\n",
       "      <th>3</th>\n",
       "      <td>-0.778386</td>\n",
       "      <td>1.393013</td>\n",
       "    </tr>\n",
       "    <tr>\n",
       "      <th rowspan=\"4\" valign=\"top\">Flow 2</th>\n",
       "      <th>0</th>\n",
       "      <td>-0.504155</td>\n",
       "      <td>-0.100307</td>\n",
       "    </tr>\n",
       "    <tr>\n",
       "      <th>1</th>\n",
       "      <td>-0.872264</td>\n",
       "      <td>1.454790</td>\n",
       "    </tr>\n",
       "    <tr>\n",
       "      <th>2</th>\n",
       "      <td>-1.183065</td>\n",
       "      <td>1.351646</td>\n",
       "    </tr>\n",
       "    <tr>\n",
       "      <th>3</th>\n",
       "      <td>-1.070693</td>\n",
       "      <td>1.255033</td>\n",
       "    </tr>\n",
       "    <tr>\n",
       "      <th rowspan=\"4\" valign=\"top\">Flow 3</th>\n",
       "      <th>0</th>\n",
       "      <td>-0.482720</td>\n",
       "      <td>-0.257335</td>\n",
       "    </tr>\n",
       "    <tr>\n",
       "      <th>1</th>\n",
       "      <td>-0.741180</td>\n",
       "      <td>1.532987</td>\n",
       "    </tr>\n",
       "    <tr>\n",
       "      <th>2</th>\n",
       "      <td>-1.124484</td>\n",
       "      <td>1.382707</td>\n",
       "    </tr>\n",
       "    <tr>\n",
       "      <th>3</th>\n",
       "      <td>-0.848572</td>\n",
       "      <td>1.379650</td>\n",
       "    </tr>\n",
       "  </tbody>\n",
       "</table>\n",
       "</div>"
      ],
      "text/plain": [
       "                 x         y\n",
       "Flow 0 0 -0.516505 -0.083726\n",
       "       1 -0.747945  1.506830\n",
       "       2 -1.163511  1.359193\n",
       "       3 -0.822494  1.389423\n",
       "Flow 1 0 -0.063028 -0.931659\n",
       "       1 -0.673589  1.541637\n",
       "       2 -1.046642  1.441319\n",
       "       3 -0.778386  1.393013\n",
       "Flow 2 0 -0.504155 -0.100307\n",
       "       1 -0.872264  1.454790\n",
       "       2 -1.183065  1.351646\n",
       "       3 -1.070693  1.255033\n",
       "Flow 3 0 -0.482720 -0.257335\n",
       "       1 -0.741180  1.532987\n",
       "       2 -1.124484  1.382707\n",
       "       3 -0.848572  1.379650"
      ]
     },
     "execution_count": 10,
     "metadata": {},
     "output_type": "execute_result"
    }
   ],
   "source": [
    "flowEns.sample(4, seed=0, returnEnsemble=True)"
   ]
  },
  {
   "cell_type": "markdown",
   "metadata": {},
   "source": [
    "We can also use the ensemble to calculate redshift posteriors using the `posterior` method. This works by calculating the unnormalized posterior for each constituent flow, averaging over them all, then normalizing. (Note we can do the same thing with the `log_prob` method)"
   ]
  },
  {
   "cell_type": "code",
   "execution_count": 11,
   "metadata": {},
   "outputs": [],
   "source": [
    "grid = np.arange(-2, 2.02, 0.02)\n",
    "pdfs = flowEns.posterior(data, column=\"x\", grid=grid)"
   ]
  },
  {
   "cell_type": "markdown",
   "metadata": {},
   "source": [
    "Let's plot the first posterior."
   ]
  },
  {
   "cell_type": "code",
   "execution_count": 12,
   "metadata": {},
   "outputs": [
    {
     "data": {
      "image/png": "[encoded data removed]",
      "text/plain": [
       "<Figure size 432x288 with 1 Axes>"
      ]
     },
     "metadata": {
      "needs_background": "light"
     },
     "output_type": "display_data"
    }
   ],
   "source": [
    "plt.plot(grid, pdfs[0])\n",
    "plt.title(f\"$y$ = {data['y'][0]:.2f}\")\n",
    "plt.xlabel(\"$x$\")\n",
    "plt.ylabel(\"$p(x|y)$\")\n",
    "plt.show()"
   ]
  },
  {
   "cell_type": "markdown",
   "metadata": {},
   "source": [
    "Similarly to the `sample` method, we can set `returnEnsemble=True` to return the pdfs for each of the constituent flows."
   ]
  },
  {
   "cell_type": "code",
   "execution_count": 13,
   "metadata": {},
   "outputs": [],
   "source": [
    "ensemble_pdfs = flowEns.posterior(data, column=\"x\", grid=grid, returnEnsemble=True)"
   ]
  },
  {
   "cell_type": "markdown",
   "metadata": {},
   "source": [
    "the returned array has shape (nsamples, nflows, grid.size):"
   ]
  },
  {
   "cell_type": "code",
   "execution_count": 14,
   "metadata": {},
   "outputs": [
    {
     "data": {
      "text/plain": [
       "(10000, 4, 201)"
      ]
     },
     "execution_count": 14,
     "metadata": {},
     "output_type": "execute_result"
    }
   ],
   "source": [
    "ensemble_pdfs.shape"
   ]
  },
  {
   "cell_type": "markdown",
   "metadata": {},
   "source": [
    "Let's plot all the pdfs from the ensemble for the first galaxy:"
   ]
  },
  {
   "cell_type": "code",
   "execution_count": 15,
   "metadata": {},
   "outputs": [
    {
     "data": {
      "image/png": "[encoded data removed]",
      "text/plain": [
       "<Figure size 432x288 with 1 Axes>"
      ]
     },
     "metadata": {
      "needs_background": "light"
     },
     "output_type": "display_data"
    }
   ],
   "source": [
    "for i in range(ensemble_pdfs.shape[1]):\n",
    "    plt.plot(grid, ensemble_pdfs[0,i])\n",
    "plt.plot(grid, pdfs[0], ls=\"--\", c=\"k\", label=\"Mean\")\n",
    "plt.legend()\n",
    "plt.title(f\"$y$ = {data['y'][0]:.2f}\")\n",
    "plt.xlabel(\"$x$\")\n",
    "plt.ylabel(\"$p(x|y)$\")\n",
    "plt.show()"
   ]
  },
  {
   "cell_type": "markdown",
   "metadata": {},
   "source": [
    "Now let's save the ensemble to a file that can be loaded later:"
   ]
  },
  {
   "cell_type": "code",
   "execution_count": 16,
   "metadata": {},
   "outputs": [],
   "source": [
    "flowEns.save(\"example-ensemble.pzflow.pkl\")"
   ]
  },
  {
   "cell_type": "markdown",
   "metadata": {},
   "source": [
    "This file can be loaded on Flow instantiation:"
   ]
  },
  {
   "cell_type": "code",
   "execution_count": 17,
   "metadata": {},
   "outputs": [],
   "source": [
    "flowEns = FlowEnsemble(file=\"example-ensemble.pzflow.pkl\")"
   ]
  },
  {
   "cell_type": "code",
   "execution_count": null,
   "metadata": {},
   "outputs": [],
   "source": []
  }
 ],
 "metadata": {
  "interpreter": {
   "hash": "ddb71c8dc1ffef2557a2c9d44be5bf38b52fc98479b572e5007cdf63195ae033"
  },
  "kernelspec": {
   "display_name": "Python 3.9.1 64-bit ('pzflow': conda)",
   "language": "python",
   "name": "python391jvsc74a57bd0ddb71c8dc1ffef2557a2c9d44be5bf38b52fc98479b572e5007cdf63195ae033"
  },
  "language_info": {
   "codemirror_mode": {
    "name": "ipython",
    "version": 3
   },
   "file_extension": ".py",
   "mimetype": "text/x-python",
   "name": "python",
   "nbconvert_exporter": "python",
   "pygments_lexer": "ipython3",
   "version": "3.9.1"
  }
 },
 "nbformat": 4,
 "nbformat_minor": 4
}
