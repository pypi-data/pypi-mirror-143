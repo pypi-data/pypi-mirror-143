{
 "cells": [
  {
   "cell_type": "markdown",
   "metadata": {},
   "source": [
    "[![Open In Colab](https://colab.research.google.com/assets/colab-badge.svg)](https://colab.research.google.com/github/jfcrenshaw/pzflow/blob/main/examples/conditional_redshift_example.ipynb)\n",
    "\n",
    "If running in Colab, to switch to GPU, go to the menu and select Runtime -> Change runtime type -> Hardware accelerator -> GPU.\n",
    "\n",
    "In addition, uncomment and run the following code:"
   ]
  },
  {
   "cell_type": "code",
   "execution_count": 1,
   "metadata": {},
   "outputs": [],
   "source": [
    "# !pip install pzflow"
   ]
  },
  {
   "cell_type": "markdown",
   "metadata": {},
   "source": [
    "-------------------\n",
    "## Conditional flow example\n",
    "\n",
    "This notebook uses the same data as the [redshift example](https://github.com/jfcrenshaw/pzflow/blob/main/examples/redshift_example.ipynb), but this time, instead of modeling the full 7-dimensional probability distribution, we will model the distribution of redshifts, conditioned on the magnitudes.\n",
    "\n",
    "Note that this just a basic 1-dimensional example, but it is also possible to condition a high-dimesional distribution on multiple variables. For example, you might build the 7-dimensional flow from the [redshift example](https://github.com/jfcrenshaw/pzflow/blob/main/examples/redshift_example.ipynb), but condition the flow on right ascension and declination."
   ]
  },
  {
   "cell_type": "code",
   "execution_count": 1,
   "metadata": {},
   "outputs": [],
   "source": [
    "import jax.numpy as np\n",
    "import matplotlib.pyplot as plt\n",
    "\n",
    "from pzflow import Flow\n",
    "from pzflow.bijectors import Chain, InvSoftplus, StandardScaler, RollingSplineCoupling\n",
    "from pzflow.examples import get_galaxy_data\n",
    "\n",
    "import pandas as pd"
   ]
  },
  {
   "cell_type": "markdown",
   "metadata": {},
   "source": [
    "First let's load the example galaxy data set included with `pzflow`."
   ]
  },
  {
   "cell_type": "code",
   "execution_count": 3,
   "metadata": {},
   "outputs": [
    {
     "data": {
      "text/html": [
       "<div>\n",
       "<style scoped>\n",
       "    .dataframe tbody tr th:only-of-type {\n",
       "        vertical-align: middle;\n",
       "    }\n",
       "\n",
       "    .dataframe tbody tr th {\n",
       "        vertical-align: top;\n",
       "    }\n",
       "\n",
       "    .dataframe thead th {\n",
       "        text-align: right;\n",
       "    }\n",
       "</style>\n",
       "<table border=\"1\" class=\"dataframe\">\n",
       "  <thead>\n",
       "    <tr style=\"text-align: right;\">\n",
       "      <th></th>\n",
       "      <th>redshift</th>\n",
       "      <th>u</th>\n",
       "      <th>g</th>\n",
       "      <th>r</th>\n",
       "      <th>i</th>\n",
       "      <th>z</th>\n",
       "      <th>y</th>\n",
       "    </tr>\n",
       "  </thead>\n",
       "  <tbody>\n",
       "    <tr>\n",
       "      <th>0</th>\n",
       "      <td>0.287087</td>\n",
       "      <td>26.759261</td>\n",
       "      <td>25.901778</td>\n",
       "      <td>25.187710</td>\n",
       "      <td>24.932318</td>\n",
       "      <td>24.736903</td>\n",
       "      <td>24.671623</td>\n",
       "    </tr>\n",
       "    <tr>\n",
       "      <th>1</th>\n",
       "      <td>0.293313</td>\n",
       "      <td>27.428358</td>\n",
       "      <td>26.679299</td>\n",
       "      <td>25.977161</td>\n",
       "      <td>25.700094</td>\n",
       "      <td>25.522763</td>\n",
       "      <td>25.417632</td>\n",
       "    </tr>\n",
       "    <tr>\n",
       "      <th>2</th>\n",
       "      <td>1.497276</td>\n",
       "      <td>27.294001</td>\n",
       "      <td>26.068798</td>\n",
       "      <td>25.450055</td>\n",
       "      <td>24.460507</td>\n",
       "      <td>23.887221</td>\n",
       "      <td>23.206112</td>\n",
       "    </tr>\n",
       "    <tr>\n",
       "      <th>3</th>\n",
       "      <td>0.283310</td>\n",
       "      <td>28.154075</td>\n",
       "      <td>26.283166</td>\n",
       "      <td>24.599570</td>\n",
       "      <td>23.723491</td>\n",
       "      <td>23.214108</td>\n",
       "      <td>22.860012</td>\n",
       "    </tr>\n",
       "    <tr>\n",
       "      <th>4</th>\n",
       "      <td>1.545183</td>\n",
       "      <td>29.276065</td>\n",
       "      <td>27.878301</td>\n",
       "      <td>27.333528</td>\n",
       "      <td>26.543374</td>\n",
       "      <td>26.061941</td>\n",
       "      <td>25.383056</td>\n",
       "    </tr>\n",
       "  </tbody>\n",
       "</table>\n",
       "</div>"
      ],
      "text/plain": [
       "   redshift          u          g          r          i          z          y\n",
       "0  0.287087  26.759261  25.901778  25.187710  24.932318  24.736903  24.671623\n",
       "1  0.293313  27.428358  26.679299  25.977161  25.700094  25.522763  25.417632\n",
       "2  1.497276  27.294001  26.068798  25.450055  24.460507  23.887221  23.206112\n",
       "3  0.283310  28.154075  26.283166  24.599570  23.723491  23.214108  22.860012\n",
       "4  1.545183  29.276065  27.878301  27.333528  26.543374  26.061941  25.383056"
      ]
     },
     "execution_count": 3,
     "metadata": {},
     "output_type": "execute_result"
    }
   ],
   "source": [
    "# load the galaxy data\n",
    "data = get_galaxy_data()\n",
    "data.head()"
   ]
  },
  {
   "cell_type": "markdown",
   "metadata": {},
   "source": [
    "Now we must construct the bijector. \n",
    "It will be very similar to the bijector from the [redshift example](https://github.com/jfcrenshaw/pzflow/blob/main/examples/redshift_example.ipynb). \n",
    "\n",
    "To understand why this bijector is different you have to understand the difference between data variables (i.e. redshift) and conditional variables (i.e. the colors).\n",
    "The data variables are the variables that are subject to the bijector, which is conditioned on the conditional variables.\n",
    "In this flow, we will draw a single latent variable from a univariate Gaussian, apply the bijection, conditioned on the colors, to that single variable, and as a result, we will get a redshift.\n",
    "The bijection is conditioned on the *ugrizy* magnitudes, but the magnitudes do not have the bijection applied to them.\n",
    "In other words:\n",
    "$$ \\sigma \\sim \\mathcal{N}(0,1) \\quad \\text{and} \\quad \\text{redshift} = f(\\sigma| \\, u, g, r, i, z, y).$$\n",
    "\n",
    "Since we are only transforming one variable, let's only use a single layer of the Rolling Spline Coupling.\n",
    "However, there is one very important change we must make!\n",
    "We must set `n_conditions = 6`, because we are conditioning on 6 variables (i.e. u, g, r, i, z, y)"
   ]
  },
  {
   "cell_type": "code",
   "execution_count": 5,
   "metadata": {},
   "outputs": [],
   "source": [
    "# set the inverse softplus parameters, \n",
    "# to ensure that sampled redshifts are positive\n",
    "column_idx = 0\n",
    "sharpness = 10\n",
    "\n",
    "# calculate the mean and standard deviation of the redshifts\n",
    "means = data['redshift'].mean()\n",
    "stds = data['redshift'].std()\n",
    "\n",
    "# construct our bijector\n",
    "# by chaining all these layers\n",
    "bijector = Chain(\n",
    "    InvSoftplus(column_idx, sharpness),\n",
    "    StandardScaler(means, stds),\n",
    "    RollingSplineCoupling(nlayers=1, n_conditions=6),\n",
    ")"
   ]
  },
  {
   "cell_type": "markdown",
   "metadata": {},
   "source": [
    "Now we instantiate the Flow.\n",
    "This is identical to before, except now we must differentiate between `data_columns` and `conditional_columns`."
   ]
  },
  {
   "cell_type": "code",
   "execution_count": 6,
   "metadata": {},
   "outputs": [],
   "source": [
    "# To create the conditional flow, we have to provide\n",
    "# 1. The names of the data columns\n",
    "# 2. The bijector\n",
    "# 3. The names of the conditional columns\n",
    "flow = Flow(data.columns[:1], bijector, conditional_columns=data.columns[1:])"
   ]
  },
  {
   "cell_type": "markdown",
   "metadata": {},
   "source": [
    "Now we can train our normalizing flow in the exact same way as before."
   ]
  },
  {
   "cell_type": "code",
   "execution_count": 7,
   "metadata": {},
   "outputs": [
    {
     "name": "stdout",
     "output_type": "stream",
     "text": [
      "Training 125 epochs \n",
      "Loss:\n",
      "(0) 0.8816\n",
      "(1) -0.3766\n",
      "(7) -1.3737\n",
      "(13) -1.8210\n",
      "(19) -2.0013\n",
      "(25) -2.2527\n",
      "(31) -2.4032\n",
      "(37) -2.4712\n",
      "(43) -2.5812\n",
      "(49) -2.6878\n",
      "(55) -2.7639\n",
      "(61) -2.7107\n",
      "(67) -2.8615\n",
      "(73) -2.8751\n",
      "(79) -2.9825\n",
      "(85) -2.9824\n",
      "(91) -3.0107\n",
      "(97) -3.0882\n",
      "(103) -3.0475\n",
      "(109) -2.8756\n",
      "(115) -2.9025\n",
      "(121) -3.1734\n",
      "(125) -3.1120\n",
      "CPU times: user 40.2 s, sys: 43.8 s, total: 1min 23s\n",
      "Wall time: 29.7 s\n"
     ]
    }
   ],
   "source": [
    "%%time\n",
    "losses = flow.train(data, epochs=125, verbose=True)"
   ]
  },
  {
   "cell_type": "markdown",
   "metadata": {},
   "source": [
    "Now let's plot the training losses to make sure everything looks like we expect it to..."
   ]
  },
  {
   "cell_type": "code",
   "execution_count": 8,
   "metadata": {},
   "outputs": [
    {
     "data": {
      "image/png": "[encoded data removed]",
      "text/plain": [
       "<Figure size 432x288 with 1 Axes>"
      ]
     },
     "metadata": {
      "needs_background": "light"
     },
     "output_type": "display_data"
    }
   ],
   "source": [
    "plt.plot(losses)\n",
    "plt.xlabel(\"Epoch\")\n",
    "plt.ylabel(\"Training loss\")\n",
    "plt.show()"
   ]
  },
  {
   "cell_type": "markdown",
   "metadata": {},
   "source": [
    "Great!\n",
    "\n",
    "You can use this conditional flow in essentially the same way as the non-conditional flows.\n",
    "For example, you can calculate posteriors:"
   ]
  },
  {
   "cell_type": "code",
   "execution_count": 9,
   "metadata": {},
   "outputs": [],
   "source": [
    "galaxy = data[:1]\n",
    "grid = np.arange(0, 2.02, 0.02)\n",
    "pdf = flow.posterior(galaxy, column=\"redshift\", grid=grid)"
   ]
  },
  {
   "cell_type": "code",
   "execution_count": 10,
   "metadata": {},
   "outputs": [
    {
     "data": {
      "image/png": "[encoded data removed]",
      "text/plain": [
       "<Figure size 432x288 with 1 Axes>"
      ]
     },
     "metadata": {
      "needs_background": "light"
     },
     "output_type": "display_data"
    }
   ],
   "source": [
    "plt.plot(grid, pdf[0], label='Posterior')\n",
    "plt.axvline(galaxy['redshift'][0], 0, 1, c='C3', label='True redshift')\n",
    "plt.legend()\n",
    "plt.xlabel(\"redshift\")\n",
    "plt.show()"
   ]
  },
  {
   "cell_type": "markdown",
   "metadata": {},
   "source": [
    "We can also sample from the flow, but the key difference is that now we must provide conditions on which to condition the samples. In addition, `nsamples` controls how many times each condition is sampled from. So for example, if we take the first 500 conditions in our data set, and set `nsamples = 4`, we will get 2000 samples."
   ]
  },
  {
   "cell_type": "code",
   "execution_count": 11,
   "metadata": {},
   "outputs": [
    {
     "name": "stdout",
     "output_type": "stream",
     "text": [
      "(2000, 7)\n"
     ]
    }
   ],
   "source": [
    "# draw 4 samples for each of the first 500 conditions\n",
    "samples = flow.sample(4, conditions=data[:500], seed=0)\n",
    "print(samples.shape)"
   ]
  },
  {
   "cell_type": "code",
   "execution_count": 12,
   "metadata": {},
   "outputs": [
    {
     "data": {
      "text/html": [
       "<div>\n",
       "<style scoped>\n",
       "    .dataframe tbody tr th:only-of-type {\n",
       "        vertical-align: middle;\n",
       "    }\n",
       "\n",
       "    .dataframe tbody tr th {\n",
       "        vertical-align: top;\n",
       "    }\n",
       "\n",
       "    .dataframe thead th {\n",
       "        text-align: right;\n",
       "    }\n",
       "</style>\n",
       "<table border=\"1\" class=\"dataframe\">\n",
       "  <thead>\n",
       "    <tr style=\"text-align: right;\">\n",
       "      <th></th>\n",
       "      <th>redshift</th>\n",
       "      <th>u</th>\n",
       "      <th>g</th>\n",
       "      <th>r</th>\n",
       "      <th>i</th>\n",
       "      <th>z</th>\n",
       "      <th>y</th>\n",
       "    </tr>\n",
       "  </thead>\n",
       "  <tbody>\n",
       "    <tr>\n",
       "      <th>0</th>\n",
       "      <td>0.298494</td>\n",
       "      <td>26.759260</td>\n",
       "      <td>25.901777</td>\n",
       "      <td>25.187710</td>\n",
       "      <td>24.932318</td>\n",
       "      <td>24.736902</td>\n",
       "      <td>24.671623</td>\n",
       "    </tr>\n",
       "    <tr>\n",
       "      <th>1</th>\n",
       "      <td>0.292876</td>\n",
       "      <td>26.759260</td>\n",
       "      <td>25.901777</td>\n",
       "      <td>25.187710</td>\n",
       "      <td>24.932318</td>\n",
       "      <td>24.736902</td>\n",
       "      <td>24.671623</td>\n",
       "    </tr>\n",
       "    <tr>\n",
       "      <th>2</th>\n",
       "      <td>0.278755</td>\n",
       "      <td>26.759260</td>\n",
       "      <td>25.901777</td>\n",
       "      <td>25.187710</td>\n",
       "      <td>24.932318</td>\n",
       "      <td>24.736902</td>\n",
       "      <td>24.671623</td>\n",
       "    </tr>\n",
       "    <tr>\n",
       "      <th>3</th>\n",
       "      <td>0.297940</td>\n",
       "      <td>26.759260</td>\n",
       "      <td>25.901777</td>\n",
       "      <td>25.187710</td>\n",
       "      <td>24.932318</td>\n",
       "      <td>24.736902</td>\n",
       "      <td>24.671623</td>\n",
       "    </tr>\n",
       "    <tr>\n",
       "      <th>4</th>\n",
       "      <td>0.271918</td>\n",
       "      <td>27.428358</td>\n",
       "      <td>26.679298</td>\n",
       "      <td>25.977161</td>\n",
       "      <td>25.700094</td>\n",
       "      <td>25.522762</td>\n",
       "      <td>25.417631</td>\n",
       "    </tr>\n",
       "    <tr>\n",
       "      <th>5</th>\n",
       "      <td>0.346170</td>\n",
       "      <td>27.428358</td>\n",
       "      <td>26.679298</td>\n",
       "      <td>25.977161</td>\n",
       "      <td>25.700094</td>\n",
       "      <td>25.522762</td>\n",
       "      <td>25.417631</td>\n",
       "    </tr>\n",
       "    <tr>\n",
       "      <th>6</th>\n",
       "      <td>0.299497</td>\n",
       "      <td>27.428358</td>\n",
       "      <td>26.679298</td>\n",
       "      <td>25.977161</td>\n",
       "      <td>25.700094</td>\n",
       "      <td>25.522762</td>\n",
       "      <td>25.417631</td>\n",
       "    </tr>\n",
       "    <tr>\n",
       "      <th>7</th>\n",
       "      <td>0.304283</td>\n",
       "      <td>27.428358</td>\n",
       "      <td>26.679298</td>\n",
       "      <td>25.977161</td>\n",
       "      <td>25.700094</td>\n",
       "      <td>25.522762</td>\n",
       "      <td>25.417631</td>\n",
       "    </tr>\n",
       "    <tr>\n",
       "      <th>8</th>\n",
       "      <td>1.394503</td>\n",
       "      <td>27.294001</td>\n",
       "      <td>26.068798</td>\n",
       "      <td>25.450054</td>\n",
       "      <td>24.460506</td>\n",
       "      <td>23.887220</td>\n",
       "      <td>23.206112</td>\n",
       "    </tr>\n",
       "    <tr>\n",
       "      <th>9</th>\n",
       "      <td>1.392877</td>\n",
       "      <td>27.294001</td>\n",
       "      <td>26.068798</td>\n",
       "      <td>25.450054</td>\n",
       "      <td>24.460506</td>\n",
       "      <td>23.887220</td>\n",
       "      <td>23.206112</td>\n",
       "    </tr>\n",
       "  </tbody>\n",
       "</table>\n",
       "</div>"
      ],
      "text/plain": [
       "   redshift          u          g          r          i          z          y\n",
       "0  0.298494  26.759260  25.901777  25.187710  24.932318  24.736902  24.671623\n",
       "1  0.292876  26.759260  25.901777  25.187710  24.932318  24.736902  24.671623\n",
       "2  0.278755  26.759260  25.901777  25.187710  24.932318  24.736902  24.671623\n",
       "3  0.297940  26.759260  25.901777  25.187710  24.932318  24.736902  24.671623\n",
       "4  0.271918  27.428358  26.679298  25.977161  25.700094  25.522762  25.417631\n",
       "5  0.346170  27.428358  26.679298  25.977161  25.700094  25.522762  25.417631\n",
       "6  0.299497  27.428358  26.679298  25.977161  25.700094  25.522762  25.417631\n",
       "7  0.304283  27.428358  26.679298  25.977161  25.700094  25.522762  25.417631\n",
       "8  1.394503  27.294001  26.068798  25.450054  24.460506  23.887220  23.206112\n",
       "9  1.392877  27.294001  26.068798  25.450054  24.460506  23.887220  23.206112"
      ]
     },
     "execution_count": 12,
     "metadata": {},
     "output_type": "execute_result"
    }
   ],
   "source": [
    "# lets print the first 10\n",
    "# see how conditions 0-3 are the same?\n",
    "# and 4-7? etc.\n",
    "samples[:10]"
   ]
  },
  {
   "cell_type": "markdown",
   "metadata": {},
   "source": [
    "Let's draw one sample for each condition, to make sure that our samples match the data distribution"
   ]
  },
  {
   "cell_type": "code",
   "execution_count": 13,
   "metadata": {},
   "outputs": [],
   "source": [
    "samples = flow.sample(1, conditions=data, seed=0)"
   ]
  },
  {
   "cell_type": "code",
   "execution_count": 14,
   "metadata": {},
   "outputs": [
    {
     "data": {
      "image/png": "[encoded data removed]",
      "text/plain": [
       "<Figure size 432x288 with 1 Axes>"
      ]
     },
     "metadata": {
      "needs_background": "light"
     },
     "output_type": "display_data"
    }
   ],
   "source": [
    "plt.hist(data['redshift'], range=(0, 2.5), bins=40, histtype='step', label='data')\n",
    "plt.hist(samples['redshift'], range=(0, 2.5), bins=40, histtype='step', label='samples')\n",
    "plt.legend()\n",
    "plt.show()"
   ]
  },
  {
   "cell_type": "markdown",
   "metadata": {},
   "source": [
    "Perfect!"
   ]
  },
  {
   "cell_type": "code",
   "execution_count": null,
   "metadata": {},
   "outputs": [],
   "source": []
  }
 ],
 "metadata": {
  "interpreter": {
   "hash": "ddb71c8dc1ffef2557a2c9d44be5bf38b52fc98479b572e5007cdf63195ae033"
  },
  "kernelspec": {
   "display_name": "Python 3",
   "language": "python",
   "name": "python3"
  },
  "language_info": {
   "codemirror_mode": {
    "name": "ipython",
    "version": 3
   },
   "file_extension": ".py",
   "mimetype": "text/x-python",
   "name": "python",
   "nbconvert_exporter": "python",
   "pygments_lexer": "ipython3",
   "version": "3.7.6"
  }
 },
 "nbformat": 4,
 "nbformat_minor": 4
}
