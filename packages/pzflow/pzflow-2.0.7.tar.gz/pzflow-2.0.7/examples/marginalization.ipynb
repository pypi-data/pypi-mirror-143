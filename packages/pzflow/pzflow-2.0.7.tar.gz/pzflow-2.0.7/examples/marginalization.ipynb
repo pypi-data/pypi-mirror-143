{
 "cells": [
  {
   "cell_type": "markdown",
   "metadata": {},
   "source": [
    "[![Open In Colab](https://colab.research.google.com/assets/colab-badge.svg)](https://colab.research.google.com/github/jfcrenshaw/pzflow/blob/main/examples/marginalization.ipynb)\n",
    "\n",
    "If running in Colab, to switch to GPU, go to the menu and select Runtime -> Change runtime type -> Hardware accelerator -> GPU.\n",
    "\n",
    "In addition, uncomment and run the following code:"
   ]
  },
  {
   "cell_type": "code",
   "execution_count": null,
   "metadata": {},
   "outputs": [],
   "source": [
    "# !pip install pzflow"
   ]
  },
  {
   "cell_type": "markdown",
   "metadata": {},
   "source": [
    "-------------------\n",
    "## Marginalization during posterior calculation\n",
    "\n",
    "This example notebook demonstrates how to marginalize over missing variables during posterior calculation.\n",
    "We will use the Flow trained in the [redshift example](https://github.com/jfcrenshaw/pzflow/blob/main/examples/redshift_example.ipynb)."
   ]
  },
  {
   "cell_type": "code",
   "execution_count": 1,
   "metadata": {},
   "outputs": [],
   "source": [
    "import jax.numpy as np\n",
    "import matplotlib.pyplot as plt\n",
    "from pzflow.examples import get_example_flow"
   ]
  },
  {
   "cell_type": "markdown",
   "metadata": {},
   "source": [
    "First let's load the pre-trained flow, and use it to generate some samples:"
   ]
  },
  {
   "cell_type": "code",
   "execution_count": 2,
   "metadata": {},
   "outputs": [],
   "source": [
    "flow = get_example_flow()\n",
    "samples = flow.sample(2, seed=123)"
   ]
  },
  {
   "cell_type": "code",
   "execution_count": 3,
   "metadata": {},
   "outputs": [
    {
     "data": {
      "text/html": [
       "<div>\n",
       "<style scoped>\n",
       "    .dataframe tbody tr th:only-of-type {\n",
       "        vertical-align: middle;\n",
       "    }\n",
       "\n",
       "    .dataframe tbody tr th {\n",
       "        vertical-align: top;\n",
       "    }\n",
       "\n",
       "    .dataframe thead th {\n",
       "        text-align: right;\n",
       "    }\n",
       "</style>\n",
       "<table border=\"1\" class=\"dataframe\">\n",
       "  <thead>\n",
       "    <tr style=\"text-align: right;\">\n",
       "      <th></th>\n",
       "      <th>redshift</th>\n",
       "      <th>u</th>\n",
       "      <th>g</th>\n",
       "      <th>r</th>\n",
       "      <th>i</th>\n",
       "      <th>z</th>\n",
       "      <th>y</th>\n",
       "    </tr>\n",
       "  </thead>\n",
       "  <tbody>\n",
       "    <tr>\n",
       "      <th>0</th>\n",
       "      <td>0.499952</td>\n",
       "      <td>27.598946</td>\n",
       "      <td>26.748329</td>\n",
       "      <td>25.781645</td>\n",
       "      <td>25.457640</td>\n",
       "      <td>25.278704</td>\n",
       "      <td>25.096481</td>\n",
       "    </tr>\n",
       "    <tr>\n",
       "      <th>1</th>\n",
       "      <td>1.180598</td>\n",
       "      <td>26.652370</td>\n",
       "      <td>26.282919</td>\n",
       "      <td>25.781929</td>\n",
       "      <td>25.357738</td>\n",
       "      <td>24.700449</td>\n",
       "      <td>24.377434</td>\n",
       "    </tr>\n",
       "  </tbody>\n",
       "</table>\n",
       "</div>"
      ],
      "text/plain": [
       "   redshift          u          g          r          i          z          y\n",
       "0  0.499952  27.598946  26.748329  25.781645  25.457640  25.278704  25.096481\n",
       "1  1.180598  26.652370  26.282919  25.781929  25.357738  24.700449  24.377434"
      ]
     },
     "execution_count": 3,
     "metadata": {},
     "output_type": "execute_result"
    }
   ],
   "source": [
    "samples"
   ]
  },
  {
   "cell_type": "markdown",
   "metadata": {},
   "source": [
    "Remember that we can calculate posteriors for the data in samples. For example, let's plot redshift posteriors:"
   ]
  },
  {
   "cell_type": "code",
   "execution_count": 4,
   "metadata": {},
   "outputs": [],
   "source": [
    "grid = np.linspace(0.25, 1.45, 100)\n",
    "pdfs = flow.posterior(samples, column=\"redshift\", grid=grid)"
   ]
  },
  {
   "cell_type": "code",
   "execution_count": 5,
   "metadata": {},
   "outputs": [
    {
     "data": {
      "image/png": "[encoded data removed]",
      "text/plain": [
       "<Figure size 660x240 with 2 Axes>"
      ]
     },
     "metadata": {
      "needs_background": "light"
     },
     "output_type": "display_data"
    }
   ],
   "source": [
    "fig, axes = plt.subplots(1, 2, figsize=(5.5, 2), dpi=120, constrained_layout=True)\n",
    "\n",
    "for i, ax in enumerate(axes.flatten()):\n",
    "    \n",
    "    ax.plot(grid, pdfs[i], label=\"Redshift posterior\")\n",
    "    \n",
    "    ztrue = samples[\"redshift\"][i]\n",
    "    ax.axvline(ztrue, c=\"C3\", label=\"True redshift\")\n",
    "    ax.set(\n",
    "        xlabel=\"redshift\", \n",
    "        xlim=(ztrue - 0.25, ztrue + 0.25), \n",
    "        yticks=[]\n",
    "    )\n",
    "    \n",
    "axes[0].legend(\n",
    "    bbox_to_anchor=(0.55, 1.05, 1, 0.2), \n",
    "    loc=\"lower left\",\n",
    "    mode=\"expand\", \n",
    "    borderaxespad=0, \n",
    "    ncol=2,\n",
    "    fontsize=8,\n",
    ")\n",
    "\n",
    "plt.show()"
   ]
  },
  {
   "cell_type": "markdown",
   "metadata": {},
   "source": [
    "But what if we have missing values? E.g. let's imagine that galaxy 1 wasn't observed in the u band, while galaxy 2 wasn't observed in the u or y bands. We will mark these non-observations with the value 99:"
   ]
  },
  {
   "cell_type": "code",
   "execution_count": 6,
   "metadata": {},
   "outputs": [
    {
     "data": {
      "text/html": [
       "<div>\n",
       "<style scoped>\n",
       "    .dataframe tbody tr th:only-of-type {\n",
       "        vertical-align: middle;\n",
       "    }\n",
       "\n",
       "    .dataframe tbody tr th {\n",
       "        vertical-align: top;\n",
       "    }\n",
       "\n",
       "    .dataframe thead th {\n",
       "        text-align: right;\n",
       "    }\n",
       "</style>\n",
       "<table border=\"1\" class=\"dataframe\">\n",
       "  <thead>\n",
       "    <tr style=\"text-align: right;\">\n",
       "      <th></th>\n",
       "      <th>redshift</th>\n",
       "      <th>u</th>\n",
       "      <th>g</th>\n",
       "      <th>r</th>\n",
       "      <th>i</th>\n",
       "      <th>z</th>\n",
       "      <th>y</th>\n",
       "    </tr>\n",
       "  </thead>\n",
       "  <tbody>\n",
       "    <tr>\n",
       "      <th>0</th>\n",
       "      <td>0.499952</td>\n",
       "      <td>99.0</td>\n",
       "      <td>26.748329</td>\n",
       "      <td>25.781645</td>\n",
       "      <td>25.457640</td>\n",
       "      <td>25.278704</td>\n",
       "      <td>25.096481</td>\n",
       "    </tr>\n",
       "    <tr>\n",
       "      <th>1</th>\n",
       "      <td>1.180598</td>\n",
       "      <td>99.0</td>\n",
       "      <td>26.282919</td>\n",
       "      <td>25.781929</td>\n",
       "      <td>25.357738</td>\n",
       "      <td>24.700449</td>\n",
       "      <td>99.000000</td>\n",
       "    </tr>\n",
       "  </tbody>\n",
       "</table>\n",
       "</div>"
      ],
      "text/plain": [
       "   redshift     u          g          r          i          z          y\n",
       "0  0.499952  99.0  26.748329  25.781645  25.457640  25.278704  25.096481\n",
       "1  1.180598  99.0  26.282919  25.781929  25.357738  24.700449  99.000000"
      ]
     },
     "execution_count": 6,
     "metadata": {},
     "output_type": "execute_result"
    }
   ],
   "source": [
    "# make a new copy of the samples\n",
    "samples2 = samples.copy()\n",
    "# make the non-observations\n",
    "samples2.iloc[0, 1] = 99\n",
    "samples2.iloc[1, 1] = 99\n",
    "samples2.iloc[1, -1] = 99\n",
    "# print the new samples\n",
    "samples2"
   ]
  },
  {
   "cell_type": "markdown",
   "metadata": {},
   "source": [
    "Now if we want to calculate posteriors, we can't simply call `flow.posterior()` as before because the flow will think that 99 is the actual value for those bands, rather than just a flag for a missing value. What we can do, however, is pass `marg_rules`, which is a dictionary of rules that tells the Flow how to marginalize over missing variables.\n",
    "\n",
    "`marg_rules` must include:\n",
    "- \"flag\": 99, which tells the posterior method that 99 is the flag for missing values\n",
    "- \"u\": callable, which returns an array of values for the u band over which to marginalize\n",
    "- \"y\": callable, which returns an array of values for the y band over which to marginalize\n",
    "\n",
    "\"u\" and \"y\" both map to callable, because you can use a function of the other values to decide what values of u and y to marginalize over. For example, maybe you expect the value of u to be close to the value of g. In which case you might use:\n",
    "```\n",
    "\"u\": lambda row: np.linspace(row[\"g\"] - 1, row[\"g\"] + 1, 100)\n",
    "```\n",
    "The only constraint is that regardless of the values of the other variables, the callable must *always* return an array of the same length.\n",
    "\n",
    "For this example, we won't make the marginalization rules a function of the other variables, but will instead return a fixed array."
   ]
  },
  {
   "cell_type": "code",
   "execution_count": 7,
   "metadata": {},
   "outputs": [],
   "source": [
    "marg_rules = {\n",
    "    \"flag\": 99, # tells the posterior method that 99 means missing value\n",
    "    \"u\": lambda row: np.linspace(26, 28, 40), # the array of u values to marginalize over\n",
    "    \"y\": lambda row: np.linspace(24, 26, 40), # the array of y values to marginalize over\n",
    "}\n",
    "\n",
    "pdfs2 = flow.posterior(samples2, column=\"redshift\", grid=grid, marg_rules=marg_rules)"
   ]
  },
  {
   "cell_type": "code",
   "execution_count": 8,
   "metadata": {},
   "outputs": [
    {
     "data": {
      "image/png": "[encoded data removed]",
      "text/plain": [
       "<Figure size 660x240 with 2 Axes>"
      ]
     },
     "metadata": {
      "needs_background": "light"
     },
     "output_type": "display_data"
    }
   ],
   "source": [
    "fig, axes = plt.subplots(1, 2, figsize=(5.5, 2), dpi=120, constrained_layout=True)\n",
    "\n",
    "for i, ax in enumerate(axes.flatten()):\n",
    "    \n",
    "    ax.plot(grid, pdfs[i], label=\"Posterior w/ all bands\")\n",
    "    ax.plot(grid, pdfs2[i], label=\"Posterior w/ missing bands marginalized\")\n",
    "    \n",
    "    ztrue = samples[\"redshift\"][i]\n",
    "    ax.axvline(ztrue, c=\"C3\", label=\"True redshift\")\n",
    "    ax.set(\n",
    "        xlabel=\"redshift\", \n",
    "        xlim=(ztrue - 0.25, ztrue + 0.25), \n",
    "        yticks=[]\n",
    "    )\n",
    "    \n",
    "axes[0].legend(\n",
    "    bbox_to_anchor=(0, 1.05, 2, 0.2), \n",
    "    loc=\"lower left\",\n",
    "    mode=\"expand\", \n",
    "    borderaxespad=0, \n",
    "    ncol=3,\n",
    "    fontsize=7.5,\n",
    ")\n",
    "\n",
    "plt.show()"
   ]
  },
  {
   "cell_type": "markdown",
   "metadata": {},
   "source": [
    "You can see that marginalizing over the bands (aka throwing out information), degrades the posteriors.\n",
    "\n",
    "Warning that marginalizing over fine grids quickly gets very computationally expensive, especially when you have rows in your data frame that are missing multiple values."
   ]
  },
  {
   "cell_type": "code",
   "execution_count": null,
   "metadata": {},
   "outputs": [],
   "source": []
  }
 ],
 "metadata": {
  "kernelspec": {
   "display_name": "Python 3.9.1 64-bit ('pzflow': conda)",
   "language": "python",
   "name": "python391jvsc74a57bd0ddb71c8dc1ffef2557a2c9d44be5bf38b52fc98479b572e5007cdf63195ae033"
  },
  "language_info": {
   "codemirror_mode": {
    "name": "ipython",
    "version": 3
   },
   "file_extension": ".py",
   "mimetype": "text/x-python",
   "name": "python",
   "nbconvert_exporter": "python",
   "pygments_lexer": "ipython3",
   "version": "3.9.1"
  }
 },
 "nbformat": 4,
 "nbformat_minor": 4
}
