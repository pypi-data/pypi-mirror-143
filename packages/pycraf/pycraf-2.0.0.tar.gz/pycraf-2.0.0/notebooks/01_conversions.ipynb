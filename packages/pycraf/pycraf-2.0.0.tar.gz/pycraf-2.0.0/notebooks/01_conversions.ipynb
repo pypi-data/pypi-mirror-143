{
 "cells": [
  {
   "cell_type": "markdown",
   "metadata": {},
   "source": [
    "# Basic conversion formulas"
   ]
  },
  {
   "cell_type": "markdown",
   "metadata": {},
   "source": [
    "## License\n",
    "\n",
    "```\n",
    "Basic conversion formulas for Radioastronomy.\n",
    "Copyright (C) 2012+  Axel Jessner (jessner@mpifr.de)\n",
    "              2015+  Benjamin Winkel (bwinkel@mpifr.de)\n",
    "\n",
    "This program is free software; you can redistribute it and/or\n",
    "modify it under the terms of the GNU General Public License\n",
    "as published by the Free Software Foundation; either version 2\n",
    "of the License, or (at your option) any later version.\n",
    "\n",
    "This program is distributed in the hope that it will be useful,\n",
    "but WITHOUT ANY WARRANTY; without even the implied warranty of\n",
    "MERCHANTABILITY or FITNESS FOR A PARTICULAR PURPOSE.  See the\n",
    "GNU General Public License for more details.\n",
    "\n",
    "You should have received a copy of the GNU General Public License\n",
    "along with this program; if not, write to the Free Software\n",
    "Foundation, Inc., 51 Franklin Street, Fifth Floor, Boston, MA  02110-1301, USA.\n",
    "```"
   ]
  },
  {
   "cell_type": "markdown",
   "metadata": {},
   "source": [
    "## Basic quantities and conversions\n",
    "\n",
    "Pointing flux is defined as\n",
    "\n",
    "$$\\vec S = \\vec E \\times \\vec H\\,.$$\n",
    "\n",
    "For a plane wave we find\n",
    "\n",
    "$$S\\equiv\\vert \\vec S \\vert = \\sqrt{\\frac{\\varepsilon_0}{\\mu_0}} \\vert \\vec E \\vert^2 = \\frac{E^2}{R_0}$$\n",
    "\n",
    "with\n",
    "\n",
    "$$R_0 \\equiv \\sqrt{\\frac{\\varepsilon_0}{\\mu_0}} = 376.73~\\Omega\\,.$$\n",
    "\n",
    "$S$ is also known as the power flux density, and it is\n",
    "\n",
    "$$ S = G_\\mathrm{tx}\\frac{P_\\mathrm{tx}}{4\\pi d^2} = \\int \\mathrm{d}\\nu\\,S_\\nu\\,, $$\n",
    "\n",
    "the power per unit area from a transmitter with power $P_\\mathrm{tx}$ and gain, $G_\\mathrm{tx}$, at distance, $d$. $S_\\nu$ is the flux density, which is often expressed in units of Jansky in radio astronomy.\n",
    "If a field strength, $E_\\mathrm{rx}$, is observed originating from this transmitter we can thus calculate $P_\\mathrm{tx}$ via\n",
    "\n",
    "$$ P_\\mathrm{tx}(E_\\mathrm{rx}, d, G_\\mathrm{tx}) = \\frac{4\\pi d^2}{G_\\mathrm{tx}} \\frac{E_\\mathrm{rx}^2}{R_0}\\,. $$\n",
    "\n",
    "Here, free-space propagation is assumed! Likewise, we can calculate $E_\\mathrm{rx}$ for a given transmitter power, $P_\\mathrm{tx}$,\n",
    "\n",
    "$$ E_\\mathrm{rx}(P_\\mathrm{tx}, d, G_\\mathrm{tx}) = \\sqrt{\\frac{P_\\mathrm{tx}G_\\mathrm{tx}}{4\\pi} R_0} \\frac{1}{d}\\,. $$\n",
    "\n",
    "Example:\n",
    "\n",
    "$$ E_\\mathrm{rx}^\\mathrm{unit}\n",
    "  \\equiv E_\\mathrm{rx}(1~\\mathrm{W}, 1~\\mathrm{km}, 1)\n",
    "  = 5.475\\cdot10^{-3}~\\frac{\\mathrm{V}}{\\mathrm{m}}\n",
    "$$"
   ]
  },
  {
   "cell_type": "markdown",
   "metadata": {},
   "source": [
    "## Conversion functions and examples\n",
    "\n",
    "One often uses logarithmic units for convenience ($\\log x \\equiv\\log_{10}x$):\n",
    "\n",
    "\\begin{align}\n",
    "\\mathrm{dBm}(P) = \\mathrm{dB}_\\mathrm{mW}(P) \n",
    "&\\equiv \\mathrm{dB}\\left[P[\\mathrm{mW}]\\right] = 10\\log\\left(P[W]\\right) + 30 \\\\\n",
    "\\mathrm{dB}_{\\mathrm{\\mu V / m}}(E) \n",
    "&\\equiv \\mathrm{dB}\\left[\\left(E[\\mathrm{\\mu V / m}]\\right)^2\\right] = 20\\log\\left(E\\left[\\mathrm{\\mu V/m}\\right]\\right)\\\\\n",
    "\\mathrm{dB}_{\\mathrm{W / m^2}}(S) \n",
    "&\\equiv \\mathrm{dB}\\left[S[\\mathrm{W / m^2}]\\right] = 10\\log\\left(S\\left[\\mathrm{W/m^2}\\right]\\right)\n",
    "\\end{align}\n",
    "Example:\n",
    "\n",
    "$$ E_\\mathrm{rx}^\\mathrm{unit} \\left[\\mathrm{dB}_{\\mathrm{\\mu V / m}}\\right] = 74.768$$"
   ]
  },
  {
   "cell_type": "markdown",
   "metadata": {},
   "source": [
    "### EIRP\n",
    "If a receiving station detects a certain field strengths (or power), the equivalent isotropically radiated power (EIRP) is the necessary transmitted power, $P_\\mathrm{tx}$ if the transmitter gain, $G_\\mathrm{tx}$, was $0~\\mathrm{dBi}$. The true transmitted power could have been much lower (higher), if the transmitter had positive (negative) gain (in dBi) towards the receiver.\n",
    "\n",
    "\\begin{equation}\n",
    "\\begin{split}\n",
    "P_\\mathrm{tx}\\left[\\mathrm{dBm}\\right]\n",
    "&= \\mathrm{dBm}\\left[\\frac{4\\pi d^2}{G} \\frac{E_\\mathrm{rx}^2}{R_0}\\right]\\\\\n",
    "&=   \\mathrm{dB}\\left[\\left(E[\\mathrm{\\mu V / m}]\\right)^2\\right]\n",
    "   + \\mathrm{dB}\\left[\\left(d[\\mathrm{m}]\\right)^2\\right]\n",
    "   + \\mathrm{dB}\\left[G\\right]\n",
    "   + \\mathrm{dB}\\left[R_0[\\mathrm{mW / \\mu V}^2]\\right] \\\\\n",
    "&=   20\\log\\left(E\\left[\\mathrm{\\mu V/m}\\right]\\right)\n",
    "   + 20\\log(d[\\mathrm{m}])\n",
    "   + 10\\log(G)\n",
    "   - 74.8 \\\\\n",
    "&=   20\\log\\left(E\\left[\\mathrm{\\mu V/m}\\right]\\right)\n",
    "   + 20\\log(d[\\mathrm{km}])\n",
    "   + 10\\log(G)\n",
    "   - 44.8 \n",
    "\\end{split}\n",
    "\\end{equation}\n",
    "\n",
    "\\begin{equation}\n",
    "\\begin{split}\n",
    "P_\\mathrm{eirp}[\\mathrm{dBm}] \\overset{G=1}{\\equiv}  P_\\mathrm{tx}\\left[\\mathrm{dBm}\\right]\n",
    "&=   20\\log\\left(E\\left[\\mathrm{\\mu V/m}\\right]\\right)\n",
    "   + 20\\log(d[\\mathrm{km}])\n",
    "   - 44.8 \n",
    "\\end{split}\n",
    "\\end{equation}"
   ]
  },
  {
   "cell_type": "markdown",
   "metadata": {},
   "source": [
    "## Power transmission and free-space propagation\n",
    " \n",
    "Up to now, we only converted (transmitted) power to (received) field strength at a certain distance. However, usually an antenna is used to measure (the power of) the field strength. This is where things get frequency-dependent, as we will see now. The observed power flux density, $S$, from the transmitter creates a power, $P_\\mathrm{rx}$, depending on the effective area of the receiver\n",
    "\n",
    "$$ P_\\mathrm{rx} = S\\cdot A_\\mathrm{eff}^\\mathrm{rx}\\,.$$\n",
    "\n",
    "### Reciprocity theorem\n",
    "\n",
    "One can show that independent of the antenna type\n",
    "\n",
    "$$ \\frac{G(\\theta, \\phi)}{A_\\mathrm{eff}(\\theta, \\phi)} = \\frac{4\\pi}{\\lambda^2}\\,. $$\n",
    "\n",
    "Hence,\n",
    "\n",
    "$$ P_\\mathrm{rx} = S\\cdot A_\\mathrm{eff}^\\mathrm{rx} = S\\cdot G_\\mathrm{rx}\\frac{\\lambda^2}{4\\pi} \\,,$$\n",
    "\n",
    "i.e., the received power is dependent on frequency. From this, it also follows that\n",
    "\n",
    "$$ P_\\mathrm{rx} =  \\frac{E^2}{R_0} G_\\mathrm{rx}\\frac{\\lambda^2}{4\\pi} \\,.$$\n",
    "\n",
    "\n",
    "This seemingly counterintuitive behavior can also be understood with the following argument. Assume, both antenna gains are one, $G=1=0~\\mathrm{dBi}$ (w.l.o.g). To receive a certain power with the given antenna area, i.e., receive power flux density, $S$, and as such have $G=1$, an antenna needs to get larger with larger wavelength, because\n",
    "\n",
    "$$ A_\\mathrm{eff} = G\\frac{\\lambda^2}{4\\pi}$$\n",
    "\n",
    "\n",
    "\n",
    "### Friis transmission equation\n",
    "Combining \n",
    "\n",
    "$$ P_\\mathrm{rx} = S\\cdot G_\\mathrm{rx}\\frac{\\lambda^2}{4\\pi}= S\\cdot G_\\mathrm{rx}\\frac{c^2}{4\\pi}\\frac{1}{f^2} \\,,$$\n",
    "\n",
    "and\n",
    "\n",
    "$$ S = G_\\mathrm{tx}\\frac{P_\\mathrm{tx}}{4\\pi d^2}\\,, $$\n",
    "\n",
    "it directly follows that\n",
    "\n",
    "$$ \\frac{P_\\mathrm{rx}}{P_\\mathrm{tx}} \n",
    "= G_\\mathrm{tx} G_\\mathrm{rx} \\left(\\frac{\\lambda}{4\\pi d}\\right)^2$$\n",
    "\n",
    "$$ P_\\mathrm{rx} [\\mathrm{dBm}] \n",
    "= P_\\mathrm{tx} [\\mathrm{dBm}] + G_\\mathrm{tx} [\\mathrm{dB}] + G_\\mathrm{rx} [\\mathrm{dB}]\n",
    "+ 20\\log\\left(\\frac{\\lambda}{4\\pi d}\\right)$$\n",
    "\n",
    "### Free-space loss\n",
    "The last term is called free-space propagation loss\n",
    "\n",
    "\\begin{equation}\n",
    "\\begin{split}\n",
    "\\mathrm{FSPL} \n",
    "&\\equiv P_\\mathrm{rx} [\\mathrm{dBm}] - P_\\mathrm{tx} [\\mathrm{dBm}] \n",
    "      - G_\\mathrm{tx} [\\mathrm{dB}] - G_\\mathrm{rx} [\\mathrm{dB}] \\\\\n",
    "&= 20\\log\\left(\\frac{\\lambda}{4\\pi d}\\right) = 20\\log\\left(\\frac{1}{4\\pi d}\\frac{c}{f}\\right) \\\\\n",
    "&= - \\mathrm{dB}\\left[\\left(d[\\mathrm{km}]\\right)^2\\right]\n",
    "- \\mathrm{dB}\\left[\\left(f[\\mathrm{GHz}]\\right)^2\\right] -92.4 \\\\\n",
    "&= - 20\\log\\left(d[\\mathrm{km}]\\right) - 20\\log\\left(f[\\mathrm{GHz}]\\right)-92.4\n",
    "\\end{split}\n",
    "\\end{equation}\n",
    "\n",
    "Note, often one only quotes the absolute value of this as FSPL (as the name 'loss' is unambiguous).\n",
    "\n",
    "Example:\n",
    "\n",
    "$$ \\mathrm{FSPL}(1~\\mathrm{km},1~\\mathrm{GHz}) = -92.4~\\mathrm{dB} $$\n",
    "\n",
    "\n"
   ]
  },
  {
   "cell_type": "markdown",
   "metadata": {},
   "source": [
    "## Convenience equations\n",
    "The above equations can be combined in various ways (for convenience, we repeat some of the above). Superscript 'iso' is used if $G_\\mathrm{rx}=1$ or $G_\\mathrm{tx}=1$, respectively\n",
    "\n",
    "\\begin{align}\n",
    "P_\\mathrm{rx} [\\mathrm{dBm}] \n",
    "&= P_\\mathrm{tx} [\\mathrm{dBm}] + G_\\mathrm{tx} [\\mathrm{dB}] + G_\\mathrm{rx} [\\mathrm{dB}]\n",
    "+ \\mathrm{FSPL} \\\\\n",
    "\\mathrm{FSPL} \n",
    "&= - 20\\log\\left(d[\\mathrm{km}]\\right) - 20\\log\\left(f[\\mathrm{GHz}]\\right)-92.4\n",
    "\\end{align}"
   ]
  },
  {
   "cell_type": "markdown",
   "metadata": {},
   "source": [
    "\\begin{align}\n",
    "S\\left[\\mathrm{dB}_{\\mathrm{W / m^2}}\\right]\n",
    "&= P_\\mathrm{tx}[\\mathrm{dBm}] + G_\\mathrm{tx}[\\mathrm{dB}] - 20\\log\\left(d[\\mathrm{km}]\\right) - 101\\\\\n",
    "S\\left[\\mathrm{dB}_{\\mathrm{Jy\\cdot Hz}}\\right]\n",
    "&= P_\\mathrm{tx}[\\mathrm{dBm}] + G_\\mathrm{tx}[\\mathrm{dB}] - 20\\log\\left(d[\\mathrm{km}]\\right) + 159\\\\\n",
    "P_\\mathrm{rx}[\\mathrm{dBm}]\n",
    "&= S\\left[\\mathrm{dB}_{\\mathrm{W / m^2}}\\right] + G_\\mathrm{rx}[\\mathrm{dB}] - 20\\log\\left(f[\\mathrm{GHz}]\\right) + 8.5 \\\\\n",
    "P_\\mathrm{rx}[\\mathrm{dBm}]\n",
    "&= S\\left[\\mathrm{dB}_{\\mathrm{Jy\\cdot Hz}}\\right] + G_\\mathrm{rx}[\\mathrm{dB}] - 20\\log\\left(f[\\mathrm{GHz}]\\right) - 251.5 \n",
    "\\end{align}"
   ]
  },
  {
   "cell_type": "markdown",
   "metadata": {
    "collapsed": true
   },
   "source": [
    "\\begin{align}\n",
    "P_\\mathrm{tx} [\\mathrm{dBm}] \n",
    "&=   E_\\mathrm{rx}\\left[\\mathrm{dB}_{\\mathrm{\\mu V / m}}\\right] + G_\\mathrm{tx}[\\mathrm{dB}] + 20\\log(d[\\mathrm{km}]) - 44.8 \\\\\n",
    "P_\\mathrm{rx} [\\mathrm{dBm}] \n",
    "&= E_\\mathrm{rx}\\left[\\mathrm{dB}_{\\mathrm{\\mu V / m}}\\right]+ G_\\mathrm{rx}[\\mathrm{dB}]  -20\\log\\left(f[\\mathrm{GHz}]\\right) - 137.2 \n",
    "\\end{align}"
   ]
  },
  {
   "cell_type": "markdown",
   "metadata": {
    "collapsed": true
   },
   "source": [
    "\\begin{align}\n",
    "P_\\mathrm{eirp}[\\mathrm{dBm}]  = P_\\mathrm{tx}^\\mathrm{iso} [\\mathrm{dBm}] \n",
    "&=   E_\\mathrm{rx}\\left[\\mathrm{dB}_{\\mathrm{\\mu V / m}}\\right] + 20\\log(d[\\mathrm{km}]) - 44.8 \\\\\n",
    "P_\\mathrm{rx}^\\mathrm{iso} [\\mathrm{dBm}] \n",
    "&= E_\\mathrm{rx}\\left[\\mathrm{dB}_{\\mathrm{\\mu V / m}}\\right] -20\\log\\left(f[\\mathrm{GHz}]\\right) - 137.2 \n",
    "\\end{align}"
   ]
  },
  {
   "cell_type": "markdown",
   "metadata": {
    "collapsed": true
   },
   "source": [
    "\\begin{equation}\n",
    "S\\left[\\mathrm{dB}_{\\mathrm{W / m^2}}\\right]\n",
    "= E_\\mathrm{rx}\\left[\\mathrm{dB}_{\\mathrm{\\mu V / m}}\\right] - 145.8\n",
    "\\end{equation}"
   ]
  },
  {
   "cell_type": "markdown",
   "metadata": {},
   "source": [
    "## Antenna properties\n",
    "\n",
    "Aperture efficiency, $\\varepsilon_\\mathrm{a}$, is defined as\n",
    "\\begin{equation}\n",
    "\\varepsilon_\\mathrm{a} \\equiv \\frac{A_\\mathrm{eff}}{A_\\mathrm{geom}}\n",
    "\\end{equation}\n",
    "(An isotropic loss-less antenna has $A_\\mathrm{eff}^\\mathrm{iso} = \\lambda^2 / 4\\pi$.)\n",
    "\n",
    "Therefore,\n",
    "\\begin{equation}\n",
    "G \\equiv G(0, 0) = \\frac{4\\pi }{\\lambda^2} \\varepsilon_\\mathrm{a}A_\\mathrm{geom}\\,.\n",
    "\\end{equation}\n",
    "\n",
    "### Antenna temperature\n",
    "The antenna temperature, $T_\\mathrm{A}$ is the temperature of a hypothetical resistor at the input of an ideal noise-free receiver that would generate the same output noise power per unit bandwidth as that at the antenna output at a specified frequency (from [Wikipedia](https://en.wikipedia.org/wiki/Antenna_noise_temperature)). Thus\n",
    "\\begin{equation}\n",
    "T_\\mathrm{A} = \\frac{P_{\\mathrm{rx}} }{2k_\\mathrm{B}\\Delta\\nu} = \\frac{P_{\\mathrm{rx}, \\nu} }{2k_\\mathrm{B}}\n",
    "\\end{equation}\n",
    "with $P_{\\mathrm{rx},\\nu} = P_\\mathrm{rx}/\\Delta\\nu$, the spectral power over bandwidth $\\Delta \\nu$. \n",
    "\n",
    "\n",
    "\n",
    "### Sensitivity\n",
    "Often, especially in radio astronomy, the \"sensitivity\", $\\Gamma$, of an antenna is introduced as\n",
    "\\begin{equation}\n",
    "\\Gamma = \\frac{A_\\mathrm{eff}}{2k_\\mathrm{B}}.\n",
    "\\end{equation}\n",
    "Therefore, for an ideal (loss-less) isotropic antenna\n",
    "\\begin{equation}\n",
    "\\Gamma_\\mathrm{iso} = \\frac{\\lambda^2}{8\\pi k_\\mathrm{B}}.\n",
    "\\end{equation}\n",
    "$\\Gamma$ can be expressed in units of K/Jy and is often referred to as the \"Kelvins-per-Jansky\" of an antenna. Knowing its value, one can easily compute, by how much the antenna temperature increases when observing a source with a certain flux density:\n",
    "\\begin{equation}\n",
    "\\Delta T_\\mathrm{A} = \\Gamma \\Delta S_\\nu.\n",
    "\\end{equation}\n",
    "\n",
    "\n",
    "\n",
    "\n",
    "### Thin-element antennas\n",
    "Note, for \"1-D\" antennas, $A_\\mathrm{geom}$ is not defined. However, one can assign an $A_\\mathrm{eff}$ using the power-gain figure. From [Wikipedia](https://en.wikipedia.org/wiki/Antenna_aperture#Thin_element_antennas):\n",
    "\n",
    "|Wire antenna|Power gain|Effective area|\n",
    "|------------|----------|--------------|\n",
    "|Short dipole|1.50 (1.76 dB)|0.1194 $\\lambda^2$\n",
    "|Dipole antenna/Half-wave dipole|1.64 (2.15 dB) |0.1305 $\\lambda^2$|\n",
    "|Monopole antenna/Quarter-wave monopole|1.28 (1.07 dB)|0.1025 $\\lambda^2$|\n",
    "\n",
    "### Other relations\n",
    "\n",
    "From the HPBW, $\\theta$, of an antenna, one can estimate the gain\n",
    "\n",
    "\\begin{equation}\n",
    "\\Omega_\\mathrm{Beam} = \\frac{4\\pi }{G_\\mathrm{max}},\\qquad\\mathrm{with}\\quad \n",
    "\\Omega_\\mathrm{Beam} = \\frac{\\pi\\theta^2[\\rm rad]}{4\\ln 2}\n",
    "\\end{equation}\n",
    "\n",
    "The power flux density (or received power) will increase the antenna temperature by\n",
    "\n",
    "\\begin{equation}\n",
    "T_\\mathrm{A} = \\frac{P_\\mathrm{rx}}{2k_\\mathrm{B}\\Delta f} = \\frac{A_\\mathrm{eff}S_\\nu}{2k_\\mathrm{B}}\n",
    "\\end{equation}\n",
    "with $\\Delta f$ the bandwidth of the signal (assuming constant intensity within the bandwidth).\n",
    "\n",
    "We can identify the sensitivity, $\\Gamma$, (the Kelvins-per-Jansky):\n",
    "\\begin{equation}\n",
    "\\Gamma \\equiv \\frac{T_\\mathrm{A}}{S_\\nu} = \\frac{A_\\mathrm{eff}}{2k_\\mathrm{B}}\n",
    "\\end{equation}"
   ]
  },
  {
   "cell_type": "markdown",
   "metadata": {},
   "source": [
    "### Antenna factor, $K_\\mathrm{A}$\n",
    "This is another way to characterize an antenna, which allows easy conversion between E-field strength at the antenna, $E_\\mathrm{ant}\\equiv E_\\mathrm{rx}$ and induced voltage in the receiver, $U_\\mathrm{rx}$:\n",
    "\n",
    "\\begin{align}\n",
    "K_\\mathrm{A} &= \\frac{E_\\mathrm{rx}}{U_\\mathrm{rx}}\\\\\n",
    "K_\\mathrm{A} \\left[\\mathrm{dB_{1 / m}}\\right] \n",
    "&=   E_\\mathrm{rx}\\left[\\mathrm{dB}_{\\mathrm{\\mu V / m}}\\right] \n",
    "   - U_\\mathrm{rx}\\left[\\mathrm{dB}_{\\mathrm{\\mu V}}\\right]\n",
    "\\end{align}"
   ]
  },
  {
   "cell_type": "markdown",
   "metadata": {},
   "source": [
    "The antenna factor can be related to the antenna gain via\n",
    "\n",
    "\\begin{equation}\n",
    "K_\\mathrm{A} = \\sqrt{\\frac{4\\pi}{G_\\mathrm{rx}\\lambda^2}\\frac{R_0}{Z_\\mathrm{i}}}\n",
    "\\end{equation}\n",
    "because\n",
    "\\begin{equation}\n",
    "P_\\mathrm{rx}=\\frac{U_\\mathrm{rx}^2}{Z_\\mathrm{i}} =  \\frac{E^2}{R_0} G_\\mathrm{rx}\\frac{\\lambda^2}{4\\pi}\n",
    "\\end{equation}\n",
    "\n",
    "with $Z_\\mathrm{i}$ being the Antenna impedance (at footpoint). Note, that receiver input impedance and antenna impedance at footpoint are not necessarily equal. One may have to apply a correction factor (especially for high Voltage Standing Wave Ratio, VSWR)."
   ]
  },
  {
   "cell_type": "markdown",
   "metadata": {},
   "source": [
    "## Python code\n",
    "\n",
    "The pycraf package contains functions that implement the above equation. Making use of the astropy.units module, one can avoid many pitfalls related to the conversion between linear and logarithmic scales, etc."
   ]
  },
  {
   "cell_type": "code",
   "execution_count": 1,
   "metadata": {
    "collapsed": true
   },
   "outputs": [],
   "source": [
    "%matplotlib inline"
   ]
  },
  {
   "cell_type": "code",
   "execution_count": 2,
   "metadata": {
    "collapsed": false
   },
   "outputs": [],
   "source": [
    "import matplotlib.pyplot as plt\n",
    "import numpy as np\n",
    "from pycraf import conversions as cnv\n",
    "from astropy import units as u\n",
    "from astropy import constants"
   ]
  },
  {
   "cell_type": "markdown",
   "metadata": {},
   "source": [
    "For convenience, pycraf defines the often used log-scales and quantities"
   ]
  },
  {
   "cell_type": "code",
   "execution_count": 3,
   "metadata": {
    "collapsed": false
   },
   "outputs": [
    {
     "name": "stdout",
     "output_type": "stream",
     "text": [
      "R0 = 376.730 Ohm\n",
      "Erx = 74.768 dB(uV2 / m2)\n"
     ]
    }
   ],
   "source": [
    "cnv.dimless  # == u.Unit(1)\n",
    "cnv.dB  # == dBi = u.dB(dimless)\n",
    "cnv.dB_W  # == u.dB(u.W)\n",
    "cnv.dB_W_Hz  # == u.dB(u.W / u.Hz)\n",
    "cnv.dB_W_m2  # == u.dB(u.W / u.m ** 2)\n",
    "cnv.dB_W_m2_Hz  # == u.dB(u.W / u.Hz / u.m ** 2)\n",
    "cnv.dB_Jy_Hz  # == u.dB(u.Jy * u.Hz)\n",
    "cnv.dBm  # == dB_mW = u.dB(u.mW)\n",
    "cnv.dBm_MHz  # == dB_mW_MHz = u.dB(u.mW / u.MHz)\n",
    "cnv.dB_uV_m  # == u.dB(u.uV ** 2 / u.m ** 2)\n",
    "cnv.dB_1_m  # == u.dB(1. / u.m)  # for antenna factor\n",
    "\n",
    "cnv.R0  # == 1. * (con.mu0 / con.eps0)  ** 0.5\n",
    "cnv.Erx_unit  #= (1 * u.W / 4. / np.pi * R0) ** 0.5 / (1 * u.km)\n",
    "\n",
    "print('R0 = {0.value:.3f} {0.unit}'.format(cnv.R0.to(u.ohm)))\n",
    "print('Erx = {0.value:.3f} {0.unit}'.format(cnv.Erx_unit.to(cnv.dB_uV_m)))"
   ]
  },
  {
   "cell_type": "markdown",
   "metadata": {},
   "source": [
    "Note, that mathematically, the $\\mathrm{dB}_{\\mathrm{\\mu V / m}}$ scale operates on amplitude-squares, so for astropy we need to take this into account."
   ]
  },
  {
   "cell_type": "markdown",
   "metadata": {},
   "source": [
    "Conversion between linear and logscale is easy (usually, only necessary for printing):"
   ]
  },
  {
   "cell_type": "code",
   "execution_count": 4,
   "metadata": {
    "collapsed": false
   },
   "outputs": [
    {
     "name": "stdout",
     "output_type": "stream",
     "text": [
      "1 dBm = -29.000 dB(W) = 0.001 W\n"
     ]
    }
   ],
   "source": [
    "print('1 dBm = {0.value:.3f} {0.unit} = {1.value:.3f} {1.unit}'.format(\n",
    "    (1 * cnv.dBm).to(cnv.dB_W), (1 * cnv.dBm).to(u.W)\n",
    "    ))"
   ]
  },
  {
   "cell_type": "markdown",
   "metadata": {},
   "source": [
    "## Available functions\n",
    "### Converting antenna gains, effective areas, etc."
   ]
  },
  {
   "cell_type": "code",
   "execution_count": 5,
   "metadata": {
    "collapsed": true
   },
   "outputs": [],
   "source": [
    "A_eff = 10 * u.m ** 2  # effective area\n",
    "A_geom = 20 * u.m ** 2  # geometric area\n",
    "eta_a = 50 * u.percent  # antenna efficiency"
   ]
  },
  {
   "cell_type": "code",
   "execution_count": 6,
   "metadata": {
    "collapsed": false
   },
   "outputs": [
    {
     "name": "stdout",
     "output_type": "stream",
     "text": [
      "A_eff = 10.0 m2\n",
      "A_geom = 20.0 m2\n"
     ]
    }
   ],
   "source": [
    "print('A_eff = {0.value:.1f} {0.unit}'.format(cnv.eff_from_geom_area(A_geom, eta_a)))\n",
    "print('A_geom = {0.value:.1f} {0.unit}'.format(cnv.geom_from_eff_area(A_eff, eta_a)))"
   ]
  },
  {
   "cell_type": "code",
   "execution_count": 7,
   "metadata": {
    "collapsed": true
   },
   "outputs": [],
   "source": [
    "frequency = 10 * u.GHz\n",
    "gain = 60 * cnv.dBi"
   ]
  },
  {
   "cell_type": "code",
   "execution_count": 8,
   "metadata": {
    "collapsed": false
   },
   "outputs": [
    {
     "name": "stdout",
     "output_type": "stream",
     "text": [
      "G = 51.5 dB\n",
      "Aeff = 71.5 m2\n"
     ]
    }
   ],
   "source": [
    "print('G = {0.value:.1f} {0.unit}'.format(cnv.gain_from_eff_area(A_eff, frequency)))\n",
    "print('Aeff = {0.value:.1f} {0.unit}'.format(cnv.eff_area_from_gain(gain, frequency)))"
   ]
  },
  {
   "cell_type": "markdown",
   "metadata": {},
   "source": [
    "### Converting field strengths and powers"
   ]
  },
  {
   "cell_type": "code",
   "execution_count": 9,
   "metadata": {
    "collapsed": true
   },
   "outputs": [],
   "source": [
    "S = 10 * u.Jy * u.MHz\n",
    "E_rx = -30 * cnv.dB_uV_m\n",
    "distance = 10 * u.km\n",
    "G_tx = 20 * cnv.dBi\n",
    "G_rx = 10 * cnv.dBi\n",
    "P_rx = -10 * cnv.dBm\n",
    "P_tx = 20 * cnv.dBm"
   ]
  },
  {
   "cell_type": "code",
   "execution_count": 10,
   "metadata": {
    "collapsed": false
   },
   "outputs": [
    {
     "name": "stdout",
     "output_type": "stream",
     "text": [
      "E_rx = -44.2 dB(uV2 / m2)\n",
      "S = -175.8 dB(W / m2)\n"
     ]
    }
   ],
   "source": [
    "print('E_rx = {0.value:.1f} {0.unit}'.format(cnv.efield_from_powerflux(S).to(cnv.dB_uV_m)))\n",
    "print('S = {0.value:.1f} {0.unit}'.format(cnv.powerflux_from_efield(E_rx).to(cnv.dB_W_m2)))"
   ]
  },
  {
   "cell_type": "code",
   "execution_count": 11,
   "metadata": {
    "collapsed": false
   },
   "outputs": [
    {
     "name": "stdout",
     "output_type": "stream",
     "text": [
      "P_tx = -104.8 dB(W)\n",
      "E_rx = 64.8 dB(uV2 / m2)\n"
     ]
    }
   ],
   "source": [
    "print('P_tx = {0.value:.1f} {0.unit}'.format(cnv.ptx_from_efield(E_rx, distance, G_tx).to(cnv.dB_W)))\n",
    "print('E_rx = {0.value:.1f} {0.unit}'.format(cnv.efield_from_ptx(P_tx, distance, G_tx).to(cnv.dB_uV_m)))"
   ]
  },
  {
   "cell_type": "code",
   "execution_count": 12,
   "metadata": {
    "collapsed": false
   },
   "outputs": [
    {
     "name": "stdout",
     "output_type": "stream",
     "text": [
      "P_tx = -119.0 dB(W)\n",
      "S = -81.0 dB(W / m2)\n"
     ]
    }
   ],
   "source": [
    "print('P_tx = {0.value:.1f} {0.unit}'.format(cnv.ptx_from_powerflux(S, distance, G_tx).to(cnv.dB_W)))\n",
    "print('S = {0.value:.1f} {0.unit}'.format(cnv.powerflux_from_ptx(P_tx, distance, G_tx).to(cnv.dB_W_m2)))"
   ]
  },
  {
   "cell_type": "code",
   "execution_count": 13,
   "metadata": {
    "collapsed": false
   },
   "outputs": [
    {
     "name": "stdout",
     "output_type": "stream",
     "text": [
      "P_rx = -221.5 dB(W)\n",
      "S = -8.5 dB(W / m2)\n"
     ]
    }
   ],
   "source": [
    "print('P_rx = {0.value:.1f} {0.unit}'.format(cnv.prx_from_powerflux(S, frequency, G_rx).to(cnv.dB_W)))\n",
    "print('S = {0.value:.1f} {0.unit}'.format(cnv.powerflux_from_prx(P_rx, frequency, G_rx).to(cnv.dB_W_m2)))"
   ]
  },
  {
   "cell_type": "markdown",
   "metadata": {},
   "source": [
    "### Transmission loss"
   ]
  },
  {
   "cell_type": "code",
   "execution_count": 14,
   "metadata": {
    "collapsed": false
   },
   "outputs": [
    {
     "name": "stdout",
     "output_type": "stream",
     "text": [
      "FSPL = -132.4 dB\n"
     ]
    }
   ],
   "source": [
    "fspl = cnv.free_space_loss(distance, frequency)\n",
    "print('FSPL = {0.value:.1f} {0.unit}'.format(fspl))"
   ]
  },
  {
   "cell_type": "code",
   "execution_count": 15,
   "metadata": {
    "collapsed": false
   },
   "outputs": [
    {
     "name": "stdout",
     "output_type": "stream",
     "text": [
      "P_rx = -112.4 dB(W)\n",
      "P_tx = 62.4 dB(W)\n"
     ]
    }
   ],
   "source": [
    "print('P_rx = {0.value:.1f} {0.unit}'.format(\n",
    "    cnv.prx_from_ptx(P_tx, G_tx, G_rx, distance, frequency).to(cnv.dB_W)\n",
    "    ))\n",
    "print('P_tx = {0.value:.1f} {0.unit}'.format(\n",
    "    cnv.ptx_from_prx(P_rx, G_tx, G_rx, distance, frequency).to(cnv.dB_W)\n",
    "    ))\n"
   ]
  },
  {
   "cell_type": "markdown",
   "metadata": {},
   "source": [
    "## Additional examples"
   ]
  },
  {
   "cell_type": "code",
   "execution_count": 16,
   "metadata": {
    "collapsed": false
   },
   "outputs": [
    {
     "name": "stdout",
     "output_type": "stream",
     "text": [
      "Flux at 1 km distance for Ptx = 0 dBm, isotropic:\n",
      "-101.0 dB(W / m2) = 159.0 dB(Hz Jy)\n",
      "\n",
      "Received power for a power flux density of 1 W / m^2 at 1 GHz, isotropic:\n",
      "8.5 dB(mW)\n",
      "\n",
      "Received power for a power flux density of 1 Jy.Hz at 1 GHz, isotropic:\n",
      "-251.5 dB(mW)\n",
      "\n",
      "Power received from a 0 dBm transmitter at 1 km distance, at 1 GHz:\n",
      "(both antennas isotropic)\n",
      "-92.4 dB(mW)\n",
      "\n"
     ]
    }
   ],
   "source": [
    "flux_0dbm_1km_iso = cnv.powerflux_from_ptx(0 * cnv.dBm, 1 * u.km, 0 * cnv.dBi)\n",
    "\n",
    "print(\n",
    "    'Flux at 1 km distance for Ptx = 0 dBm, isotropic:\\n'\n",
    "    '{0.value:.1f} {0.unit} = {1.value:.1f} {1.unit}\\n'.format(\n",
    "        flux_0dbm_1km_iso.to(cnv.dB_W_m2),\n",
    "        flux_0dbm_1km_iso.to(cnv.dB_Jy_Hz)\n",
    "        )\n",
    "    )\n",
    "prx_1W_m2_at1GHz_iso = cnv.prx_from_powerflux(1 * u.Watt / u.m ** 2, 1 * u.GHz, 0 * cnv.dBi)\n",
    "\n",
    "print(\n",
    "    'Received power for a power flux density of 1 W / m^2 at 1 GHz, isotropic:\\n'\n",
    "    '{0.value:.1f} {0.unit}\\n'.format(\n",
    "        prx_1W_m2_at1GHz_iso.to(cnv.dBm)\n",
    "        )\n",
    "    )\n",
    "\n",
    "prx_1JyHz_at1GHz_iso = cnv.prx_from_powerflux(1 * u.Jy * u.Hz, 1 * u.GHz, 0 * cnv.dBi)\n",
    "\n",
    "print(\n",
    "    'Received power for a power flux density of 1 Jy.Hz at 1 GHz, isotropic:\\n'\n",
    "    '{0.value:.1f} {0.unit}\\n'.format(\n",
    "        prx_1JyHz_at1GHz_iso.to(cnv.dBm)\n",
    "        )\n",
    "    )\n",
    "\n",
    "prx_0dbm_at1km1GHz_iso = cnv.prx_from_powerflux(\n",
    "    cnv.powerflux_from_ptx(0 * cnv.dBm, 1 * u.km, 0 * cnv.dBi),\n",
    "    1 * u.GHz, 0 * cnv.dBi\n",
    "    )\n",
    "\n",
    "print(\n",
    "    'Power received from a 0 dBm transmitter at 1 km distance, at 1 GHz:\\n'\n",
    "    '(both antennas isotropic)\\n'\n",
    "    '{0.value:.1f} {0.unit}\\n'.format(\n",
    "        prx_0dbm_at1km1GHz_iso.to(cnv.dBm)\n",
    "        )\n",
    "    )"
   ]
  },
  {
   "cell_type": "markdown",
   "metadata": {},
   "source": [
    "### Convenience equations\n",
    "We can also check, if the convenience equations above are correct:"
   ]
  },
  {
   "cell_type": "code",
   "execution_count": 17,
   "metadata": {
    "collapsed": false
   },
   "outputs": [
    {
     "name": "stdout",
     "output_type": "stream",
     "text": [
      "Free-space loss at 1 km, 1 GHz: -92.4 dB\n",
      "PFD from 1 dbm at 1 km distance: -101.0 dB(W / m2) = 159.0 dB(Hz Jy)\n",
      "\n",
      "Prx from 1 W/m**2 at 1 GHz: 8.5 dB(mW)\n",
      "\n",
      "Prx from 1 Jy*Hz at 1 GHz: -251.5 dB(mW)\n",
      "\n",
      "EIRP from 1 uV/m at 1 km distance: -44.768 dB(mW)\n",
      "\n",
      "Prx from 1 uV/m at 1 GHz: -137.2 dB(mW)\n",
      "\n"
     ]
    }
   ],
   "source": [
    "freq = 1 * u.GHz\n",
    "dist = 1 * u.km\n",
    "loss_1ghz_1km = cnv.free_space_loss(dist, freq)\n",
    "print(\n",
    "    'Free-space loss at 1 km, 1 GHz: '\n",
    "    '{0.value:.1f} {0.unit}'.format(\n",
    "        loss_1ghz_1km\n",
    "    ))\n",
    "\n",
    "print(\n",
    "    'PFD from 1 dbm at 1 km distance: '\n",
    "    '{0.value:.1f} {0.unit} = {1.value:.1f} {1.unit}\\n'.format(\n",
    "        cnv.powerflux_from_ptx(0 * cnv.dBm, 1 * u.km, 1. * cnv.dimless).to(cnv.dB_W_m2),\n",
    "        cnv.powerflux_from_ptx(0 * cnv.dBm, 1 * u.km, 1. * cnv.dimless).to(cnv.dB_Jy_Hz)\n",
    "    ))\n",
    "\n",
    "print(\n",
    "    'Prx from 1 W/m**2 at 1 GHz: {0.value:.1f} {0.unit}\\n'.format(\n",
    "        cnv.prx_from_powerflux(0 * cnv.dB_W_m2, 1 * u.GHz, 1. * cnv.dimless).to(cnv.dBm)\n",
    "    ))\n",
    "\n",
    "print(\n",
    "    'Prx from 1 Jy*Hz at 1 GHz: {0.value:.1f} {0.unit}\\n'.format(\n",
    "        cnv.prx_from_powerflux(0 * cnv.dB_Jy_Hz, 1 * u.GHz, 1. * cnv.dimless).to(cnv.dBm)\n",
    "    ))\n",
    "\n",
    "print('EIRP from 1 uV/m at 1 km distance: {0.value:.3f} {0.unit}\\n'.format(\n",
    "    cnv.ptx_from_efield(0. * cnv.dB_uV_m, 1 * u.km, 1. * cnv.dimless).to(cnv.dBm)\n",
    "    ))\n",
    "\n",
    "print('Prx from 1 uV/m at 1 GHz: {0.value:.1f} {0.unit}\\n'.format(\n",
    "    cnv.prx_from_ptx(\n",
    "        cnv.ptx_from_efield(0. * cnv.dB_uV_m, 1 * u.km, 0. * cnv.dBi),\n",
    "        0. * cnv.dBi, 0. * cnv.dBi, 1 * u.km, 1 * u.GHz\n",
    "    ).to(cnv.dBm)))"
   ]
  }
 ],
 "metadata": {
  "anaconda-cloud": {},
  "kernelspec": {
   "display_name": "Python [Root]",
   "language": "python",
   "name": "Python [Root]"
  },
  "language_info": {
   "codemirror_mode": {
    "name": "ipython",
    "version": 3
   },
   "file_extension": ".py",
   "mimetype": "text/x-python",
   "name": "python",
   "nbconvert_exporter": "python",
   "pygments_lexer": "ipython3",
   "version": "3.5.2"
  }
 },
 "nbformat": 4,
 "nbformat_minor": 0
}
