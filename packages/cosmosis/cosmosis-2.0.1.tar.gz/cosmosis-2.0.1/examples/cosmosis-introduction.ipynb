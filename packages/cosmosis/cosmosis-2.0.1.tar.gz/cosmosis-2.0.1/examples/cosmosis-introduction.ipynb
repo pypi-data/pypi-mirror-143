{
 "cells": [
  {
   "cell_type": "markdown",
   "id": "8a634531",
   "metadata": {},
   "source": [
    "# CosmoSIS Introduction\n",
    "\n",
    "\n",
    "CosmoSIS, the *COSMOlogical Survey Inference System*, is a framework for building inference pipelines, It is generically applicable, but has  a particular focus on cosmology analysis, and has an associated standard library of cosmology components.\n",
    "\n",
    "This notebook will take you through the core design elements of CosmoSIS.  It only requires the core CosmoSIS python library, which can be installed with `pip install cosmosis`.  If you have trouble with that command, see our installation page.\n",
    "\n",
    "Once that has worked, you can run this notebook."
   ]
  },
  {
   "cell_type": "code",
   "execution_count": 1,
   "id": "d4717cff",
   "metadata": {},
   "outputs": [
    {
     "name": "stdout",
     "output_type": "stream",
     "text": [
      "Populating the interactive namespace from numpy and matplotlib\n"
     ]
    }
   ],
   "source": [
    "%pylab inline\n",
    "import cosmosis"
   ]
  },
  {
   "cell_type": "markdown",
   "id": "5006035a",
   "metadata": {},
   "source": [
    "## Data Blocks\n",
    "\n",
    "CosmoSIS stores the results of calculations in *Data Block* objects, which are containers for simple data types.  Having a single location for all the results of an analysis is very useful for debugging, among other things.\n",
    "\n",
    "In python, you use an instance of the `DataBlock` class.  Blocks act a bit like dictionaries, except:\n",
    "- they have two keys instead of just one: one general section, like \"cosmological_parameters\", and one more specific, like \"Omega_m\"\n",
    "- the keys must be strings, and are always treated as lower-case\n",
    "- their values are limited to int, double, str, and complex scalars or arrays\n",
    "- once a value is added it can only be replaced with something of the same type\n",
    "- there are a selection of additional methods to get a specific type of object from the block\n",
    "\n",
    "Blocks can also be accessed from C, C++, Fortran, and Julia (or any language that can call C functions)."
   ]
  },
  {
   "cell_type": "code",
   "execution_count": 2,
   "id": "b8f35bc3",
   "metadata": {},
   "outputs": [
    {
     "name": "stdout",
     "output_type": "stream",
     "text": [
      "value\n",
      "42\n",
      "[0.  1.2 0.3]\n",
      "34.4\n",
      "34.4\n"
     ]
    }
   ],
   "source": [
    "# make an empty block\n",
    "block = cosmosis.DataBlock()\n",
    "\n",
    "# put things in it in dictionary style. There are also equivalent \"put\" methods\n",
    "block['section', 'a'] = 'value'\n",
    "block['section', 'b'] = 42\n",
    "block['section', 'c'] = [0.0, 1.2, 0.3]\n",
    "\n",
    "# Now get things out, in a few ways\n",
    "print(block['section', 'a'])\n",
    "print(block.get_int('section', 'b'))\n",
    "print(block.get_double_array_1d('section', 'c'))\n",
    "\n",
    "\n",
    "# You can use the \"default\" argument to use the specific value\n",
    "# if it is not found.  \n",
    "print(block.get_double('section', 'key4', default=34.4))\n",
    "\n",
    "# Note that this default value is afterwards included in the \n",
    "# datablock for future look-ups, to maintain consistency.\n",
    "print(block['section', 'key4'])\n",
    "\n"
   ]
  },
  {
   "cell_type": "markdown",
   "id": "9cb4def5",
   "metadata": {},
   "source": [
    "`DataBlock`s have lots of other methods - explore them here (by typing `block.` then pressing tab), and see what they do:\n"
   ]
  },
  {
   "cell_type": "code",
   "execution_count": 3,
   "id": "a5ec5370",
   "metadata": {},
   "outputs": [
    {
     "data": {
      "text/plain": [
       "[('section', 'a'), ('section', 'b'), ('section', 'c'), ('section', 'key4')]"
      ]
     },
     "execution_count": 3,
     "metadata": {},
     "output_type": "execute_result"
    }
   ],
   "source": [
    "# Explore the other block methods here.\n",
    "block.keys()"
   ]
  },
  {
   "cell_type": "markdown",
   "id": "00d94af6",
   "metadata": {},
   "source": [
    "## Modules\n",
    "\n",
    "CosmoSIS builds **pipelines** out of **modules**.  \n",
    "\n",
    "Most realistic likelihoods in science are not the simple analytic functions that statisticians play with. They are usually long and involved calculations with many different steps and ingredients involved: pipelines.\n",
    "\n",
    "The key idea in CosmoSIS is that you should break up these calculations into different stages, called moduled, each of which does a different physical calculation.  You can then mix and match different modules depending on exactly what calculations you are doing.\n",
    "\n",
    "A pipeline is then a sequence of module objects.  You put a `DataBlock` in at the start of the pipeline, with your choice of parameters, and it is passed along from module to module, one by one.  Each one reads things from the block and adds the things it calculates.\n",
    "\n",
    "Let's make a toy module out of the two functions we need to create, `setup` and `execute`.  Have a read of the comments along the way.\n",
    "\n",
    "\n",
    "### Setup\n",
    "\n",
    "The setup function will be called once per pipeline, at the start.\n",
    "We use it to configure things that must be consistent throughout an analysis\n"
   ]
  },
  {
   "cell_type": "code",
   "execution_count": 4,
   "id": "906598e9",
   "metadata": {},
   "outputs": [],
   "source": [
    "def setup(options):\n",
    "    # The options object is a DataBlock.  We use the special pre-defined section name\n",
    "    # cosmosis.option_section to indicate that we want the options relevant to this\n",
    "    # module (discussed below)\n",
    "    degree = options.get_int(cosmosis.option_section, \"degree\")\n",
    "    print(f\"We will fit polynomials of degree {degree}\")\n",
    "    # This can return any python object.  In C, C++, or Fortran it would return a pointer.\n",
    "    return {\"degree\": degree}"
   ]
  },
  {
   "cell_type": "markdown",
   "id": "68130eb8",
   "metadata": {},
   "source": [
    "### Execute\n",
    "\n",
    "The execute function will be called every time our pipeline is given new parameter values to run. It is usually the main workhorse of a module.\n"
   ]
  },
  {
   "cell_type": "code",
   "execution_count": 5,
   "id": "65ac71c7",
   "metadata": {},
   "outputs": [],
   "source": [
    "def execute(block, config):\n",
    "    # \"config\" is just whatever we passed from setup, returned to us here\n",
    "    degree = config['degree']\n",
    "\n",
    "    # Let's imagine our first module is calculating a polynomial\n",
    "    # function. Then the parameters it needs are the coefficients,\n",
    "    # which we will name \"p_0\", \"p_1\", etc.\n",
    "    coeffs = []\n",
    "    for i in range(degree+1):\n",
    "        coeffs.append(block['coefficients', f'p_{i}'])\n",
    "\n",
    "    # Now we can make the polynomial x and y values,\n",
    "    x = np.linspace(0, 1, 1000)\n",
    "    y = np.zeros_like(x)\n",
    "    for i in range(degree+1):\n",
    "        y += coeffs[i] * x**i\n",
    "        \n",
    "    # and store them in the block for later modules\n",
    "    # to use\n",
    "    block['poly', 'x'] = x\n",
    "    block['poly', 'y'] = y\n",
    "\n",
    "    # we return 0 to indicate that everything worked.\n",
    "    return 0"
   ]
  },
  {
   "cell_type": "markdown",
   "id": "1cfb4cfb",
   "metadata": {},
   "source": [
    "Now we have these two functions we can combine them into a module, which\n",
    "we will give the name \"poly\":"
   ]
  },
  {
   "cell_type": "code",
   "execution_count": 6,
   "id": "f4fcf530",
   "metadata": {},
   "outputs": [],
   "source": [
    "poly_module = cosmosis.FunctionModule(\"poly\", setup, execute)"
   ]
  },
  {
   "cell_type": "markdown",
   "id": "8f453a7e",
   "metadata": {},
   "source": [
    "### Configuring modules\n",
    "\n",
    "Normally CosmoSIS does all the configuration and pipeline setup for you, by reading a pipeline from a file.  But we can do the same thing here manually to illustrate the process.\n",
    "\n",
    "The code will automatically turn the right kind of dictionary to a datablock, so we can configure our module as below, which runs our setup script:\n",
    "(in C and Fortran modules we normally read these directly from a configuration file)."
   ]
  },
  {
   "cell_type": "code",
   "execution_count": 7,
   "id": "772fd49b",
   "metadata": {},
   "outputs": [
    {
     "name": "stdout",
     "output_type": "stream",
     "text": [
      "We will fit polynomials of degree 2\n"
     ]
    }
   ],
   "source": [
    "params = {\n",
    "    \"poly\": {\n",
    "        \"degree\": 2\n",
    "    }\n",
    "}\n",
    "\n",
    "poly_module.setup(params)"
   ]
  },
  {
   "cell_type": "markdown",
   "id": "b835e13b",
   "metadata": {},
   "source": [
    "### Manually running modules\n",
    "\n",
    "Again, the cosmosis core code will normally run your modules for you.  But we can manually do so, for example when debugging, or here to illustrate what happens under the hood.\n",
    "\n",
    "We make a datablock with the initial parameters in. In a full cosmosis run the numbers would be generated by whatever sampler we are using (see below).  But here we will do it manually."
   ]
  },
  {
   "cell_type": "code",
   "execution_count": 8,
   "id": "f2a1e3df",
   "metadata": {
    "scrolled": true
   },
   "outputs": [],
   "source": [
    "block = cosmosis.DataBlock()\n",
    "block['coefficients', 'p_0'] = +1.0\n",
    "block['coefficients', 'p_1'] = -1.0\n",
    "block['coefficients', 'p_2'] = +2.0"
   ]
  },
  {
   "cell_type": "markdown",
   "id": "7060672c",
   "metadata": {},
   "source": [
    "Now we can execute our module, and see what the block looks like afterwards."
   ]
  },
  {
   "cell_type": "code",
   "execution_count": 9,
   "id": "23bdd51c",
   "metadata": {},
   "outputs": [
    {
     "name": "stdout",
     "output_type": "stream",
     "text": [
      "Status = 0\n",
      "coefficients:\n",
      "  p_0: 1.0\n",
      "  p_1: -1.0\n",
      "  p_2: 2.0\n",
      "poly:\n",
      "  x:\n",
      "  - 0.0\n",
      "  - 0.001001001001001001\n",
      "  - 0.002002002002002002\n",
      "  - 0.003003003003003003\n",
      "  - 0.004004004004004004\n",
      "  - 0.005005005005005005\n",
      "  - 0.00 ...\n"
     ]
    }
   ],
   "source": [
    "status = poly_module.execute(block)\n",
    "print(f\"Status = {status}\")\n",
    "print(block.to_string()[:200], '...')"
   ]
  },
  {
   "cell_type": "markdown",
   "id": "d6d705a3",
   "metadata": {},
   "source": [
    "The module has added poly/x and poly/y to the block.  We've truncated them above because they are long, but let's plot them:"
   ]
  },
  {
   "cell_type": "code",
   "execution_count": 10,
   "id": "02891a91",
   "metadata": {},
   "outputs": [
    {
     "data": {
      "text/plain": [
       "[<matplotlib.lines.Line2D at 0x1326c5730>]"
      ]
     },
     "execution_count": 10,
     "metadata": {},
     "output_type": "execute_result"
    },
    {
     "data": {
      "image/png": "[encoded data removed]",
      "text/plain": [
       "<Figure size 432x288 with 1 Axes>"
      ]
     },
     "metadata": {
      "needs_background": "light"
     },
     "output_type": "display_data"
    }
   ],
   "source": [
    "plot(block['poly', 'x'], block['poly', 'y'])"
   ]
  },
  {
   "cell_type": "markdown",
   "id": "72c6a16e",
   "metadata": {},
   "source": [
    "looks good!\n",
    "\n",
    "### More modules\n",
    "\n",
    "For a useful pipeline we will want more than one module. First, let's assume that our \"theory model\" polynomial gets raised to some power, and make a module for that.\n",
    "\n",
    "We will make this module a little differently, using the cosmosis `ClassModule` parent class.\n",
    "\n"
   ]
  },
  {
   "cell_type": "code",
   "execution_count": 11,
   "id": "b6f58e1d",
   "metadata": {},
   "outputs": [],
   "source": [
    "class PowerModule(cosmosis.ClassModule):\n",
    "    # This parent class expects that the __init__ method is overridden,\n",
    "    # matching the setup function in our first module.  \n",
    "    def __init__(self, options):\n",
    "        # In this class the options parameter has been trimmed to just be the options\n",
    "        # specific to this module, so no funny 'cosmosis.options_section' is needed\n",
    "        # when getting parameters\n",
    "        self.exponent = options.get_double(\"exponent\")\n",
    "    \n",
    "    # The execute method is exactly the same as the previous version\n",
    "    def execute(self, block):\n",
    "        block['poly', 'y'] = block['poly', 'y'] ** self.exponent\n",
    "\n",
    "# The parent class has a method called as_module which converts this to a module\n",
    "power_module = PowerModule.as_module(\"power\")"
   ]
  },
  {
   "cell_type": "markdown",
   "id": "6b5c067f",
   "metadata": {},
   "source": [
    "### Likelihood modules\n",
    "\n",
    "We usually end pipelines with one or more likelihood modules.  There's nothing special about these; any module that saves values to the \"likelihoods\" section of the block will do.  But because Gaussian likelihoods in particular are so common, CosmoSIS provides a parent class to do most of the work for you."
   ]
  },
  {
   "cell_type": "code",
   "execution_count": 12,
   "id": "5854dffc",
   "metadata": {},
   "outputs": [],
   "source": [
    "class Likelihood(cosmosis.GaussianLikelihood):\n",
    "    # The likelihood will be saved with this name,\n",
    "    # here target_like\n",
    "    like_name = \"target\"\n",
    "\n",
    "    # The parent class will look for these x and y values\n",
    "    # in the block, and interpolate the data x and y values to them.\n",
    "    # If interpolation is not suitable for your likelihood, you can\n",
    "    # instead override the extract_theory_points method.\n",
    "    x_section = \"poly\"\n",
    "    x_name = \"x\"\n",
    "    y_section = \"poly\"\n",
    "    y_name = \"y\"\n",
    "    \n",
    "    def __init__(self, options):\n",
    "        # The parent initializer calls the methods below\n",
    "        # after setting self.options to this options object\n",
    "        super().__init__(options)\n",
    "        print(\"Created a new likelihood called\", self.like_name)\n",
    "\n",
    "    # This is called from setup to load or simulate the\n",
    "    # data for the likelihood\n",
    "    def build_data(self):\n",
    "        # Let's make up some fake data to fit our model to\n",
    "        x = np.array([0.2, 0.31, 0.44, 0.77, 0.9])\n",
    "        y = (1.4 * x**2 - 3.1 * x - 0.8) ** 2\n",
    "        return x, y\n",
    "\n",
    "    # This is also called at the start to load the covariance\n",
    "    # matrix.  You could also overrride build_inverse_covariance\n",
    "    # if you have that already.\n",
    "    def build_covariance(self):\n",
    "        # We can read parameters from the config like this:\n",
    "        noise_level = self.options['noise_level']\n",
    "        sigma = np.array([0.05, 0.06, 0.04, 0.03, 0.1]) * noise_level\n",
    "        return np.diag(sigma**2)\n",
    "\n",
    "like_module = Likelihood.as_module(\"target\")"
   ]
  },
  {
   "cell_type": "markdown",
   "id": "0314e411",
   "metadata": {},
   "source": [
    "Now we have three modules and can set them all up at once, from the same config information:"
   ]
  },
  {
   "cell_type": "code",
   "execution_count": 13,
   "id": "4539d7bf",
   "metadata": {},
   "outputs": [
    {
     "name": "stdout",
     "output_type": "stream",
     "text": [
      "We will fit polynomials of degree 2\n",
      "**** WARNING: Parameter 'unused' in the [power] section never used!\n",
      "\n",
      "Created a new likelihood called target\n"
     ]
    }
   ],
   "source": [
    "params = {\n",
    "    \"poly\": {\n",
    "        \"degree\": 2\n",
    "    },\n",
    "    \"power\": {\n",
    "        \"exponent\": 2.0,\n",
    "        \"unused\": 666,  # Unused params like this will trigger a warning\n",
    "    },\n",
    "    \"target\": {\n",
    "        \"noise_level\": 1.0,\n",
    "    }\n",
    "}\n",
    "\n",
    "poly_module.setup(params)\n",
    "power_module.setup(params)\n",
    "like_module.setup(params)"
   ]
  },
  {
   "cell_type": "markdown",
   "id": "aa7b6aff",
   "metadata": {},
   "source": [
    "and now we have manually built our own pipeline!  Let's a the block through all three modules in sequence:"
   ]
  },
  {
   "cell_type": "code",
   "execution_count": 14,
   "id": "54940449",
   "metadata": {},
   "outputs": [
    {
     "data": {
      "text/plain": [
       "0"
      ]
     },
     "execution_count": 14,
     "metadata": {},
     "output_type": "execute_result"
    }
   ],
   "source": [
    "block = cosmosis.DataBlock()\n",
    "block['coefficients', 'p_0'] = +1.0\n",
    "block['coefficients', 'p_1'] = -1.0\n",
    "block['coefficients', 'p_2'] = +2.0\n",
    "poly_module.execute(block)\n",
    "power_module.execute(block)\n",
    "like_module.execute(block)"
   ]
  },
  {
   "cell_type": "markdown",
   "id": "9febdc9b",
   "metadata": {},
   "source": [
    "The 0 indicates success.  Now we can see what likelihood is saved in our block:"
   ]
  },
  {
   "cell_type": "code",
   "execution_count": 15,
   "id": "26676bb8",
   "metadata": {},
   "outputs": [
    {
     "name": "stdout",
     "output_type": "stream",
     "text": [
      "-10451.228075986577\n"
     ]
    }
   ],
   "source": [
    "print(block['likelihoods', 'target_like'])"
   ]
  },
  {
   "cell_type": "markdown",
   "id": "0c1af344",
   "metadata": {},
   "source": [
    "The likelihood has saved lots of things for us.  Explore the contents of the block yourself here:"
   ]
  },
  {
   "cell_type": "code",
   "execution_count": 16,
   "id": "b547a6d5",
   "metadata": {},
   "outputs": [],
   "source": [
    "# See what's in the block!"
   ]
  },
  {
   "cell_type": "markdown",
   "id": "27665158",
   "metadata": {},
   "source": [
    "## Pipelines\n",
    "\n",
    "CosmoSIS can do all the work of building and running pipelines for us. On the command line it would do all this from a configuration file.  Or we can build one manually.  Here's the full configuration info we will need:"
   ]
  },
  {
   "cell_type": "code",
   "execution_count": 17,
   "id": "c1ef1024",
   "metadata": {},
   "outputs": [],
   "source": [
    "# Configuration options for all our modules\n",
    "\n",
    "params = {\n",
    "    \"poly\": {\n",
    "        \"degree\": 2\n",
    "    },\n",
    "\n",
    "    \"power\": {\n",
    "        \"exponent\": 2.0,\n",
    "    },\n",
    "\n",
    "    \"target\": {\n",
    "        \"noise_level\": 1.0,\n",
    "    }\n",
    "}\n",
    "\n",
    "# The values can either contain individual values for parameters that are fixed,\n",
    "# or ranges as strings: \"min_value   start_value   max_value\".\n",
    "values = {\n",
    "    \"coefficients\": {\n",
    "        \"p_0\": \"-5.   0.0   5.0\",\n",
    "        \"p_1\": \"-5.   0.0   5.0\",\n",
    "        \"p_2\": \"-5.   0.0   5.0\",\n",
    "    }\n",
    "}\n"
   ]
  },
  {
   "cell_type": "markdown",
   "id": "4c4574e5",
   "metadata": {},
   "source": [
    "Now we can make our LikelihoodPipeline object.  This will set up our parameters automatically."
   ]
  },
  {
   "cell_type": "code",
   "execution_count": 18,
   "id": "e9232f9b",
   "metadata": {},
   "outputs": [
    {
     "name": "stdout",
     "output_type": "stream",
     "text": [
      "We will fit polynomials of degree 2\n",
      "Created a new likelihood called target\n",
      "\n",
      "Parameter Priors\n",
      "----------------\n",
      "coefficients--p_0  ~ U(-5.0, 5.0)\n",
      "coefficients--p_1  ~ U(-5.0, 5.0)\n",
      "coefficients--p_2  ~ U(-5.0, 5.0)\n",
      "\n"
     ]
    }
   ],
   "source": [
    "modules = [poly_module, power_module, like_module]\n",
    "pipe = cosmosis.LikelihoodPipeline(params, values=values, modules=modules)"
   ]
  },
  {
   "cell_type": "markdown",
   "id": "e266d830",
   "metadata": {},
   "source": [
    "Let's look at some of the methods our pipeline now has:"
   ]
  },
  {
   "cell_type": "code",
   "execution_count": 19,
   "id": "91b75b25",
   "metadata": {},
   "outputs": [
    {
     "name": "stdout",
     "output_type": "stream",
     "text": [
      "Lower limits: [-5. -5. -5.]\n",
      "Upper limits: [5. 5. 5.]\n",
      "Start point: [0. 0. 0.]\n",
      "Converting to unit cube:  [0.51 0.52 0.53]\n",
      "A likelihood: (-23169.040549987218, [])\n",
      "A prior: -6.907755278982138\n",
      "A posterior: (-23175.9483052662, [])\n"
     ]
    }
   ],
   "source": [
    "print(\"Lower limits:\", pipe.min_vector())\n",
    "print(\"Upper limits:\", pipe.max_vector())\n",
    "print(\"Start point:\", pipe.start_vector())\n",
    "\n",
    "print(\"Converting to unit cube: \", pipe.normalize_vector([0.1, 0.2, 0.3]))\n",
    "\n",
    "print(\"A likelihood:\", pipe.likelihood([0.1, 0.2, 0.3]))\n",
    "print(\"A prior:\", pipe.prior([0.1, 0.2, 0.3]))\n",
    "print(\"A posterior:\", pipe.posterior([0.1, 0.2, 0.3]))\n",
    "\n"
   ]
  },
  {
   "cell_type": "markdown",
   "id": "7651d7e7",
   "metadata": {},
   "source": [
    "# Samplers\n",
    "\n",
    "We can use our pipeline manually, but to really explore the parameter space we should use a sampler.  CosmoSIS wraps many things, and calls them all \"samplers\", even if some of them, like the maximum likelihood sampler we will use below, don't generate statistical samples.\n",
    "\n",
    "Let's make and configure"
   ]
  },
  {
   "cell_type": "code",
   "execution_count": 20,
   "id": "df12ae08",
   "metadata": {},
   "outputs": [
    {
     "name": "stdout",
     "output_type": "stream",
     "text": [
      "------------------------------------------------\n",
      "NOTE: Running optimizer in **max-posterior** mode:\n",
      "NOTE: Will maximize the combined likelihood and prior\n",
      "------------------------------------------------\n"
     ]
    }
   ],
   "source": [
    "# Each sampler has different configuration options.\n",
    "sampler_params = {\n",
    "    \"maxlike\": {\n",
    "        # max_posterior only matters if you have non-uniform priors\n",
    "        # on parameters. It won't make any difference here.\n",
    "        \"max_posterior\": True,\n",
    "        \"toleratnce\": 0.01\n",
    "    }\n",
    "}\n",
    "\n",
    "# Make a Maxlike sampler  There are many samplers to choose from!\n",
    "sampler = cosmosis.samplers.MaxlikeSampler(sampler_params, pipe)\n",
    "\n",
    "# The config method sets up the sampler.  It assumes the pipeline has already been configured.\n",
    "sampler.config()"
   ]
  },
  {
   "cell_type": "markdown",
   "id": "a24fead9",
   "metadata": {},
   "source": [
    "We run the sampler using the \"execute\" method:"
   ]
  },
  {
   "cell_type": "code",
   "execution_count": 21,
   "id": "bf058ac8",
   "metadata": {},
   "outputs": [
    {
     "name": "stderr",
     "output_type": "stream",
     "text": [
      "WARNING:root:Best fit (by posterior):\n",
      "0.7996032594329305   3.1023618511426747   -1.4024698938185725\n",
      "WARNING:root:Posterior: -6.908002493555869\n",
      "\n",
      "WARNING:root:Likelihood: -0.00024721457373099755\n",
      "\n"
     ]
    },
    {
     "name": "stdout",
     "output_type": "stream",
     "text": [
      "Optimization terminated successfully.\n",
      "         Current function value: 6.908002\n",
      "         Iterations: 81\n",
      "         Function evaluations: 141\n"
     ]
    }
   ],
   "source": [
    "sampler.execute()"
   ]
  },
  {
   "cell_type": "markdown",
   "id": "322c5e8f",
   "metadata": {},
   "source": [
    "The sampler's results are recorded in its `output` attribute.  The default output here just stores the results in lists, but when running from the command line they will be stored in text files instead.\n",
    "\n",
    "When they are stored as text, cosmosis parameter names are stored as {section}--{key}, such as coefficients--p_2 here"
   ]
  },
  {
   "cell_type": "code",
   "execution_count": 22,
   "id": "4f2b93f0",
   "metadata": {},
   "outputs": [
    {
     "name": "stdout",
     "output_type": "stream",
     "text": [
      "Best-fit quadratic (truth=1.4): [-1.40246989]\n",
      "Best-fit linear (truth=-3.1): [3.10236185]\n",
      "Best-fit constant (truth=-0.8): [0.79960326]\n"
     ]
    }
   ],
   "source": [
    "print(\"Best-fit quadratic (truth=1.4):\", sampler.output['coefficients--p_2'])\n",
    "print(\"Best-fit linear (truth=-3.1):\", sampler.output['coefficients--p_1'])\n",
    "print(\"Best-fit constant (truth=-0.8):\", sampler.output['coefficients--p_0'])"
   ]
  },
  {
   "cell_type": "markdown",
   "id": "42e9fc54",
   "metadata": {},
   "source": [
    "Interesting - these values may be negative (this will depend on your random number generator).  You have may spotted this when we wrote down the model!\n",
    "\n",
    "Let's explore this further using a proper MCMC sampler, in this case `emcee`."
   ]
  },
  {
   "cell_type": "code",
   "execution_count": 23,
   "id": "1183bca9",
   "metadata": {},
   "outputs": [
    {
     "name": "stdout",
     "output_type": "stream",
     "text": [
      "Begun sampling\n"
     ]
    },
    {
     "name": "stderr",
     "output_type": "stream",
     "text": [
      "/Users/jzuntz/src/cosmosis/env/lib/python3.9/site-packages/numpy/core/_asarray.py:171: VisibleDeprecationWarning: Creating an ndarray from ragged nested sequences (which is a list-or-tuple of lists-or-tuples-or ndarrays with different lengths or shapes) is deprecated. If you meant to do this, you must specify 'dtype=object' when creating the ndarray.\n",
      "  return array(a, dtype, copy=False, order=order, subok=True)\n"
     ]
    },
    {
     "name": "stdout",
     "output_type": "stream",
     "text": [
      "Done 100 iterations of emcee. Acceptance fraction 0.272\n"
     ]
    }
   ],
   "source": [
    "# We can include other sections in our sampler params.  In fact you can use the same configuration\n",
    "# for the modules too.\n",
    "sampler_params = {\n",
    "    \"maxlike\": {\n",
    "        \"max_posterior\": True,\n",
    "        \"toleratnce\": 0.01\n",
    "    },\n",
    "    \n",
    "    \"emcee\": {\n",
    "        \"walkers\": 16,\n",
    "        \"samples\": 1000,\n",
    "        \"steps\": 100,\n",
    "    }\n",
    "}\n",
    "sampler = cosmosis.samplers.EmceeSampler(sampler_params, pipe)\n",
    "sampler.config()\n",
    "sampler.execute()"
   ]
  },
  {
   "cell_type": "markdown",
   "id": "c7ac61b7",
   "metadata": {},
   "source": [
    "Some samplers, like this one, do a chunk of work (specified here by the `steps` parameter) and then pause sampling to write out the results.  If you want to keep going until the sampler has done the full number of samples, you can use this approach:"
   ]
  },
  {
   "cell_type": "code",
   "execution_count": 24,
   "id": "354749c8",
   "metadata": {},
   "outputs": [
    {
     "name": "stdout",
     "output_type": "stream",
     "text": [
      "Done 200 iterations of emcee. Acceptance fraction 0.255\n",
      "Done 300 iterations of emcee. Acceptance fraction 0.272\n",
      "Done 400 iterations of emcee. Acceptance fraction 0.282\n",
      "Done 500 iterations of emcee. Acceptance fraction 0.288\n",
      "Done 600 iterations of emcee. Acceptance fraction 0.292\n",
      "Done 700 iterations of emcee. Acceptance fraction 0.294\n",
      "Done 800 iterations of emcee. Acceptance fraction 0.296\n",
      "Done 900 iterations of emcee. Acceptance fraction 0.300\n",
      "Done 1000 iterations of emcee. Acceptance fraction 0.301\n"
     ]
    }
   ],
   "source": [
    "# Note that \"is_converged\" here just means \"is_finished\" for emcee.  Some samplers have built-in convergence\n",
    "# testing but not this one.\n",
    "while not sampler.is_converged():\n",
    "    sampler.execute()"
   ]
  },
  {
   "cell_type": "markdown",
   "id": "45f6303e",
   "metadata": {},
   "source": [
    "Now the sampler has finished we can plot the parameters as they explore the space"
   ]
  },
  {
   "cell_type": "code",
   "execution_count": 25,
   "id": "b0346f4b",
   "metadata": {},
   "outputs": [
    {
     "data": {
      "text/plain": [
       "[<matplotlib.lines.Line2D at 0x135466a30>]"
      ]
     },
     "execution_count": 25,
     "metadata": {},
     "output_type": "execute_result"
    },
    {
     "data": {
      "image/png": "[encoded data removed]",
      "text/plain": [
       "<Figure size 432x288 with 1 Axes>"
      ]
     },
     "metadata": {
      "needs_background": "light"
     },
     "output_type": "display_data"
    }
   ],
   "source": [
    "# Now we can pull out the samples \n",
    "p0_samples = sampler.output['coefficients--p_0']\n",
    "p1_samples = sampler.output['coefficients--p_1']\n",
    "p2_samples = sampler.output['coefficients--p_2']\n",
    "plot(p2_samples, ',')"
   ]
  },
  {
   "cell_type": "markdown",
   "id": "db40880d",
   "metadata": {},
   "source": [
    "Aha, multiple peaks in our likelihood!  That makes sense given our model, which squared our polynomial, so flipping the signs on all the parameters works just as well.  Let's do a scatter plot to see this more clearly."
   ]
  },
  {
   "cell_type": "code",
   "execution_count": 26,
   "id": "0c759a7a",
   "metadata": {},
   "outputs": [
    {
     "data": {
      "text/plain": [
       "<matplotlib.colorbar.Colorbar at 0x135526220>"
      ]
     },
     "execution_count": 26,
     "metadata": {},
     "output_type": "execute_result"
    },
    {
     "data": {
      "image/png": "[encoded data removed]",
      "text/plain": [
       "<Figure size 432x288 with 2 Axes>"
      ]
     },
     "metadata": {
      "needs_background": "light"
     },
     "output_type": "display_data"
    }
   ],
   "source": [
    "# We will use a cut to burn the first 10,000 samples, based on our plot above, and then\n",
    "# thin the remaining chain by 5 samples\n",
    "cut = slice(10000, None, 5)\n",
    "\n",
    "scatter(p0_samples[cut], p1_samples[cut], c=p1_samples[cut], s=1)\n",
    "colorbar()\n"
   ]
  },
  {
   "cell_type": "markdown",
   "id": "e1724b37",
   "metadata": {},
   "source": [
    "As you can see there are two clear peack in our likelihood, with all three parameters inverted between the two.\n",
    "\n",
    "\n",
    "# More information\n",
    "\n",
    "This notebook has introduced the core CosmoSIS concepts.  The other notebooks will explain post-processing to get plots and statistics from cosmosis output, and if you are a cosmologist you should check out the cosmosis standard library demods which build more realistic pipelines."
   ]
  }
 ],
 "metadata": {
  "kernelspec": {
   "display_name": "Python 3",
   "language": "python",
   "name": "python3"
  },
  "language_info": {
   "codemirror_mode": {
    "name": "ipython",
    "version": 3
   },
   "file_extension": ".py",
   "mimetype": "text/x-python",
   "name": "python",
   "nbconvert_exporter": "python",
   "pygments_lexer": "ipython3",
   "version": "3.9.4"
  }
 },
 "nbformat": 4,
 "nbformat_minor": 5
}
