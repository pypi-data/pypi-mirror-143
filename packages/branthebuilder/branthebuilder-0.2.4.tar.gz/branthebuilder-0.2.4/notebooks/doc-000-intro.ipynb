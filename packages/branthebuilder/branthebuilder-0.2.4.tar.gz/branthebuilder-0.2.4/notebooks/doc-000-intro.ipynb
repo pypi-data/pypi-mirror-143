{
 "cells": [
  {
   "cell_type": "markdown",
   "metadata": {},
   "source": [
    "# Installation\n",
    "\n",
    "```pip install branthebuilder```"
   ]
  },
  {
   "cell_type": "markdown",
   "metadata": {},
   "source": [
    "# Available tasks\n",
    "\n"
   ]
  },
  {
   "cell_type": "markdown",
   "metadata": {},
   "source": [
    "- clean\n",
    "- lint\n",
    "- notebook\n",
    "- purge\n",
    "- test\n",
    "- update-boilerplate\n",
    "- django.clean\n",
    "- django.nb\n",
    "- django.setup-dev\n",
    "- docs.build\n",
    "- docs.purge\n",
    "- docs.setup\n",
    "- release.build\n",
    "- release.new\n",
    "- release.tag\n",
    "- sonar.kill\n",
    "- sonar.scan\n",
    "- sonar.setup"
   ]
  }
 ],
 "metadata": {
  "kernelspec": {
   "display_name": "Python 3",
   "language": "python",
   "name": "python3"
  },
  "language_info": {
   "codemirror_mode": {
    "name": "ipython",
    "version": 3
   },
   "file_extension": ".py",
   "mimetype": "text/x-python",
   "name": "python",
   "nbconvert_exporter": "python",
   "pygments_lexer": "ipython3",
   "version": "3.8.10"
  }
 },
 "nbformat": 4,
 "nbformat_minor": 2
}
