{
 "cells": [
  {
   "cell_type": "markdown",
   "id": "4fd7b4f1",
   "metadata": {},
   "source": [
    "# Deep learning for HKL classification\n",
    "## TODO: Test for Triclinic --> if the model works for two extreme symmetry case, then it should work for intermediate symmetries as well\n",
    "\n",
    "## Now can predict with > 95% accuracy for multi grain Laue Patterns\n",
    "## If you have model save files; go to cell 45 to load and start prediction\n",
    "\n",
    "## Pros: Impressive speed for prediction; results not dependent on the statistical descriptor (ex: correlation function or distance measurment)\n",
    "## Cons: Building reliable test data can take few hours (this will significantly increase for less symmetry crystals) --> multiprocessing to reduce time"
   ]
  },
  {
   "cell_type": "markdown",
   "id": "820328d7",
   "metadata": {},
   "source": [
    "## Library import"
   ]
  },
  {
   "cell_type": "code",
   "execution_count": 51,
   "id": "15bc970b",
   "metadata": {},
   "outputs": [],
   "source": [
    "# Keras library is required \n",
    "# \"conda install -c conda-forge keras\" for anaconda distribution\n",
    "# Currently CPU calculation is more than enough. GPU not really needed"
   ]
  },
  {
   "cell_type": "code",
   "execution_count": 82,
   "id": "4eb7cbbd",
   "metadata": {},
   "outputs": [],
   "source": [
    "import numpy as np\n",
    "from tqdm import trange\n",
    "import matplotlib.pyplot as plt\n",
    "\n",
    "## Keras import\n",
    "import keras\n",
    "from keras.models import Sequential\n",
    "from keras.layers import Dense\n",
    "from keras.layers import Dropout\n",
    "from keras.utils import to_categorical\n",
    "\n",
    "## LaueTools import\n",
    "import LaueTools.dict_LaueTools as dictLT\n",
    "import LaueTools.findorient as FO\n",
    "import LaueTools.generaltools as GT\n",
    "import LaueTools.lauecore as LT\n",
    "import LaueTools.CrystalParameters as CP"
   ]
  },
  {
   "cell_type": "markdown",
   "id": "0a6a9d19",
   "metadata": {},
   "source": [
    "## Defining useful functions"
   ]
  },
  {
   "cell_type": "code",
   "execution_count": 83,
   "id": "6ddff046",
   "metadata": {},
   "outputs": [],
   "source": [
    "DEG = np.pi / 180.0\n",
    "\n",
    "def get_material_data(material_=\"Cu\", ang_maxx = 45, step = 0.5, hkl_ref=13, hklclass=11,\n",
    "                           classhkl = None):\n",
    "    a, b, c, alpha, beta, gamma = dictLT.dict_Materials[material_][1]\n",
    "    Gstar = CP.Gstar_from_directlatticeparams(a, b, c, alpha, beta, gamma)\n",
    "    rules = dictLT.dict_Materials[material_][-1]\n",
    "    \n",
    "    hkl2 = GT.threeindices_up_to(hkl_ref)\n",
    "    hkl2 = CP.ApplyExtinctionrules(hkl2,rules)\n",
    "\n",
    "    query_angle = ang_maxx/2.\n",
    "    angle_tol = ang_maxx/2.\n",
    "    hkl1 = classhkl\n",
    "    # compute square matrix containing angles\n",
    "    metrics = Gstar\n",
    "    H1 = hkl1\n",
    "    n1 = hkl1.shape[0]\n",
    "    H2 = hkl2\n",
    "    n2 = hkl2.shape[0]\n",
    "    \n",
    "    dstar_square_1 = np.diag(np.inner(np.inner(H1, metrics), H1))\n",
    "    dstar_square_2 = np.diag(np.inner(np.inner(H2, metrics), H2))\n",
    "    scalar_product = np.inner(np.inner(H1, metrics), H2) * 1.0\n",
    "    \n",
    "    d1 = np.sqrt(dstar_square_1.reshape((n1, 1))) * 1.0\n",
    "    d2 = np.sqrt(dstar_square_2.reshape((n2, 1))) * 1.0\n",
    "    outy = np.outer(d1, d2)\n",
    "    \n",
    "    ratio = scalar_product / outy\n",
    "    ratio = np.round(ratio, decimals=7)\n",
    "    tab_angulardist = np.arccos(ratio) / DEG\n",
    "    \n",
    "    np.putmask(tab_angulardist, np.abs(tab_angulardist) < 0.001, 400)\n",
    "    \n",
    "    closest_angles_values = []\n",
    "    for ang_ in trange(len(tab_angulardist)):\n",
    "        tab_angulardist_ = tab_angulardist[ang_,:]\n",
    "        angles_set = np.ravel(tab_angulardist_)  # 1D array\n",
    "        sorted_ind = np.argsort(angles_set)\n",
    "        sorted_angles = angles_set[sorted_ind]\n",
    "        \n",
    "        angle_query = angle_tol\n",
    "        if isinstance(query_angle, (list, np.ndarray, tuple)):\n",
    "            angle_query = query_angle[0]\n",
    "        \n",
    "        array_angledist = np.abs(sorted_angles - angle_query)\n",
    "        pos_min = np.argmin(array_angledist)\n",
    "        closest_angle = sorted_angles[pos_min]\n",
    "        \n",
    "        if np.abs(closest_angle - query_angle) > angle_tol:\n",
    "            if angle_query > 0.5:\n",
    "                pass\n",
    "            print(\"TODO function get_material_data\")\n",
    "            \n",
    "        condition = array_angledist <= angle_tol\n",
    "        closest_index_in_sorted_angles_raw = np.where(condition)[0]\n",
    "        closest_angles_values.append(np.take(sorted_angles, closest_index_in_sorted_angles_raw))\n",
    "    \n",
    "    codebars = []\n",
    "    angbins = np.arange(0, ang_maxx+step, step)\n",
    "    for i in trange(len(closest_angles_values)):\n",
    "        angles = closest_angles_values[i]\n",
    "        fingerprint = np.histogram(angles, bins=angbins, density=False)[0]\n",
    "        ## Normalize the histogram by its maximum: simple way \n",
    "        ## Maybe better normalization is possible.. to be seen\n",
    "        max_codebars = np.max(fingerprint)\n",
    "        fingerprint = fingerprint/ max_codebars\n",
    "        codebars.append(fingerprint)\n",
    "    return codebars, angbins"
   ]
  },
  {
   "cell_type": "markdown",
   "id": "2f8e838c",
   "metadata": {},
   "source": [
    "## Function to simulate Laue Patterns"
   ]
  },
  {
   "cell_type": "code",
   "execution_count": 84,
   "id": "83aacda5",
   "metadata": {},
   "outputs": [],
   "source": [
    "def simulatemultiplepatterns(n, key_material=None, emax=23,\n",
    "                             detectorparameters=None,\n",
    "                             sortintensity = False):\n",
    "    nbUBs=n\n",
    "    UBelemagnles = np.random.random((3,nbUBs))*360-180.\n",
    "    l_tth, l_chi, l_miller_ind, l_posx, l_posy, l_E, l_intensity = [],[],[],[],[],[],[]\n",
    "    \n",
    "    for angle_X, angle_Y, angle_Z in UBelemagnles.T:\n",
    "        UBmatrix = GT.fromelemangles_toMatrix([angle_X, angle_Y, angle_Z])\n",
    "        grain = CP.Prepare_Grain(key_material, UBmatrix)\n",
    "\n",
    "        if detectorparameters is None:\n",
    "            detectorparameters = [70.182, 1039.309, 944.122, 0.747, 0.071]\n",
    "            \n",
    "        s_tth, s_chi, s_miller_ind, s_posx, s_posy, s_E= LT.SimulateLaue_full_np(grain, 5, emax,\n",
    "                                                                                 detectorparameters,\n",
    "                                                                                 pixelsize=0.079142,\n",
    "                                                                                 removeharmonics=1)\n",
    "        s_intensity = 1./s_E\n",
    "        l_tth.append(s_tth)\n",
    "        l_chi.append(s_chi)\n",
    "        l_miller_ind.append(s_miller_ind)\n",
    "        l_posx.append(s_posx)\n",
    "        l_posy.append(s_posy)\n",
    "        l_E.append(s_E)\n",
    "        l_intensity.append(s_intensity)\n",
    "    #flat_list = [item for sublist in l for item in sublist]\n",
    "    s_tth = np.array([item for sublist in l_tth for item in sublist])\n",
    "    s_chi = np.array([item for sublist in l_chi for item in sublist])\n",
    "    s_miller_ind = np.array([item for sublist in l_miller_ind for item in sublist])\n",
    "    s_posx = np.array([item for sublist in l_posx for item in sublist])\n",
    "    s_posy = np.array([item for sublist in l_posy for item in sublist])\n",
    "    s_E = np.array([item for sublist in l_E for item in sublist])\n",
    "    s_intensity=np.array([item for sublist in l_intensity for item in sublist])\n",
    "    \n",
    "    if sortintensity:\n",
    "        indsort = np.argsort(s_intensity)[::-1]\n",
    "        s_tth=np.take(s_tth, indsort)\n",
    "        s_chi=np.take(s_chi, indsort)\n",
    "        s_miller_ind=np.take(s_miller_ind, indsort, axis=0)\n",
    "        s_posx=np.take(s_posx, indsort)\n",
    "        s_posy=np.take(s_posy, indsort)\n",
    "        s_E=np.take(s_E, indsort)\n",
    "        s_intensity=np.take(s_intensity, indsort)\n",
    "    return s_tth, s_chi, s_miller_ind"
   ]
  },
  {
   "cell_type": "code",
   "execution_count": 4,
   "id": "5792a044",
   "metadata": {},
   "outputs": [],
   "source": [
    "def getpatterns_(n, material_=None,emax=23, detectorparameters=None, sortintensity = False,\n",
    "                ang_maxx = 45, step = 0.5, classhkl = None, noisy_data=False, remove_peaks=False):\n",
    "    codebars = []\n",
    "    \n",
    "    s_tth, s_chi, s_miller_ind = simulatemultiplepatterns(n, key_material=material_, emax=emax,\n",
    "                                                         detectorparameters=detectorparameters,\n",
    "                                                         sortintensity = sortintensity)\n",
    "    if noisy_data:\n",
    "        ## apply random gaussian type noise to the data (tth and chi)\n",
    "        ## So adding noise to the angular distances\n",
    "        ## Instead of adding noise to all HKL's ... Add to few selected HKLs\n",
    "        ## Adding noise to randomly 30% of the HKLs\n",
    "        indices_noise = np.random.choice(len(s_tth), int(len(s_tth)*0.3), replace=False)\n",
    "        noise_ = np.random.normal(0,0.1,len(indices_noise))\n",
    "        s_tth[indices_noise] = s_tth[indices_noise] + noise_\n",
    "        s_chi[indices_noise] = s_chi[indices_noise] + noise_\n",
    "        \n",
    "    if remove_peaks:\n",
    "        len_mi = np.array([iq for iq in range(len(s_miller_ind))])\n",
    "        len_mi = len_mi[int(0.5*len(s_miller_ind)):]\n",
    "        indices_remove = np.random.choice(len_mi, int(len(s_miller_ind)*0.1), replace=False)\n",
    "        ## delete randomly selected less intense peaks\n",
    "        ## to simulate real peak detection, where some peaks may not be\n",
    "        ## well detected\n",
    "        s_tth = np.delete(s_tth, indices_remove)\n",
    "        s_chi = np.delete(s_chi, indices_remove)\n",
    "        s_miller_ind = np.delete(s_miller_ind, indices_remove, axis=0)\n",
    "        \n",
    "    # replace all hkl class with relevant hkls\n",
    "    location = []\n",
    "    for k, i in enumerate(s_miller_ind):\n",
    "        found = False\n",
    "        for l, j in enumerate(classhkl):\n",
    "            isok = commonclass(i,j,material_)\n",
    "            if isok:\n",
    "                location.append(l)\n",
    "                found = True\n",
    "                break\n",
    "        if not found:\n",
    "            location.append(-100) ## If this occurs then increase maximum HKL index\n",
    "    \n",
    "    allspots_the_chi = np.transpose(np.array([s_tth/2., s_chi]))\n",
    "    tabledistancerandom = np.transpose(GT.calculdist_from_thetachi(allspots_the_chi, allspots_the_chi))\n",
    "\n",
    "    angbins = np.arange(0,ang_maxx+step,step)\n",
    "    for i in range(len(tabledistancerandom)):\n",
    "        angles = tabledistancerandom[i]\n",
    "        angles = np.delete(angles, i)# removing the self distance\n",
    "        fingerprint = np.histogram(angles, bins=angbins, density=False)[0]\n",
    "        ## same normalization as before\n",
    "        max_codebars = np.max(fingerprint)\n",
    "        fingerprint = fingerprint/ max_codebars\n",
    "        codebars.append(fingerprint)\n",
    "    return codebars, angbins, s_miller_ind, location"
   ]
  },
  {
   "cell_type": "code",
   "execution_count": 85,
   "id": "db8fe92b",
   "metadata": {},
   "outputs": [],
   "source": [
    "# Other helper funtions to limit the HKL indices\n",
    "def spots_in_ROI(s_tth,s_chi,centerscattering=[70/2.,0],anglefromcenter=10.):\n",
    "    \"\"\" return spot indices of spot lying in a given direction around a central direction\"\"\"\n",
    "    # finding central spots\n",
    "    s_the = s_tth/2.\n",
    "    exp_s = np.array([s_the,s_chi]).T\n",
    "    dist=GT.calculdist_from_thetachi(np.array([centerscattering]),exp_s).flatten()\n",
    "    conddistin = dist<=anglefromcenter\n",
    "    condtth = s_tth<70\n",
    "    cond = np.logical_and(conddistin,condtth)\n",
    "    #cond = np.logical_and(dist>anglefromcenter,condtth)\n",
    "    spots_ix= np.where(cond)[0]\n",
    "    return spots_ix\n",
    "\n",
    "def classhkl_cubic(hkl):\n",
    "    \"\"\" unique representation of hkl for cubic case\n",
    "    \"\"\"\n",
    "    return sorted([abs(int(ind)) for ind in hkl])\n",
    "\n",
    "def commonclass(hkl1, hkl2, material_):\n",
    "    \"\"\" test if hkl1 and hkl2 belong to the same class\"\"\"\n",
    "    if material_ == \"Cu\":\n",
    "        cond1 = classhkl_cubic(hkl1)==classhkl_cubic(hkl2)\n",
    "        cond2 = np.sum(np.cross(classhkl_cubic(hkl1),classhkl_cubic(hkl2))**2)==0.\n",
    "    return cond1 or cond2"
   ]
  },
  {
   "cell_type": "markdown",
   "id": "42d8e572",
   "metadata": {},
   "source": [
    "## Function to prepare laue patterns with required inputs"
   ]
  },
  {
   "cell_type": "code",
   "execution_count": 6,
   "id": "e92c0383",
   "metadata": {},
   "outputs": [],
   "source": [
    "def prepare_LP(nbgrains, material_,verbose,plotLauePattern):\n",
    "    s_tth, s_chi, s_miller_ind = simulatemultiplepatterns(nbgrains,key_material=material_,sortintensity=True)\n",
    "    spots_in_center = spots_in_ROI(s_tth,s_chi)\n",
    "    if verbose:\n",
    "        print('nb of central spots',len(spots_in_center))\n",
    "        print('Central spots',spots_in_center)\n",
    "    \n",
    "    if plotLauePattern:\n",
    "        figlaue, axlaue= plt.subplots()\n",
    "        axlaue.scatter(s_tth,s_chi)\n",
    "        axlaue.scatter(s_tth[spots_in_center],s_chi[spots_in_center], c=\"r\")\n",
    "        axlaue.set_title('nb matrices: %d, nb spots : %d'%(nbgrains,len(s_tth)))\n",
    "    # considering all spots\n",
    "    allspots_the_chi = np.transpose(np.array([s_tth/2., s_chi]))\n",
    "    #print(\"Calculating all mutual angular distances of selected spots...\")\n",
    "    tabledistancerandom = np.transpose(GT.calculdist_from_thetachi(allspots_the_chi, allspots_the_chi))\n",
    "    # ground truth\n",
    "    hkl_sol = s_miller_ind\n",
    "    return tabledistancerandom, hkl_sol, spots_in_center"
   ]
  },
  {
   "cell_type": "markdown",
   "id": "093a533d",
   "metadata": {},
   "source": [
    "## Function to generate the test data for Neural network"
   ]
  },
  {
   "cell_type": "code",
   "execution_count": 7,
   "id": "ae6016e5",
   "metadata": {},
   "outputs": [],
   "source": [
    "def load_dataset(material_=\"Cu\", hkl_max_identify = 12, ang_maxx=18.,step=0.1, mode=0, \n",
    "                 nb_grains=1,grains_nb_simulate=100, data_realism = False): \n",
    "    \"\"\"\n",
    "    Only for Cubic symmetry now.... To extend for Zirconia\n",
    "    \"\"\"\n",
    "    n = hkl_max_identify\n",
    "    classhkl = []\n",
    "    if material_ == \"Cu\":\n",
    "        for i in range(1,n+1):\n",
    "            for j in range(0,i+1):\n",
    "                for k in range(0,j+1):\n",
    "                    classhkl.append([i,j,k])\n",
    "        classhkl = np.array(classhkl)\n",
    "    rules = dictLT.dict_Materials[material_][-1]\n",
    "    classhkl = CP.ApplyExtinctionrules(classhkl, rules)\n",
    "    classhkl = CP.FilterHarmonics_2(classhkl)  \n",
    "    classhkl = np.array([classhkl_cubic(hkl) for hkl in classhkl])\n",
    "    \n",
    "    codebars, angbins = get_material_data(material_ = material_, ang_maxx = ang_maxx, step = step, \\\n",
    "                                               hkl_ref=n, hklclass=n, classhkl=classhkl)\n",
    "    cb = np.array(codebars)\n",
    "    mi = classhkl\n",
    "    loc = np.array([ij for ij in range(len(classhkl))])\n",
    "    \n",
    "    if mode == 0:\n",
    "        # Idea 1 Just generate a dataset having an exact idea of how many grains\n",
    "        for i in trange(grains_nb_simulate):\n",
    "            codebars, angbins, s_miller_ind, location = getpatterns_(nb_grains, material_=material_,\n",
    "                                                                    sortintensity = True,\n",
    "                                                                    ang_maxx = ang_maxx, step = step,\n",
    "                                                                    classhkl = classhkl)\n",
    "            cb = np.vstack((cb, np.array(codebars)))\n",
    "            mi = np.vstack((mi, np.array(s_miller_ind)))\n",
    "            loc = np.hstack((loc, np.array(location)))\n",
    "    elif mode == 1:\n",
    "        # Idea 2 Or generate a database upto n grain LP\n",
    "        for i in trange(nb_grains):\n",
    "            for j in range(grains_nb_simulate):\n",
    "                if data_realism:\n",
    "                    ## three types of data augmentation to mimic reality ?\n",
    "                    if j < grains_nb_simulate*0.25:\n",
    "                        noisy_data = False\n",
    "                        remove_peaks = False\n",
    "                    elif (j > grains_nb_simulate*0.25) and (j < grains_nb_simulate*0.5):\n",
    "                        noisy_data = True\n",
    "                        remove_peaks = False\n",
    "                    elif (j > grains_nb_simulate*0.5) and (j < grains_nb_simulate*0.75):\n",
    "                        noisy_data = False\n",
    "                        remove_peaks = True\n",
    "                    elif (j > grains_nb_simulate*0.75):\n",
    "                        noisy_data = True\n",
    "                        remove_peaks = True\n",
    "                else:\n",
    "                    noisy_data = False\n",
    "                    remove_peaks = False\n",
    "                    \n",
    "                codebars, angbins, s_miller_ind, location = getpatterns_(i+1, material_=material_,\n",
    "                                                                        sortintensity = True,\n",
    "                                                                        ang_maxx = ang_maxx, step = step,\n",
    "                                                                        classhkl = classhkl, \n",
    "                                                                        noisy_data=noisy_data, \n",
    "                                                                        remove_peaks=remove_peaks)\n",
    "                cb = np.vstack((cb, np.array(codebars)))\n",
    "                mi = np.vstack((mi, np.array(s_miller_ind)))\n",
    "                loc = np.hstack((loc, np.array(location)))\n",
    "        \n",
    "    print(\"Min HKL class: \",np.min(loc))\n",
    "    print(\"Max HKL class: \",np.max(loc))\n",
    "    print(\"Total HKL class: \",len(classhkl))\n",
    "    \n",
    "    if np.min(loc) == -100:\n",
    "        print(\"Some HKL equivalent could not be found; check before continuing\")\n",
    "        return\n",
    "    \n",
    "    temp_ = to_categorical(loc)\n",
    "    trainX = cb\n",
    "    trainy = temp_\n",
    "    return trainX, trainy, classhkl, angbins"
   ]
  },
  {
   "cell_type": "markdown",
   "id": "822a5a4c",
   "metadata": {},
   "source": [
    "## Define the architecture and user defined loss function of the Neural Network"
   ]
  },
  {
   "cell_type": "code",
   "execution_count": 8,
   "id": "e62a65bc",
   "metadata": {},
   "outputs": [],
   "source": [
    "from keras import backend as K\n",
    "def categorical_focal_loss(alpha, gamma=2.):\n",
    "    alpha = np.array(alpha, dtype=np.float32)\n",
    "    def categorical_focal_loss_fixed(y_true, y_pred):\n",
    "        # Clip the prediction value to prevent NaN's and Inf's\n",
    "        epsilon = K.epsilon()\n",
    "        y_pred = K.clip(y_pred, epsilon, 1. - epsilon)\n",
    "        # Calculate Cross Entropy\n",
    "        cross_entropy = -y_true * K.log(y_pred)\n",
    "        # Calculate Focal Loss\n",
    "        loss = alpha * K.pow(1 - y_pred, gamma) * cross_entropy\n",
    "        # Compute mean loss in mini_batch\n",
    "        return K.mean(K.sum(loss, axis=-1))\n",
    "    return categorical_focal_loss_fixed\n",
    "\n",
    "def model_arch(trainX, trainy):\n",
    "    \"\"\"\n",
    "    Very simple and straight forward Neural Network with few hyperparameters\n",
    "    straighforward RELU activation strategy with cross entropy to identify the HKL\n",
    "    \"\"\"\n",
    "    n_bins, n_outputs = trainX.shape[1], trainy.shape[1]\n",
    "    alpha = np.ones(n_outputs) * 0.25\n",
    "    model = Sequential()\n",
    "    model.add(keras.Input(shape=(n_bins,)))\n",
    "    model.add(Dense(n_bins, activation='relu'))\n",
    "    #model.add(Dropout(0.1)) ## Adding dropout as we introduce some uncertain data with noise\n",
    "    model.add(Dense((n_bins), activation='relu'))\n",
    "    #model.add(Dropout(0.1))\n",
    "    model.add(Dense((n_bins)//2, activation='relu'))\n",
    "    #model.add(Dropout(0.1))\n",
    "    model.add(Dense(n_outputs, activation='softmax'))\n",
    "    model.compile(loss='categorical_crossentropy', optimizer='adam', metrics=['accuracy'])\n",
    "    #model.compile(loss=[categorical_focal_loss(alpha, gamma=2.)], optimizer='adam', metrics=['accuracy'])\n",
    "    model.summary()\n",
    "    return model"
   ]
  },
  {
   "cell_type": "markdown",
   "id": "7f16b08b",
   "metadata": {},
   "source": [
    "# Lets train the model"
   ]
  },
  {
   "cell_type": "markdown",
   "id": "4de24396",
   "metadata": {},
   "source": [
    "## generate data for model learning"
   ]
  },
  {
   "cell_type": "code",
   "execution_count": 10,
   "id": "3412f7f5",
   "metadata": {},
   "outputs": [
    {
     "name": "stdout",
     "output_type": "stream",
     "text": [
      "(1173874, 900)\n",
      "(1173874, 96)\n",
      "(96, 3)\n"
     ]
    }
   ],
   "source": [
    "## we generate Cu HKL's upto 12 indices with max angle of 30° and step of 0.1°\n",
    "# mode 0: When the user is certain regarding the number of grains present in the Laue Pattern; \n",
    "#         having this will speed up the data generation process\n",
    "# when mode 0 is selected: define nb_grains i.e. the number of grains one expects in a LP\n",
    "\n",
    "# mode 1: When the user is not certain regarding the number of grains present in the Laue Pattern; \n",
    "# when mode 1 is selected: define nb_grains i.e. the maximum number of grains a LP can have\n",
    "# we simulate sequentailly LP's upto nb_grains to increase our training dataset\n",
    "# when mode 1: grains_nb_simulate should be provided --> 100 grains per nb_grains is a good start point;\n",
    "# increasing this will slow the data generation process but will give more accuracy on the prediction\n",
    "\n",
    "# we train a model guessing that we can have upto 5 grains or less in an observed Laue Pattern\n",
    "## 5 grains with grains_nb_simulate = 100 takes 1min30sec to generate the data\n",
    "## 5 grains with grains_nb_simulate = 1000 takes 25min to generate the data\n",
    "## 10 grains with grains_nb_simulate = 1000 takes ~2hours\n",
    "############ USER INPUT\n",
    "material_=\"Cu\"\n",
    "hkl_max_identify = 12\n",
    "maximum_angle_to_search = 90 ## 2theta\n",
    "step_for_binning = 0.1\n",
    "mode_of_analysis = 1\n",
    "nb_grains_per_lp = 10\n",
    "grains_nb_simulate = 500\n",
    "save_data = False\n",
    "load_data = False\n",
    "generate_data = False\n",
    "## data_realism : whether to include noisy data and some spots missing LP or not\n",
    "############ GENERATING TRAINING DATA\n",
    "\n",
    "if load_data:\n",
    "    import _pickle as cPickle\n",
    "    with open(r\"data/hkl_training_data.pickle\", \"rb\") as input_file:\n",
    "        trainX, trainy, testX, testy, classhkl, angbins = cPickle.load(input_file)\n",
    "    print(trainX.shape)\n",
    "    print(trainy.shape)\n",
    "    print(classhkl.shape)\n",
    "    print(\"MOVE DIRECTLY TO CELL 49 to load model and predict\")\n",
    "elif generate_data:\n",
    "    trainX, trainy, classhkl, angbins = load_dataset(material_=material_, \n",
    "                                                     hkl_max_identify = hkl_max_identify, \n",
    "                                                     ang_maxx=maximum_angle_to_search,\n",
    "                                                     step=step_for_binning, \n",
    "                                                     mode=mode_of_analysis, \n",
    "                                                     nb_grains=nb_grains_per_lp,\n",
    "                                                     grains_nb_simulate=grains_nb_simulate,\n",
    "                                                     data_realism = True)\n",
    "\n",
    "    ############ GENERATING TESTING DATA\n",
    "    testX, testy, classhkl, _ = load_dataset(material_=material_, \n",
    "                                                     hkl_max_identify = hkl_max_identify, \n",
    "                                                     ang_maxx=maximum_angle_to_search,\n",
    "                                                     step=step_for_binning, \n",
    "                                                     mode=mode_of_analysis, \n",
    "                                                     nb_grains=nb_grains_per_lp,\n",
    "                                                     grains_nb_simulate=grains_nb_simulate//4,\n",
    "                                                     data_realism = False)\n",
    "\n",
    "    if save_data:\n",
    "        import _pickle as cPickle\n",
    "        with open(r\"hkl_training_data.pickle\", \"wb\") as output_file:\n",
    "            cPickle.dump([trainX, trainy, testX, testy, classhkl, angbins], output_file)"
   ]
  },
  {
   "cell_type": "markdown",
   "id": "7cc9ac52",
   "metadata": {},
   "source": [
    "## Check class imbalance"
   ]
  },
  {
   "cell_type": "markdown",
   "id": "cec12c7b",
   "metadata": {},
   "source": [
    "## Let's train the model"
   ]
  },
  {
   "cell_type": "code",
   "execution_count": 11,
   "id": "1ca17950",
   "metadata": {},
   "outputs": [
    {
     "name": "stdout",
     "output_type": "stream",
     "text": [
      "Class ID and frequency; check for data imbalance and select appropriate LOSS function for training the model\n",
      "Counter({9: 78312, 15: 61105, 19: 53100, 21: 45379, 4: 45333, 6: 43730, 5: 41576, 7: 41347, 3: 39886, 22: 38910, 29: 37317, 10: 36697, 8: 35741, 11: 34729, 14: 32504, 13: 32184, 12: 30818, 37: 28902, 18: 26746, 16: 25302, 20: 24969, 31: 24166, 38: 22698, 2: 22109, 27: 20988, 28: 20545, 39: 18236, 17: 16085, 36: 15900, 0: 15509, 50: 15096, 32: 14815, 30: 13606, 24: 12891, 23: 12118, 48: 10121, 25: 9838, 1: 8694, 62: 8442, 49: 8240, 41: 7798, 61: 5521, 26: 5444, 51: 4644, 42: 4493, 40: 3801, 34: 3601, 52: 3255, 63: 2940, 64: 2745, 33: 2679, 81: 893, 53: 630, 82: 406, 65: 175, 43: 125, 35: 1, 44: 1, 45: 1, 46: 1, 47: 1, 54: 1, 55: 1, 56: 1, 57: 1, 58: 1, 59: 1, 60: 1, 66: 1, 67: 1, 68: 1, 69: 1, 70: 1, 71: 1, 72: 1, 73: 1, 74: 1, 75: 1, 76: 1, 77: 1, 78: 1, 79: 1, 80: 1, 83: 1, 84: 1, 85: 1, 86: 1, 87: 1, 88: 1, 89: 1, 90: 1, 91: 1, 92: 1, 93: 1, 94: 1, 95: 1})\n"
     ]
    }
   ],
   "source": [
    "import collections\n",
    "temp_ = [np.where(r==1)[0][0] for r in trainy]\n",
    "counter=collections.Counter(temp_)\n",
    "print(\"Class ID and frequency; check for data imbalance and select appropriate LOSS function for training the model\")\n",
    "print(counter)"
   ]
  },
  {
   "cell_type": "code",
   "execution_count": 45,
   "id": "d97aeca3",
   "metadata": {},
   "outputs": [
    {
     "name": "stdout",
     "output_type": "stream",
     "text": [
      "Model: \"sequential_2\"\n",
      "_________________________________________________________________\n",
      "Layer (type)                 Output Shape              Param #   \n",
      "=================================================================\n",
      "dense_8 (Dense)              (None, 900)               810900    \n",
      "_________________________________________________________________\n",
      "dense_9 (Dense)              (None, 900)               810900    \n",
      "_________________________________________________________________\n",
      "dense_10 (Dense)             (None, 450)               405450    \n",
      "_________________________________________________________________\n",
      "dense_11 (Dense)             (None, 96)                43296     \n",
      "=================================================================\n",
      "Total params: 2,070,546\n",
      "Trainable params: 2,070,546\n",
      "Non-trainable params: 0\n",
      "_________________________________________________________________\n"
     ]
    }
   ],
   "source": [
    "##### MODEL CONSTRUCTION\n",
    "model = model_arch(trainX, trainy)"
   ]
  },
  {
   "cell_type": "code",
   "execution_count": 46,
   "id": "238e1633",
   "metadata": {},
   "outputs": [
    {
     "name": "stdout",
     "output_type": "stream",
     "text": [
      "Epoch 1/5\n",
      "12821/12821 [==============================] - 107s 8ms/step - loss: 0.1607 - accuracy: 0.9610 - val_loss: 0.1187 - val_accuracy: 0.9719\n",
      "Epoch 2/5\n",
      "12821/12821 [==============================] - 122s 10ms/step - loss: 0.0863 - accuracy: 0.9804 - val_loss: 0.1202 - val_accuracy: 0.9757\n",
      "Epoch 3/5\n",
      "12821/12821 [==============================] - 122s 10ms/step - loss: 0.0695 - accuracy: 0.9849 - val_loss: 0.1053 - val_accuracy: 0.9798\n",
      "Epoch 4/5\n",
      "12821/12821 [==============================] - 99s 8ms/step - loss: 0.0633 - accuracy: 0.9873 - val_loss: 0.1243 - val_accuracy: 0.9803\n",
      "Epoch 5/5\n",
      "12821/12821 [==============================] - 97s 8ms/step - loss: 0.0555 - accuracy: 0.9889 - val_loss: 0.1353 - val_accuracy: 0.9797\n"
     ]
    }
   ],
   "source": [
    "############ USER INPUT\n",
    "# try varying batch size and epochs\n",
    "epochs = 1\n",
    "batch_size = 25\n",
    "verbose = 1\n",
    "######### TRAIN THE DATA\n",
    "stats_model = model.fit(trainX, trainy, epochs=epochs, \n",
    "                        batch_size=batch_size, shuffle=1,\n",
    "                        validation_data=(testX, testy),\n",
    "                        verbose=verbose)"
   ]
  },
  {
   "cell_type": "markdown",
   "id": "f2c07e97",
   "metadata": {},
   "source": [
    "## Plot the losses and accuracy of Training"
   ]
  },
  {
   "cell_type": "code",
   "execution_count": 47,
   "id": "70a6ffcd",
   "metadata": {},
   "outputs": [
    {
     "name": "stdout",
     "output_type": "stream",
     "text": [
      "Training Accuracy:  0.9889113306999207\n",
      "Training Loss:  0.05552557483315468\n",
      "Validation Accuracy:  0.9797260165214539\n",
      "Validation Loss:  0.13530297577381134\n"
     ]
    },
    {
     "data": {
      "text/plain": [
       "<matplotlib.legend.Legend at 0x162087d0130>"
      ]
     },
     "execution_count": 47,
     "metadata": {},
     "output_type": "execute_result"
    },
    {
     "data": {
      "image/png": "[encoded data removed]",
      "text/plain": [
       "<Figure size 432x288 with 2 Axes>"
      ]
     },
     "metadata": {
      "needs_background": "light"
     },
     "output_type": "display_data"
    }
   ],
   "source": [
    "print( \"Training Accuracy: \", stats_model.history['accuracy'][-1])\n",
    "print( \"Training Loss: \", stats_model.history['loss'][-1])\n",
    "print( \"Validation Accuracy: \", stats_model.history['val_accuracy'][-1])\n",
    "print( \"Validation Loss: \", stats_model.history['val_loss'][-1])\n",
    "\n",
    "epochs = range(1, len(model.history.history['loss']) + 1)\n",
    "fig, ax = plt.subplots(1,2)\n",
    "ax[0].plot(epochs, model.history.history['loss'], 'r', label='Training loss')\n",
    "ax[0].plot(epochs, model.history.history['val_loss'], 'r', ls=\"dashed\", label='Validation loss')\n",
    "ax[0].legend()\n",
    "ax[1].plot(epochs, model.history.history['accuracy'], 'g', label='Training Accuracy')\n",
    "ax[1].plot(epochs, model.history.history['val_accuracy'], 'g', ls=\"dashed\", label='Validation Accuracy')\n",
    "ax[1].legend()"
   ]
  },
  {
   "cell_type": "markdown",
   "id": "3db2f719",
   "metadata": {},
   "source": [
    "## Save model config and weights"
   ]
  },
  {
   "cell_type": "code",
   "execution_count": 48,
   "id": "71ce52e0",
   "metadata": {},
   "outputs": [
    {
     "name": "stdout",
     "output_type": "stream",
     "text": [
      "Saved model to disk\n"
     ]
    }
   ],
   "source": [
    "#%% Save model config and weights\n",
    "model_json = model.to_json()\n",
    "with open(\"model.json\", \"w\") as json_file:\n",
    "    json_file.write(model_json)\n",
    "    \n",
    "# serialize weights to HDF5\n",
    "model.save_weights(\"my_model.h5\")\n",
    "print(\"Saved model to disk\")"
   ]
  },
  {
   "cell_type": "markdown",
   "id": "910dc196",
   "metadata": {},
   "source": [
    "## Load model weights for prediction"
   ]
  },
  {
   "cell_type": "code",
   "execution_count": 88,
   "id": "a9a449e2",
   "metadata": {},
   "outputs": [
    {
     "name": "stdout",
     "output_type": "stream",
     "text": [
      "Model built and weights are loaded\n"
     ]
    }
   ],
   "source": [
    "from keras.models import model_from_json\n",
    "# load json and create model\n",
    "json_file = open(r\"data\\model.json\", 'r')\n",
    "loaded_model_json = json_file.read()\n",
    "json_file.close()\n",
    "model = model_from_json(loaded_model_json)\n",
    "\n",
    "load_weights = r\"data\\my_model.h5\"\n",
    "model.load_weights(load_weights)\n",
    "print(\"Model built and weights are loaded\")"
   ]
  },
  {
   "cell_type": "markdown",
   "id": "9c9f964c",
   "metadata": {},
   "source": [
    "# Multi grain Laue Pattern Prediction"
   ]
  },
  {
   "cell_type": "markdown",
   "id": "298a3be2",
   "metadata": {},
   "source": [
    "## single prediction "
   ]
  },
  {
   "cell_type": "code",
   "execution_count": 89,
   "id": "82a70b7b",
   "metadata": {},
   "outputs": [
    {
     "name": "stdout",
     "output_type": "stream",
     "text": [
      "Spots in center:  219\n",
      "Total spots attempted: 219\n",
      "Total Good prediction: 218\n",
      "Total Bad prediction: 1\n",
      "Took 0.08892321586608887 seconds to load and predict all spots in one Laue Pattern\n"
     ]
    }
   ],
   "source": [
    "import time\n",
    "\n",
    "nbgrains = 5 ## Increase the number of grains to see how accuracy changes\n",
    "material_ = \"Cu\"\n",
    "verbose = 0\n",
    "\n",
    "tabledistancerandom, hkl_sol, spots_in_center = prepare_LP(nbgrains, \n",
    "                                                            material_,\n",
    "                                                            verbose,\n",
    "                                                            plotLauePattern=False)\n",
    "if len(spots_in_center) == 0:\n",
    "    print(\"No spots in center\")\n",
    "    \n",
    "spots_in_center = [sp for sp in range(len(tabledistancerandom))]# take all spots in Laue pattern\n",
    "    \n",
    "start_time = time.time()\n",
    "count_good = 0\n",
    "count_bad = 0\n",
    "codebars_all = []\n",
    "print(\"Spots in center: \",len(spots_in_center))\n",
    "for i in spots_in_center: ## identify the center HKL spots \n",
    "    spotangles = tabledistancerandom[i]\n",
    "    spotangles = np.delete(spotangles, i)# removing the self distance\n",
    "    codebars = np.histogram(spotangles, bins=angbins)[0]\n",
    "    ## normalize the same way as training data\n",
    "    max_codebars = np.max(codebars)\n",
    "    codebars = codebars/ max_codebars\n",
    "    codebars_all.append(codebars)\n",
    "## reshape for the model\n",
    "codebars = np.array(codebars_all)\n",
    "## Do prediction of all spots at once\n",
    "prediction = model.predict(codebars)\n",
    "class_predicted = np.argmax(prediction, axis = 1)\n",
    "## verify prediction (Assuming we dont know HKL solution)\n",
    "for i, gg in enumerate(class_predicted):\n",
    "    #if prediction[i,gg] > 0.9:\n",
    "    #    isgoodprediction = commonclass(classhkl[gg],hkl_sol[i],material_)\n",
    "    #    if isgoodprediction:\n",
    "    #        count_good += 1\n",
    "    #    else:\n",
    "    #        count_bad += 1\n",
    "\n",
    "    isgoodprediction = commonclass(classhkl[gg],hkl_sol[i],material_)\n",
    "    if isgoodprediction:\n",
    "        count_good += 1\n",
    "    else:\n",
    "        count_bad += 1\n",
    "print(\"Total spots attempted:\",len(spots_in_center))\n",
    "print(\"Total Good prediction:\",count_good)\n",
    "print(\"Total Bad prediction:\",count_bad)\n",
    "end_time = time.time()\n",
    "print(\"Took \"+ str(end_time-start_time)+\" seconds to load and predict all spots in one Laue Pattern\")"
   ]
  },
  {
   "cell_type": "markdown",
   "id": "ed76ac1e",
   "metadata": {},
   "source": [
    "## Batch prediction to get some stats"
   ]
  },
  {
   "cell_type": "code",
   "execution_count": 81,
   "id": "9b342379",
   "metadata": {},
   "outputs": [
    {
     "name": "stderr",
     "output_type": "stream",
     "text": [
      "100%|██████████| 100/100 [00:14<00:00,  6.88it/s]"
     ]
    },
    {
     "name": "stdout",
     "output_type": "stream",
     "text": [
      "***********\n",
      "Total Prediction:  527\n",
      "GOOD Prediction:  527\n",
      "BAD Prediction (in >90% Good predictions):  0\n"
     ]
    },
    {
     "name": "stderr",
     "output_type": "stream",
     "text": [
      "\n"
     ]
    }
   ],
   "source": [
    "nbgrains = 5\n",
    "material_ = \"Cu\"\n",
    "verbose = 0\n",
    "nbtestspots = 0\n",
    "nb_goods = 0\n",
    "nb_wrongs = 0\n",
    "bad_prediction_hkl = []\n",
    "\n",
    "for _ in trange(100):\n",
    "    tabledistancerandom, hkl_sol, spots_in_center = prepare_LP(nbgrains, \n",
    "                                                                material_,\n",
    "                                                                verbose,\n",
    "                                                                plotLauePattern=False)\n",
    "    nbtestspots = nbtestspots + len(spots_in_center)\n",
    "    for i in spots_in_center: ## identify the center HKL spots \n",
    "        spotangles = tabledistancerandom[i]\n",
    "        spotangles = np.delete(spotangles, i)# removing the self distance\n",
    "        codebars = np.histogram(spotangles, bins=angbins)[0]\n",
    "        \n",
    "        max_codebars = np.max(codebars)\n",
    "        codebars = codebars/ max_codebars\n",
    "        codebars = codebars.reshape((1,len(codebars)))\n",
    "        \n",
    "        prediction = model.predict(codebars)\n",
    "        class_predicted = np.argmax(prediction, axis = 1)\n",
    "        \n",
    "        ## verify prediction (Assuming we dont know HKL solution)\n",
    "        if prediction[0,class_predicted] > 0.9:\n",
    "            isgoodprediction = commonclass(classhkl[class_predicted][0],hkl_sol[i],material_)\n",
    "        else:\n",
    "            continue\n",
    "            \n",
    "        if isgoodprediction:\n",
    "            nb_goods += 1\n",
    "        elif not isgoodprediction:\n",
    "            nb_wrongs += 1\n",
    "            bad_prediction_hkl.append((classhkl[class_predicted][0], hkl_sol[i]))\n",
    "            \n",
    "        if verbose:\n",
    "            print(\"Actual HKL is \"+ str(hkl_sol[i]))\n",
    "            print(\"Predicted HKL is \"+ str(classhkl[class_predicted][0]))\n",
    "            print('goodprediction ',isgoodprediction)\n",
    "            print(\"**********************************\")\n",
    "        \n",
    "print(\"***********\")        \n",
    "print('Total Prediction: ',nbtestspots) \n",
    "print('GOOD Prediction: ',nb_goods)    \n",
    "print('BAD Prediction (in >90% Good predictions): ',nb_wrongs) \n"
   ]
  },
  {
   "cell_type": "code",
   "execution_count": null,
   "id": "c30b298a",
   "metadata": {},
   "outputs": [],
   "source": []
  }
 ],
 "metadata": {
  "kernelspec": {
   "display_name": "Python 3 (ipykernel)",
   "language": "python",
   "name": "python3"
  },
  "language_info": {
   "codemirror_mode": {
    "name": "ipython",
    "version": 3
   },
   "file_extension": ".py",
   "mimetype": "text/x-python",
   "name": "python",
   "nbconvert_exporter": "python",
   "pygments_lexer": "ipython3",
   "version": "3.8.11"
  }
 },
 "nbformat": 4,
 "nbformat_minor": 5
}
