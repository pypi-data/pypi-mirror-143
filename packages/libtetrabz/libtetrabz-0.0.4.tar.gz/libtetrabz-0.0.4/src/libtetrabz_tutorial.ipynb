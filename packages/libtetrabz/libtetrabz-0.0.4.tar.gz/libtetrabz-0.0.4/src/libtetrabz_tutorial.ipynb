{
 "cells": [
  {
   "cell_type": "markdown",
   "metadata": {
    "id": "pahorUv9vKeB"
   },
   "source": [
    "# LibTetraBZ tutorial\n",
    "This is tutorial for [LibtetraBZ](https://libtetrabz.osdn.jp/) which is a libraly to perform Brillouin-zone integrals with the optimized tetrahedron method [1].\n",
    "\n",
    "[1] \"Improved tetrahedron method for the Brillouin-zone integration applicable to response functions\", M. Kawamura, Y. Gohda, and S. Tsuneyuki, [Phys. Rev. B 89, 094515](https://journals.aps.org/prb/abstract/10.1103/PhysRevB.89.094515) (2014).\n",
    "\n",
    "## 1, Preparation\n",
    "Before we start this tutorial, the nessesarry packages should be installed.\n",
    "LibTeteraBZ package is installed through the pip command."
   ]
  },
  {
   "cell_type": "code",
   "execution_count": null,
   "metadata": {
    "id": "J2SIkJdsDkU0"
   },
   "outputs": [],
   "source": [
    "!pip install libtetrabz"
   ]
  },
  {
   "cell_type": "markdown",
   "metadata": {
    "id": "dGU3CIgJipXD"
   },
   "source": [
    "## 2, Density of states of free electron\n",
    "Let us start the simplest case, namely the calculation of density of states of free electron system, $\\varepsilon_k = k^2/2$.\n",
    "$$\n",
    "D(\\varepsilon) = \\int d^3 k \\delta(\\epsilon - \\varepsilon_k) = \n",
    "4 \\pi \\int_0^\\infty dk k^2 \\delta \\left(\\epsilon - \\frac{k^2}{2}\\right)\n",
    "=4 \\pi \\sqrt{2 \\varepsilon}.\n",
    "$$\n",
    "As above, we already know the analytical result of $D(\\varepsilon)$.\n",
    "Therefore, it is appropriate to verify the numerical Brillouin-zone integration.\n",
    "\n",
    "### 2.1, Smearing method\n",
    "Since the delta function $\\delta(\\varepsilon)$ has infinity, in the simulation, it is replaced by a smeared function such as the gaussian,\n",
    "$$\n",
    "\\tilde{\\delta}(\\varepsilon)=\\frac{1}{\\sigma \\sqrt{\\pi}}\\exp\\left(-\\frac{\\varepsilon^2}{\\sigma^2}\\right)\n",
    "$$\n"
   ]
  },
  {
   "cell_type": "code",
   "execution_count": null,
   "metadata": {
    "id": "PMHCYZa6Dtkd"
   },
   "outputs": [],
   "source": [
    "import numpy"
   ]
  },
  {
   "cell_type": "code",
   "execution_count": null,
   "metadata": {
    "id": "D3sXKMQmsR_E"
   },
   "outputs": [],
   "source": [
    "k_max = 3\n",
    "e_max = k_max**2 * 0.5"
   ]
  },
  {
   "cell_type": "code",
   "execution_count": null,
   "metadata": {
    "id": "YTO3AWCNsb36"
   },
   "outputs": [],
   "source": [
    "bvec = 2.0 * numpy.array([[k_max, 0.0, 0.0],\n",
    "                         [0.0, k_max, 0.0],\n",
    "                         [0.0, 0.0, k_max]])"
   ]
  },
  {
   "cell_type": "code",
   "execution_count": null,
   "metadata": {
    "id": "gyBelNxVD4ld"
   },
   "outputs": [],
   "source": [
    "ng0 = 10\n",
    "nb = 1\n",
    "ng = numpy.array([ng0, ng0, ng0])\n",
    "eig = numpy.empty([ng[0], ng[1], ng[2], nb], dtype=numpy.float_)\n",
    "for i0 in range(ng[0]):\n",
    "    for i1 in range(ng[1]):\n",
    "        for i2 in range(ng[2]):\n",
    "            ikvec = numpy.array([i0, i1, i2])\n",
    "            for ii in range(3):\n",
    "                if ikvec[ii] * 2 >= ng[ii]:\n",
    "                    ikvec[ii] += - ng[ii]\n",
    "            kvec = ikvec[0:3] / ng[0:3]\n",
    "            kvec[0:3] = kvec.dot(bvec)\n",
    "            #\n",
    "            eig[i0, i1, i2, 0] = 0.5 * kvec.dot(kvec)"
   ]
  },
  {
   "cell_type": "markdown",
   "metadata": {
    "id": "Bax0I1hrs1k4"
   },
   "source": [
    "$$\n",
    "D(\\varepsilon) = \\int d^3 k \\delta(\\varepsilon - \\varepsilon_k) \\approx\n",
    "\\sum_k \\frac{V_{BZ}}{N_k} \\tilde{\\delta}(\\varepsilon - \\varepsilon_k)\n",
    "$$"
   ]
  },
  {
   "cell_type": "code",
   "execution_count": null,
   "metadata": {},
   "outputs": [],
   "source": [
    "vbz = abs(numpy.linalg.det(bvec))"
   ]
  },
  {
   "cell_type": "markdown",
   "metadata": {},
   "source": [
    "$$\n",
    "\\sigma = \\left \\langle |\\nabla_k \\varepsilon_k| \\right \\rangle \\Delta k\n",
    "=  \\left \\langle \\sqrt{2\\varepsilon_k} \\right \\rangle \\Delta k\n",
    "$$"
   ]
  },
  {
   "cell_type": "code",
   "execution_count": null,
   "metadata": {},
   "outputs": [],
   "source": [
    "sigma=numpy.sqrt(2.0*eig).mean()*2.0*k_max/ng0"
   ]
  },
  {
   "cell_type": "code",
   "execution_count": null,
   "metadata": {},
   "outputs": [],
   "source": [
    "e=numpy.linspace(0.0, e_max, 10)\n",
    "dos=numpy.empty(e.shape[0], dtype=numpy.float_)\n",
    "for ie in range(e.shape[0]):\n",
    "    dos[ie] = numpy.exp(-(e[ie]-eig)**2/sigma**2).mean()*vbz/(sigma*numpy.sqrt(numpy.pi))"
   ]
  },
  {
   "cell_type": "code",
   "execution_count": null,
   "metadata": {},
   "outputs": [],
   "source": [
    "import matplotlib.pyplot as plt"
   ]
  },
  {
   "cell_type": "code",
   "execution_count": null,
   "metadata": {},
   "outputs": [],
   "source": [
    "e0=numpy.linspace(0.0, e_max, 100)\n",
    "dos0=4.0*numpy.pi*numpy.sqrt(2.0*e0)\n",
    "plt.plot(e0, dos0, label=\"Exact\")\n",
    "plt.plot(e, dos, label=\"Smearing\", linestyle=\"None\", marker=\"o\")\n",
    "plt.xlabel(\"Energy\")\n",
    "plt.ylabel(\"DOS\")\n",
    "plt.legend()\n",
    "plt.show()"
   ]
  },
  {
   "cell_type": "markdown",
   "metadata": {},
   "source": [
    "### 2.2, Tetrahedron method"
   ]
  },
  {
   "cell_type": "code",
   "execution_count": null,
   "metadata": {
    "id": "IjxVhoQXEAfW"
   },
   "outputs": [],
   "source": [
    "import libtetrabz"
   ]
  },
  {
   "cell_type": "code",
   "execution_count": null,
   "metadata": {},
   "outputs": [],
   "source": [
    "wght = libtetrabz.dos(bvec, eig, e)"
   ]
  },
  {
   "cell_type": "code",
   "execution_count": null,
   "metadata": {
    "id": "6Ne2FzwXEC4d"
   },
   "outputs": [],
   "source": [
    "dos_t = wght.sum(3).sum(2).sum(1).sum(0)*vbz"
   ]
  },
  {
   "cell_type": "code",
   "execution_count": null,
   "metadata": {},
   "outputs": [],
   "source": [
    "plt.plot(e0, dos0, label=\"Exact\")\n",
    "plt.plot(e, dos, label=\"Smearing\", linestyle=\"None\", marker=\"o\")\n",
    "plt.plot(e, dos_t, label=\"Tetrahedron\", linestyle=\"None\", marker=\"x\")\n",
    "plt.xlabel(\"Energy\")\n",
    "plt.ylabel(\"DOS\")\n",
    "plt.legend()\n",
    "plt.show()"
   ]
  },
  {
   "attachments": {},
   "cell_type": "markdown",
   "metadata": {},
   "source": [
    "## 3, Lindhard function\n",
    "\n",
    "Next example is the calculation of polarization function. \n",
    "We again consider the simplest case, the free electrons system.\n",
    "$$\n",
    "\\chi(q) = \\int d^3 k \\frac{\\theta(\\varepsilon_{\\rm F} - \\varepsilon_k) - \\theta(\\varepsilon_{\\rm F} - \\varepsilon_{k+q})}{\\varepsilon_{k+q} - \\varepsilon_k}\n",
    "$$\n",
    "If we set $k_{\\rm F}=1$,\n",
    "$$\n",
    "\\chi(q) = 2 \\pi \\left(1 + \\frac{1 - q^2/4}{q} \\log\\left|\\frac{q+2}{q-2} \\right|\\right)\n",
    "$$"
   ]
  },
  {
   "cell_type": "code",
   "execution_count": null,
   "metadata": {
    "id": "lh1IHM8dENNW"
   },
   "outputs": [],
   "source": [
    "k_max = 1.5\n",
    "bvec = 2.0 * numpy.array([[k_max, 0.0, 0.0],\n",
    "                         [0.0, k_max, 0.0],\n",
    "                         [0.0, 0.0, k_max]])\n",
    "vbz = abs(numpy.linalg.det(bvec))"
   ]
  },
  {
   "cell_type": "code",
   "execution_count": null,
   "metadata": {
    "id": "9RBcyltzKpJD"
   },
   "outputs": [],
   "source": [
    "ng0 = 10\n",
    "nb = 1\n",
    "ng = numpy.array([ng0, ng0, ng0])\n",
    "eig = numpy.empty([ng[0], ng[1], ng[2], nb], dtype=numpy.float_)"
   ]
  },
  {
   "cell_type": "code",
   "execution_count": null,
   "metadata": {
    "id": "Ldzbq-9FKrBU"
   },
   "outputs": [],
   "source": [
    "ef = 0.5\n",
    "qmax = 4.0"
   ]
  },
  {
   "cell_type": "code",
   "execution_count": null,
   "metadata": {
    "id": "qLD0eBJ7KszC"
   },
   "outputs": [],
   "source": [
    "eig1 = numpy.empty([ng[0], ng[1], ng[2], nb], dtype=numpy.float_)\n",
    "eig2 = numpy.empty([ng[0], ng[1], ng[2], nb], dtype=numpy.float_)\n",
    "qx = numpy.arange(0.0, qmax, 0.4)\n",
    "chi_t = numpy.empty(qx.shape, dtype=numpy.float_)\n",
    "chi_s = numpy.empty(qx.shape, dtype=numpy.float_)"
   ]
  },
  {
   "cell_type": "code",
   "execution_count": null,
   "metadata": {},
   "outputs": [],
   "source": [
    "import math\n",
    "sigma=numpy.sqrt(2.0*(eig1+ef)).mean()*2.0*k_max/ng0\n",
    "for iq in range(qx.shape[0]):\n",
    "    qvec = numpy.array([qx[iq], 0.0, 0.0])\n",
    "    chi_s[iq] = 0.0\n",
    "    for i0 in range(ng[0]):\n",
    "        for i1 in range(ng[1]):\n",
    "            for i2 in range(ng[2]):\n",
    "                ikvec = numpy.array([i0, i1, i2])\n",
    "                for ii in range(3):\n",
    "                    if ikvec[ii] * 2 >= ng[ii]:\n",
    "                        ikvec[ii] += - ng[ii]\n",
    "                kvec = ikvec[0:3] / ng[0:3]\n",
    "                kvec[0:3] = kvec.dot(bvec)\n",
    "                eig1 = 0.5 * kvec.dot(kvec) - ef\n",
    "                \n",
    "                kvec[0:3] += qvec[0:3]\n",
    "                eig2 = 0.5 * kvec.dot(kvec) - ef\n",
    "                \n",
    "                if abs(eig1 - eig2) < 1.0e-8:\n",
    "                    chi_s[iq] += numpy.exp(-eig1**2/sigma**2)/(sigma*numpy.sqrt(numpy.pi))\n",
    "                else:\n",
    "                    chi_s[iq] += 0.5*(math.erfc(eig1/sigma) - math.erfc(eig2/sigma))/(eig2 - eig1)\n",
    "    chi_s[iq] *= vbz / ng.prod(0)"
   ]
  },
  {
   "cell_type": "code",
   "execution_count": null,
   "metadata": {
    "id": "gs6Q1tFzKusG"
   },
   "outputs": [],
   "source": [
    "for iq in range(qx.shape[0]):\n",
    "    qvec = numpy.array([qx[iq], 0.0, 0.0])\n",
    "    for i0 in range(ng[0]):\n",
    "        for i1 in range(ng[1]):\n",
    "            for i2 in range(ng[2]):\n",
    "                ikvec = numpy.array([i0, i1, i2])\n",
    "                for ii in range(3):\n",
    "                    if ikvec[ii] * 2 >= ng[ii]:\n",
    "                        ikvec[ii] += - ng[ii]\n",
    "                kvec = ikvec[0:3] / ng[0:3]\n",
    "                kvec[0:3] = kvec.dot(bvec)\n",
    "                eig1[i0, i1, i2, 0] = 0.5 * kvec.dot(kvec) - ef\n",
    "                \n",
    "                kvec[0:3] += qvec[0:3]\n",
    "                eig2[i0, i1, i2, 0] = 0.5 * kvec.dot(kvec) - ef\n",
    "    if iq == 0:\n",
    "        e0 = numpy.array([0.0])\n",
    "        wght = libtetrabz.dos(bvec, eig1, e0)\n",
    "        chi_t[iq] = wght.sum() * vbz\n",
    "    else:\n",
    "        wght = libtetrabz.polstat(bvec, eig1, eig2)\n",
    "        chi_t[iq] = wght.sum() * vbz * 2.0"
   ]
  },
  {
   "cell_type": "code",
   "execution_count": null,
   "metadata": {
    "id": "KQOcBHg5KzZq"
   },
   "outputs": [],
   "source": [
    "qx0 = numpy.arange(0.0, qmax, 0.011)\n",
    "chi0 = qx0.copy()\n",
    "for iq in range(qx0.shape[0]):\n",
    "    if qx0[iq] < 1.0e-8:\n",
    "        chi0[iq] = 4.0 * numpy.pi\n",
    "    elif abs(qx0[iq] - 2.0) < 1.0e-8:\n",
    "        chi0[iq] = 2.0 * numpy.pi\n",
    "    else:\n",
    "        chi0[iq] = 2.0 * numpy.pi*(1.0 + (1.0 - 0.25 * qx0[iq]**2) / qx0[iq] * numpy.log(numpy.abs((qx0[iq] + 2) / (qx0[iq] - 2))))"
   ]
  },
  {
   "cell_type": "code",
   "execution_count": null,
   "metadata": {
    "id": "IpGTnO8LK6lS"
   },
   "outputs": [],
   "source": [
    "plt.plot(qx0, chi0, label=\"Exact\")\n",
    "plt.plot(qx, chi_s, label=\"Smearing\", linestyle=\"None\", marker=\"o\")\n",
    "plt.plot(qx, chi_t, label=\"Tetrahedron\", linestyle=\"None\", marker=\"x\")\n",
    "plt.legend()\n",
    "plt.xlim(0)\n",
    "plt.ylim(0)\n",
    "plt.xlabel(\"$q / k_F$\")\n",
    "plt.ylabel(\"$\\chi(q)$\")\n",
    "plt.show()"
   ]
  },
  {
   "cell_type": "markdown",
   "metadata": {
    "id": "mo3GriM1K9UK"
   },
   "source": [
    "## 4, Multiband, low dimension, and partial DOS\n",
    "We caonsider the simple honeycomb lattice which has two orbitals (bands) in a unit cell.\n"
   ]
  },
  {
   "cell_type": "code",
   "execution_count": null,
   "metadata": {},
   "outputs": [],
   "source": [
    "bvec = numpy.array([[1.0, 0.0, 0.0],\n",
    "                    [0.5, 0.5*numpy.sqrt(3.0), 0.0],\n",
    "                    [0.0, 0.0, 10.0]])"
   ]
  },
  {
   "cell_type": "code",
   "execution_count": null,
   "metadata": {},
   "outputs": [],
   "source": [
    "ham_indx = numpy.array([[0,  0, 0, 0, 1],\n",
    "                        [0,  0, 0, 1, 0],\n",
    "                        [-1, 0, 0, 0, 1],\n",
    "                        [1,  0, 0, 1, 0],\n",
    "                        [0, -1, 0, 0, 1],\n",
    "                        [0,  1, 0, 1, 0]])\n",
    "ham = numpy.array([-1.0, -1.0, -1.0, -1.0, -1.0, -1.0])"
   ]
  },
  {
   "cell_type": "code",
   "execution_count": null,
   "metadata": {},
   "outputs": [],
   "source": [
    "ng0 = 24\n",
    "nb = 2\n",
    "ng = numpy.array([ng0, ng0, 1])\n",
    "eig = numpy.empty([ng[0], ng[1], ng[2], nb], dtype=numpy.float_)\n",
    "proj = numpy.empty([ng[0], ng[1], ng[2], nb, nb], dtype=numpy.float_)\n",
    "wfc0 = numpy.array([[1.0, 1.0],\n",
    "                    [1.0, -1.0]]) / numpy.sqrt(2.0)\n",
    "for i0 in range(ng[0]):\n",
    "    for i1 in range(ng[1]):\n",
    "        for i2 in range(ng[2]):\n",
    "            kvec = numpy.array([i0, i1, i2]) / ng[0:3]\n",
    "            ham_k = numpy.zeros([nb, nb], dtype=numpy.complex_)\n",
    "            for ih in range(ham.shape[0]):\n",
    "                ham_k[ham_indx[ih, 3], ham_indx[ih, 4]] += ham[ih]*numpy.exp(2.0j*numpy.pi*kvec.dot(ham_indx[ih, 0:3]))\n",
    "            eig[i0, i1, i2, :], ham_k = numpy.linalg.eigh(ham_k)\n",
    "            ham_k[:, :] = wfc0.dot(ham_k)\n",
    "            for ib in range(nb):\n",
    "                for iwfc in range(2):\n",
    "                    proj[i0, i1, i2, ib, iwfc] = ham_k[iwfc, ib].real**2 +  ham_k[iwfc, ib].imag**2"
   ]
  },
  {
   "cell_type": "code",
   "execution_count": null,
   "metadata": {
    "id": "2_6ggSgcD8ms"
   },
   "outputs": [],
   "source": [
    "e = numpy.linspace(-3, 3, 100)"
   ]
  },
  {
   "cell_type": "code",
   "execution_count": null,
   "metadata": {},
   "outputs": [],
   "source": [
    "wght = libtetrabz.dos(bvec, eig, e)"
   ]
  },
  {
   "cell_type": "code",
   "execution_count": null,
   "metadata": {},
   "outputs": [],
   "source": [
    "dos = wght.sum(3).sum(2).sum(1).sum(0)\n",
    "pdos = numpy.zeros([e.shape[0], 2], dtype=numpy.float_)\n",
    "for ie in range(e.shape[0]):\n",
    "    for iwfc in range(2):\n",
    "        pdos[ie, iwfc] = (wght[:,:,:,:,ie]*proj[:,:,:,:,iwfc]).sum()"
   ]
  },
  {
   "cell_type": "code",
   "execution_count": null,
   "metadata": {},
   "outputs": [],
   "source": [
    "plt.plot(e, dos, label=\"Total\")\n",
    "plt.plot(e, pdos[:, 0], label=\"Bonding\")\n",
    "plt.plot(e, pdos[:, 1], label=\"Anti\")\n",
    "plt.xlabel(\"Energy\")\n",
    "plt.ylabel(\"DOS\")\n",
    "plt.ylim(0)\n",
    "plt.legend()\n",
    "plt.show()"
   ]
  },
  {
   "cell_type": "markdown",
   "metadata": {},
   "source": [
    "## 5, Simple-cubic tight-binding model, Fermi energy and Fermi surface"
   ]
  },
  {
   "cell_type": "code",
   "execution_count": null,
   "metadata": {},
   "outputs": [],
   "source": [
    "bvec=numpy.array([[10.0,0.0,0.0],\n",
    "                 [0.0,10.0,0.0],\n",
    "                 [0.0,0.0,10.0]])"
   ]
  },
  {
   "cell_type": "code",
   "execution_count": null,
   "metadata": {},
   "outputs": [],
   "source": [
    "ng0 = 10\n",
    "nb = 1\n",
    "ng = numpy.array([ng0, ng0, ng0])\n",
    "eig = numpy.empty([ng[0], ng[1], ng[2], nb], dtype=numpy.float_)\n",
    "vf = numpy.empty([ng[0], ng[1], ng[2], nb], dtype=numpy.float_)\n",
    "for i0 in range(ng[0]):\n",
    "    for i1 in range(ng[1]):\n",
    "        for i2 in range(ng[2]):\n",
    "            kvec = 2.0*numpy.pi*numpy.array([i0, i1, i2]) / ng[0:3]\n",
    "            eig[i0, i1, i2, 0] = - numpy.cos(kvec).sum(0)\n",
    "            vf[i0, i1, i2, 0] = numpy.sqrt((numpy.sin(kvec)**2).sum(0))"
   ]
  },
  {
   "cell_type": "code",
   "execution_count": null,
   "metadata": {},
   "outputs": [],
   "source": [
    "e=numpy.linspace(-3, 3, 100)"
   ]
  },
  {
   "cell_type": "code",
   "execution_count": null,
   "metadata": {},
   "outputs": [],
   "source": [
    "wght=libtetrabz.dos(bvec,eig,e)"
   ]
  },
  {
   "cell_type": "code",
   "execution_count": null,
   "metadata": {},
   "outputs": [],
   "source": [
    "dos=wght.sum(3).sum(2).sum(1).sum(0)"
   ]
  },
  {
   "cell_type": "code",
   "execution_count": null,
   "metadata": {},
   "outputs": [],
   "source": [
    "plt.plot(e, dos)\n",
    "plt.xlabel(\"Energy\")\n",
    "plt.ylabel(\"DOS\")\n",
    "plt.ylim(0)\n",
    "plt.show()"
   ]
  },
  {
   "cell_type": "code",
   "execution_count": null,
   "metadata": {},
   "outputs": [],
   "source": [
    "ef, wght, iteration=libtetrabz.fermieng(bvec, eig, 0.5)"
   ]
  },
  {
   "cell_type": "code",
   "execution_count": null,
   "metadata": {},
   "outputs": [],
   "source": [
    "wght.sum(), ef, iteration"
   ]
  },
  {
   "cell_type": "code",
   "execution_count": null,
   "metadata": {},
   "outputs": [],
   "source": [
    "with open(\"sc.frmsf\", \"w\") as f:\n",
    "    print(ng[0], ng[1], ng[2], file=f)\n",
    "    print(1, file=f)\n",
    "    print(nb, file=f)\n",
    "    for ii in range(3):\n",
    "        print(bvec[ii, 0], bvec[ii, 1], bvec[ii, 2], file=f)\n",
    "    for ib in range(nb):\n",
    "        for i0 in range(ng[0]):\n",
    "            for i1 in range(ng[1]):\n",
    "                for i2 in range(ng[2]):\n",
    "                    print(eig[i0, i1, i2, ib]-ef, file=f)\n",
    "    for ib in range(nb):\n",
    "        for i0 in range(ng[0]):\n",
    "            for i1 in range(ng[1]):\n",
    "                for i2 in range(ng[2]):\n",
    "                    print(vf[i0, i1, i2, ib], file=f)"
   ]
  },
  {
   "cell_type": "code",
   "execution_count": null,
   "metadata": {},
   "outputs": [],
   "source": []
  }
 ],
 "metadata": {
  "colab": {
   "collapsed_sections": [],
   "name": "libtetrabz_tutorial.ipynb",
   "provenance": []
  },
  "kernelspec": {
   "display_name": "Python 3 (ipykernel)",
   "language": "python",
   "name": "python3"
  },
  "language_info": {
   "codemirror_mode": {
    "name": "ipython",
    "version": 3
   },
   "file_extension": ".py",
   "mimetype": "text/x-python",
   "name": "python",
   "nbconvert_exporter": "python",
   "pygments_lexer": "ipython3",
   "version": "3.9.10"
  }
 },
 "nbformat": 4,
 "nbformat_minor": 1
}
