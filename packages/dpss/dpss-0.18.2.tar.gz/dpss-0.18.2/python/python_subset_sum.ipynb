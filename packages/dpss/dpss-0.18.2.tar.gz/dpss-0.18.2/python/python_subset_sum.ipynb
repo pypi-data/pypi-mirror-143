{
 "cells": [
  {
   "cell_type": "markdown",
   "metadata": {},
   "source": [
    "# dpss\n",
    "## Python and Rust Subset Sum Solver\n",
    "`dpss` is a python and rust library by which subset sum problem can be solved quickly.\n",
    "It offers not only a solver of subset sum problem, but also a function that finds combinations of integers that add up to the same values.\n",
    "\n",
    "https://github.com/europeanplaice/subset_sum"
   ]
  },
  {
   "cell_type": "code",
   "execution_count": 1,
   "metadata": {},
   "outputs": [],
   "source": [
    "!pip install dpss\n",
    "import dpss"
   ]
  },
  {
   "cell_type": "code",
   "execution_count": 2,
   "metadata": {},
   "outputs": [
    {
     "data": {
      "text/plain": [
       "[[([1050], [1050]),\n",
       "  ([1980], [30, 1950]),\n",
       "  ([2980], [80, 2900]),\n",
       "  ([3500], [200, 3300]),\n",
       "  ([4000], [20, 3980])],\n",
       " [([1050], [1050]),\n",
       "  ([1980], [30, 1950]),\n",
       "  ([2980], [80, 2900]),\n",
       "  ([3500, 4000], [20, 200, 3300, 3980])],\n",
       " [([1050], [1050]),\n",
       "  ([1980], [30, 1950]),\n",
       "  ([3500], [200, 3300]),\n",
       "  ([2980, 4000], [20, 80, 2900, 3980])],\n",
       " [([1050], [1050]),\n",
       "  ([1980], [30, 1950]),\n",
       "  ([4000], [20, 3980]),\n",
       "  ([2980, 3500], [80, 200, 2900, 3300])],\n",
       " [([1980], [30, 1950]),\n",
       "  ([2980], [80, 2900]),\n",
       "  ([1050, 3500, 4000], [20, 200, 1050, 3300, 3980])],\n",
       " [([1980], [30, 1950]),\n",
       "  ([2980], [80, 2900]),\n",
       "  ([3500], [200, 3300]),\n",
       "  ([1050, 4000], [20, 1050, 3980])],\n",
       " [([1980], [30, 1950]),\n",
       "  ([2980], [80, 2900]),\n",
       "  ([4000], [20, 3980]),\n",
       "  ([1050, 3500], [200, 1050, 3300])],\n",
       " [([1980], [30, 1950]),\n",
       "  ([3500], [200, 3300]),\n",
       "  ([1050, 2980, 4000], [20, 80, 1050, 2900, 3980])],\n",
       " [([1980], [30, 1950]),\n",
       "  ([3500], [200, 3300]),\n",
       "  ([4000], [20, 3980]),\n",
       "  ([1050, 2980], [80, 1050, 2900])],\n",
       " [([1980], [30, 1950]),\n",
       "  ([4000], [20, 3980]),\n",
       "  ([1050, 2980, 3500], [80, 200, 1050, 2900, 3300])]]"
      ]
     },
     "execution_count": 2,
     "metadata": {},
     "output_type": "execute_result"
    }
   ],
   "source": [
    "dpss.sequence_matcher(\n",
    "        [1980, 2980, 3500, 4000, 1050],\n",
    "        [1950, 2900, 30, 80, 3300, 200, 3980, 1050, 20], 10, 10, 10)"
   ]
  },
  {
   "cell_type": "code",
   "execution_count": 5,
   "metadata": {},
   "outputs": [
    {
     "data": {
      "text/plain": [
       "[[1, 4, 5], [2, 3, 5], [1, 2, 3, 4]]"
      ]
     },
     "execution_count": 5,
     "metadata": {},
     "output_type": "execute_result"
    }
   ],
   "source": [
    "dpss.find_subset_fast_only_positive([1, 2, 3, 4, 5], 10, 4)"
   ]
  },
  {
   "cell_type": "code",
   "execution_count": 4,
   "metadata": {},
   "outputs": [
    {
     "data": {
      "text/plain": [
       "[[1, 5], [2, 4], [1, 2, 3]]"
      ]
     },
     "execution_count": 4,
     "metadata": {},
     "output_type": "execute_result"
    }
   ],
   "source": [
    "dpss.find_subset([1, 2, 3, 4, 5], 6, 3)"
   ]
  }
 ],
 "metadata": {
  "interpreter": {
   "hash": "87233e2b4968e527509109d870f09729c2e86bc35e4c43b1869c1a8ef6433d05"
  },
  "kernelspec": {
   "display_name": "Python 3.9.5 ('env': venv)",
   "language": "python",
   "name": "python3"
  },
  "language_info": {
   "codemirror_mode": {
    "name": "ipython",
    "version": 3
   },
   "file_extension": ".py",
   "mimetype": "text/x-python",
   "name": "python",
   "nbconvert_exporter": "python",
   "pygments_lexer": "ipython3",
   "version": "3.9.5"
  },
  "orig_nbformat": 4
 },
 "nbformat": 4,
 "nbformat_minor": 2
}
