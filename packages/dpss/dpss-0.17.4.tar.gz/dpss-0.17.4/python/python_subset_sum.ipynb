{
 "cells": [
  {
   "cell_type": "markdown",
   "metadata": {},
   "source": [
    "# dpss\n",
    "## Python and Rust Subset Sum Solver\n",
    "`dpss` is a python and rust library by which subset sum problem can be solved quickly.\n",
    "It offers not only a solver of subset sum problem, but also a function that finds combinations of integers that add up to the same values.\n",
    "\n",
    "https://github.com/europeanplaice/subset_sum"
   ]
  },
  {
   "cell_type": "code",
   "execution_count": 2,
   "metadata": {},
   "outputs": [],
   "source": [
    "# !pip install dpss\n",
    "import dpss"
   ]
  },
  {
   "cell_type": "code",
   "execution_count": 5,
   "metadata": {},
   "outputs": [
    {
     "name": "stdout",
     "output_type": "stream",
     "text": [
      "67.1 ms ± 6.41 ms per loop (mean ± std. dev. of 7 runs, 10 loops each)\n"
     ]
    }
   ],
   "source": [
    "%%timeit\n",
    "dpss.sequence_matcher(\n",
    "        [183, 36, 231, 128, 137],\n",
    "        [8, 9, 15, 15, 33, 36, 39, 45, 46, 60, 68, 73, 80, 92, 96], 1, 100, 100)"
   ]
  },
  {
   "cell_type": "code",
   "execution_count": 5,
   "metadata": {},
   "outputs": [
    {
     "data": {
      "text/plain": [
       "[[1, 4, 5], [2, 3, 5], [1, 2, 3, 4]]"
      ]
     },
     "execution_count": 5,
     "metadata": {},
     "output_type": "execute_result"
    }
   ],
   "source": [
    "dpss.find_subset_fast_only_positive([1, 2, 3, 4, 5], 10, 4)"
   ]
  },
  {
   "cell_type": "code",
   "execution_count": 4,
   "metadata": {},
   "outputs": [
    {
     "data": {
      "text/plain": [
       "[[1, 5], [2, 4], [1, 2, 3]]"
      ]
     },
     "execution_count": 4,
     "metadata": {},
     "output_type": "execute_result"
    }
   ],
   "source": [
    "dpss.find_subset([1, 2, 3, 4, 5], 6, 3)"
   ]
  }
 ],
 "metadata": {
  "interpreter": {
   "hash": "87233e2b4968e527509109d870f09729c2e86bc35e4c43b1869c1a8ef6433d05"
  },
  "kernelspec": {
   "display_name": "Python 3.9.5 ('env': venv)",
   "language": "python",
   "name": "python3"
  },
  "language_info": {
   "codemirror_mode": {
    "name": "ipython",
    "version": 3
   },
   "file_extension": ".py",
   "mimetype": "text/x-python",
   "name": "python",
   "nbconvert_exporter": "python",
   "pygments_lexer": "ipython3",
   "version": "3.9.5"
  },
  "orig_nbformat": 4
 },
 "nbformat": 4,
 "nbformat_minor": 2
}
