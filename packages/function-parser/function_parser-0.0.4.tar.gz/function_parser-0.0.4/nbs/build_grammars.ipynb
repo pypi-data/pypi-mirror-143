{
 "cells": [
  {
   "cell_type": "markdown",
   "metadata": {},
   "source": [
    "# Download Grammars:\n",
    "```bash\n",
    "git clone https://github.com/tree-sitter/tree-sitter-python.git\n",
    "cd tree-sitter-python && git checkout tags/v0.14.0 && cd ..\n",
    "\n",
    "git clone https://github.com/tree-sitter/tree-sitter-go.git\n",
    "cd tree-sitter-go && git checkout tags/v0.13.3 && cd ..\n",
    "\n",
    "git clone https://github.com/tree-sitter/tree-sitter-java.git\n",
    "cd tree-sitter-java && git checkout tags/v0.13.0 && cd ..\n",
    "```"
   ]
  },
  {
   "cell_type": "markdown",
   "metadata": {},
   "source": [
    "```python\n",
    "from tree_sitter import Language\n",
    "\n",
    "Language.build_library(\n",
    "    # Store the library in the directory\n",
    "    '<out_dir>/tree-sitter-languages.so',\n",
    "    # Include one or more languages\n",
    "    [\n",
    "        '<path/to/repo>/tree-sitter-python',\n",
    "        '<path/to/repo>/tree-sitter-go',\n",
    "        '<path/to/repo>/tree-sitter-java'\n",
    "    ]\n",
    ")\n",
    "```"
   ]
  }
 ],
 "metadata": {
  "kernelspec": {
   "display_name": "Python 3",
   "language": "python",
   "name": "python3"
  }
 },
 "nbformat": 4,
 "nbformat_minor": 2
}
